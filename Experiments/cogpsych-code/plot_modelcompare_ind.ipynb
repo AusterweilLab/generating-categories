{
 "cells": [
  {
   "cell_type": "code",
   "execution_count": 15,
   "metadata": {},
   "outputs": [],
   "source": [
    "#Shows each individual plot along with which model best fits it\n",
    "import pickle, math\n",
    "import pandas as pd\n",
    "import sqlite3\n",
    "import random\n",
    "import os\n",
    "execfile('Imports.py')\n",
    "import Modules.Funcs as funcs\n",
    "from Modules.Classes import Simulation\n",
    "from Modules.Classes import CopyTweak\n",
    "from Modules.Classes import CopyTweakRep\n",
    "from Modules.Classes import Packer\n",
    "from Modules.Classes import PackerRep\n",
    "from Modules.Classes import ConjugateJK13\n",
    "from Modules.Classes import RepresentJK13\n",
    "from scipy.stats import stats as ss\n",
    "import numpy as np\n",
    "import matplotlib.pyplot as plt\n",
    "import seaborn as sns\n",
    "sns.set_style(\"whitegrid\")\n",
    "\n",
    "# Specify default dataname\n",
    "dbname = 'experiments-5con.db'#raw data\n",
    "dataname_def = '5con'#bestparms also comes from here\n",
    "\n",
    "#plotting options\n",
    "STAT_LIMS =  (-1.0, 1.0)\n",
    "#Fit to only last trial?\n",
    "fitlast = False\n",
    "#Make plots?\n",
    "doplots = True\n",
    "saveplots = True\n",
    "if fitlast:\n",
    "    showlast = True\n",
    "else:\n",
    "    showlast = False #True = Show last even if fitting to all?\n",
    "#Bootstrap parameters\n",
    "nbootstraps = 1000\n",
    "if fitlast and showlast:\n",
    "    savedir = 'private/individual_modelcomp_{}/fitlast'.format(dataname_def)\n",
    "elif showlast:\n",
    "    savedir = 'private/individual_modelcomp_{}/showonlylast/'.format(dataname_def)\n",
    "elif fitlast:\n",
    "    savedir = 'private/individual_modelcomp_{}/fitlast'.format(dataname_def)\n",
    "else:\n",
    "    savedir = 'private/individual_modelcomp_{}/showall'.format(dataname_def)\n",
    "# savefilename='modelvsppt{}_t.pdf'.format(corrtype)\n",
    "# modeleaseDB = \"pickles/modelease_corr{}.p\".format(corrtype)\n",
    "\n",
    "#Some plotting options\n",
    "font = {'family' : 'DejaVu Sans',\n",
    "        'weight' : 'regular',\n",
    "        'size'   : 15}\n",
    "\n",
    "#Specify simulation values\n",
    "N_SAMPLES = 10000\n",
    "WT_THETA = 1.5\n",
    "MIN_LL = 1e-10\n",
    "\n",
    "\n",
    "participant_def = 'all'\n",
    "unique_trials_def = 'all'\n",
    "dataname = dataname_def\n",
    "execfile('validate_data.py')\n",
    "\n",
    "bestparmdb = \"pickles/chtc_gs_best_params_{}\".format(src)\n",
    "\n",
    "\n",
    "plt.rc('font', **font)\n",
    "\n",
    "# get data from pickle\n",
    "with open(pickledir+src, \"rb\" ) as f:\n",
    "    trials = pickle.load( f )\n",
    "\n",
    "# get best params pickle\n",
    "#bestparmdb = \"pickles/chtc_gs_best_params_all_data_e1_e2.p\"\n",
    "#bestparmdb = \"pickles/chtc_gs_best_params_corrs.p\"\n",
    "with open(bestparmdb, \"rb\" ) as f:\n",
    "    best_params_t = pickle.load( f )\n",
    "\n",
    "#Rebuild it into a smaller dict\n",
    "best_params = dict()\n",
    "for modelname in best_params_t.keys():    \n",
    "    best_params[modelname] = dict()\n",
    "    for i,parmname in enumerate(best_params_t[modelname]['parmnames']):\n",
    "        parmval = best_params_t[modelname]['bestparmsll']\n",
    "        best_params[modelname][parmname] = parmval[i]\n",
    "modelList = [Packer,RepresentJK13]\n",
    "#modelList = [CopyTweak,CopyTweakRep,Packer, RepresentJK13,]                            \n",
    "\n",
    "#Specify plot order\n",
    "modelPlotOrder = np.array([[Packer,RepresentJK13],[CopyTweak,ConjugateJK13]])\n",
    "#modelPlotOrder = np.array([[CopyTweak,CopyTweakRep],[Packer,RepresentJK13]])\n",
    "\n",
    "#Prepare matched database    \n",
    "matchdb='../cat-assign/data_utilities/cmp_midbot.db'\n",
    "        \n",
    "unique_trials = 'all'\n",
    "trials.task = task\n",
    "\n",
    "\n"
   ]
  },
  {
   "cell_type": "code",
   "execution_count": 16,
   "metadata": {},
   "outputs": [],
   "source": [
    "con = sqlite3.connect(dbname)\n",
    "participants = pd.read_sql_query(\"SELECT participant, condition from participants\", con)\n",
    "generation = pd.read_sql_query(\"SELECT * from generation\", con)\n",
    "alphas = pd.read_sql_query(\"SELECT * from alphas\", con)\n",
    "stimuli = pd.read_sql_query(\"SELECT * from stimuli\", con).values\n",
    "con.close()\n"
   ]
  },
  {
   "cell_type": "code",
   "execution_count": 55,
   "metadata": {},
   "outputs": [
    {
     "name": "stdout",
     "output_type": "stream",
     "text": [
      "[ 2  3  4 23]\n",
      "[ 1  5  0 28]\n"
     ]
    },
    {
     "data": {
      "text/plain": [
       "array([[ 1,  1],\n",
       "       [ 1,  3],\n",
       "       [ 5,  0],\n",
       "       [ 2, 23]])"
      ]
     },
     "execution_count": 55,
     "metadata": {},
     "output_type": "execute_result"
    }
   ],
   "source": [
    "a = np.array([[1,2],[1,3],[5,4],[2,23]])\n",
    "ax = 1\n",
    "b = a[:,ax].copy()\n",
    "c = b+np.array([-1,2,-4,5])\n",
    "print(b)\n",
    "print(c)\n",
    "d = np.min([b,c],axis=0)\n",
    "a[:,1] = d\n",
    "a"
   ]
  },
  {
   "cell_type": "code",
   "execution_count": 32,
   "metadata": {},
   "outputs": [
    {
     "name": "stdout",
     "output_type": "stream",
     "text": [
      "Ppt: 0\n",
      "Ppt: 1\n",
      "Ppt: 2\n",
      "Ppt: 3\n",
      "Ppt: 4\n",
      "Ppt: 5\n",
      "Ppt: 6\n",
      "Ppt: 7\n",
      "Ppt: 8\n",
      "Ppt: 9\n",
      "Ppt: 10\n",
      "Ppt: 11\n",
      "Ppt: 12\n",
      "Ppt: 13\n",
      "Ppt: 14\n",
      "Ppt: 15\n",
      "Ppt: 16\n",
      "Ppt: 17\n",
      "Ppt: 18\n",
      "Ppt: 19\n",
      "Ppt: 20\n",
      "Ppt: 21\n",
      "Ppt: 22\n",
      "Ppt: 23\n",
      "Ppt: 24\n",
      "Ppt: 25\n",
      "Ppt: 26\n",
      "Ppt: 27\n",
      "Ppt: 28\n",
      "Ppt: 29\n",
      "Ppt: 30\n",
      "Ppt: 31\n",
      "Ppt: 32\n",
      "Ppt: 33\n",
      "Ppt: 34\n",
      "Ppt: 35\n",
      "Ppt: 36\n",
      "Ppt: 37\n",
      "Ppt: 38\n",
      "Ppt: 39\n",
      "Ppt: 40\n",
      "Ppt: 41\n",
      "Ppt: 42\n",
      "Ppt: 43\n",
      "Ppt: 44\n",
      "Ppt: 45\n",
      "Ppt: 46\n",
      "Ppt: 47\n",
      "Ppt: 48\n",
      "Ppt: 49\n",
      "Ppt: 50\n",
      "Ppt: 51\n",
      "Ppt: 52\n",
      "Ppt: 53\n",
      "Ppt: 54\n",
      "Ppt: 55\n",
      "Ppt: 56\n",
      "Ppt: 57\n",
      "Ppt: 58\n",
      "Ppt: 59\n",
      "Ppt: 60\n",
      "Ppt: 61\n",
      "Ppt: 62\n",
      "Ppt: 63\n",
      "Ppt: 64\n",
      "Ppt: 65\n",
      "Ppt: 66\n",
      "Ppt: 67\n",
      "Ppt: 68\n",
      "Ppt: 69\n",
      "Ppt: 70\n",
      "Ppt: 71\n",
      "Ppt: 72\n",
      "Ppt: 73\n",
      "Ppt: 74\n",
      "Ppt: 75\n",
      "Ppt: 76\n",
      "Ppt: 77\n",
      "Ppt: 78\n",
      "Ppt: 79\n",
      "Ppt: 80\n",
      "Ppt: 81\n",
      "Ppt: 82\n",
      "Ppt: 83\n",
      "Ppt: 84\n",
      "Ppt: 85\n",
      "Ppt: 86\n",
      "Ppt: 87\n",
      "Ppt: 88\n",
      "Ppt: 89\n",
      "Ppt: 90\n",
      "Ppt: 91\n",
      "Ppt: 92\n",
      "Ppt: 93\n",
      "Ppt: 94\n",
      "Ppt: 95\n",
      "Ppt: 96\n",
      "Ppt: 97\n",
      "Ppt: 98\n",
      "Ppt: 99\n",
      "Ppt: 100\n",
      "Ppt: 101\n",
      "Ppt: 102\n",
      "Ppt: 103\n",
      "Ppt: 104\n",
      "Ppt: 105\n",
      "Ppt: 106\n",
      "Ppt: 107\n",
      "Ppt: 108\n",
      "Ppt: 109\n",
      "Ppt: 110\n",
      "Ppt: 111\n",
      "Ppt: 112\n",
      "Ppt: 113\n",
      "Ppt: 114\n",
      "Ppt: 115\n",
      "Ppt: 116\n",
      "Ppt: 117\n",
      "Ppt: 118\n",
      "Ppt: 119\n",
      "Ppt: 120\n",
      "Ppt: 121\n",
      "Ppt: 122\n",
      "Ppt: 123\n",
      "Ppt: 124\n",
      "Ppt: 125\n",
      "Ppt: 126\n",
      "Ppt: 127\n",
      "Ppt: 128\n",
      "Ppt: 129\n",
      "Ppt: 130\n",
      "Ppt: 131\n",
      "Ppt: 132\n",
      "Ppt: 133\n",
      "Ppt: 134\n",
      "Ppt: 135\n",
      "Ppt: 136\n",
      "Ppt: 137\n",
      "Ppt: 138\n",
      "Ppt: 139\n",
      "Ppt: 140\n",
      "Ppt: 141\n",
      "Ppt: 142\n",
      "Ppt: 143\n",
      "Ppt: 144\n",
      "Ppt: 145\n",
      "Ppt: 146\n",
      "Ppt: 147\n",
      "Ppt: 148\n",
      "Ppt: 149\n",
      "Ppt: 150\n",
      "Ppt: 151\n",
      "Ppt: 152\n",
      "Ppt: 153\n",
      "Ppt: 154\n",
      "Ppt: 155\n",
      "Ppt: 156\n",
      "Ppt: 157\n",
      "Ppt: 158\n",
      "Ppt: 159\n",
      "Ppt: 160\n",
      "Ppt: 161\n",
      "Ppt: 162\n",
      "Ppt: 163\n",
      "Ppt: 164\n",
      "Ppt: 165\n",
      "Ppt: 166\n",
      "Ppt: 167\n",
      "Ppt: 168\n",
      "Ppt: 169\n",
      "Ppt: 170\n",
      "Ppt: 171\n",
      "Ppt: 172\n",
      "Ppt: 173\n",
      "Ppt: 174\n",
      "Ppt: 175\n",
      "Ppt: 176\n",
      "Ppt: 177\n",
      "Ppt: 178\n",
      "Ppt: 179\n",
      "Ppt: 180\n",
      "Ppt: 181\n",
      "Ppt: 182\n",
      "Ppt: 183\n",
      "Ppt: 184\n",
      "Ppt: 185\n",
      "Ppt: 186\n",
      "Ppt: 187\n",
      "Ppt: 188\n",
      "Ppt: 189\n",
      "Ppt: 190\n",
      "Ppt: 191\n",
      "Ppt: 192\n",
      "Ppt: 193\n",
      "Ppt: 194\n",
      "Ppt: 195\n",
      "Ppt: 196\n",
      "Ppt: 197\n",
      "Ppt: 198\n",
      "Ppt: 199\n",
      "Ppt: 200\n",
      "Ppt: 201\n",
      "Ppt: 202\n",
      "Ppt: 203\n",
      "Ppt: 204\n",
      "Ppt: 205\n",
      "Ppt: 206\n",
      "Ppt: 207\n",
      "Ppt: 208\n",
      "Ppt: 209\n",
      "Ppt: 210\n",
      "Ppt: 211\n",
      "Ppt: 212\n",
      "Ppt: 213\n",
      "Ppt: 214\n",
      "Ppt: 215\n",
      "Ppt: 216\n",
      "Ppt: 217\n",
      "Ppt: 218\n",
      "Ppt: 219\n",
      "Ppt: 220\n",
      "Ppt: 221\n",
      "Ppt: 222\n",
      "Ppt: 223\n",
      "Ppt: 224\n",
      "Ppt: 225\n",
      "Ppt: 226\n",
      "Ppt: 227\n",
      "Ppt: 228\n",
      "Ppt: 229\n",
      "Ppt: 230\n",
      "Ppt: 231\n",
      "Ppt: 232\n",
      "Ppt: 233\n",
      "Ppt: 234\n",
      "Ppt: 235\n",
      "Ppt: 236\n",
      "Ppt: 237\n",
      "Ppt: 238\n",
      "Ppt: 239\n",
      "Ppt: 240\n",
      "Ppt: 241\n",
      "Ppt: 242\n",
      "Ppt: 243\n",
      "Ppt: 244\n",
      "Ppt: 245\n",
      "Ppt: 246\n",
      "Ppt: 247\n",
      "Ppt: 248\n",
      "Ppt: 249\n",
      "Ppt: 250\n",
      "Ppt: 251\n",
      "Ppt: 252\n",
      "Ppt: 253\n",
      "Ppt: 254\n",
      "Ppt: 255\n",
      "Ppt: 256\n",
      "Ppt: 257\n",
      "Ppt: 258\n",
      "Ppt: 259\n",
      "Ppt: 260\n",
      "Ppt: 261\n",
      "Ppt: 262\n",
      "Ppt: 263\n",
      "Ppt: 264\n",
      "Ppt: 265\n",
      "Ppt: 266\n",
      "Ppt: 267\n",
      "Ppt: 268\n",
      "Ppt: 269\n",
      "Ppt: 270\n",
      "Ppt: 271\n",
      "Ppt: 272\n",
      "Ppt: 273\n",
      "Ppt: 274\n",
      "Ppt: 275\n",
      "Ppt: 276\n",
      "Ppt: 277\n",
      "Ppt: 278\n",
      "Ppt: 279\n",
      "Ppt: 280\n",
      "Ppt: 281\n",
      "Ppt: 282\n",
      "Ppt: 283\n",
      "Ppt: 284\n",
      "Ppt: 285\n",
      "Ppt: 286\n",
      "Ppt: 287\n",
      "Ppt: 288\n",
      "Ppt: 289\n",
      "Ppt: 290\n",
      "Ppt: 291\n",
      "Ppt: 292\n",
      "Ppt: 293\n",
      "Ppt: 294\n",
      "Ppt: 295\n",
      "Ppt: 296\n",
      "Ppt: 297\n",
      "Ppt: 298\n",
      "Ppt: 299\n",
      "Ppt: 300\n",
      "Ppt: 301\n",
      "Ppt: 302\n",
      "Ppt: 303\n",
      "Ppt: 304\n",
      "Ppt: 305\n",
      "Ppt: 306\n",
      "Ppt: 307\n",
      "Ppt: 308\n",
      "Ppt: 309\n",
      "Ppt: 310\n",
      "Ppt: 311\n",
      "Ppt: 312\n",
      "Ppt: 313\n",
      "Ppt: 314\n",
      "Ppt: 315\n",
      "Ppt: 316\n",
      "Ppt: 317\n",
      "Ppt: 318\n",
      "Ppt: 319\n",
      "Ppt: 320\n",
      "Ppt: 321\n",
      "Ppt: 322\n",
      "Ppt: 323\n",
      "Ppt: 324\n",
      "Ppt: 325\n",
      "Ppt: 326\n",
      "Ppt: 327\n",
      "Ppt: 328\n",
      "Ppt: 329\n",
      "Ppt: 330\n",
      "Ppt: 331\n",
      "Ppt: 332\n",
      "Ppt: 333\n",
      "Ppt: 334\n",
      "Ppt: 335\n",
      "Ppt: 336\n",
      "Ppt: 337\n",
      "Ppt: 338\n",
      "Ppt: 339\n",
      "Ppt: 340\n",
      "Ppt: 341\n",
      "Ppt: 342\n",
      "Ppt: 343\n",
      "Ppt: 344\n",
      "Ppt: 345\n",
      "Ppt: 346\n",
      "Ppt: 347\n",
      "Ppt: 348\n",
      "Ppt: 349\n",
      "Ppt: 350\n",
      "Ppt: 351\n",
      "Ppt: 352\n",
      "Ppt: 353\n",
      "Ppt: 354\n",
      "Ppt: 355\n",
      "Ppt: 356\n",
      "Ppt: 357\n",
      "Ppt: 358\n",
      "Ppt: 359\n",
      "Ppt: 360\n",
      "Ppt: 361\n",
      "Ppt: 362\n",
      "Ppt: 363\n",
      "Ppt: 364\n",
      "Ppt: 365\n",
      "Ppt: 366\n",
      "Ppt: 367\n",
      "Ppt: 368\n",
      "Ppt: 369\n",
      "Ppt: 370\n",
      "Ppt: 371\n",
      "Ppt: 372\n",
      "Ppt: 373\n",
      "Ppt: 374\n",
      "Ppt: 375\n",
      "Ppt: 376\n",
      "Ppt: 377\n",
      "Ppt: 378\n",
      "Ppt: 379\n",
      "Ppt: 380\n",
      "Ppt: 381\n",
      "Ppt: 382\n",
      "Ppt: 383\n",
      "Ppt: 384\n",
      "Ppt: 385\n",
      "Ppt: 386\n",
      "Ppt: 387\n",
      "Ppt: 388\n",
      "Ppt: 389\n",
      "Ppt: 390\n",
      "Ppt: 391\n",
      "Ppt: 392\n",
      "Ppt: 393\n"
     ]
    }
   ],
   "source": [
    "#Go through each participant and get their fits for each model\n",
    "ll = []\n",
    "ll_trials = []\n",
    "tally = np.zeros(2)\n",
    "wins = []\n",
    "for ppt in trials.participants:\n",
    "    ppt = int(ppt)\n",
    "    print('Ppt: ' + str(ppt))\n",
    "    llrow = []\n",
    "    if fitlast:\n",
    "        extract_trials = 3\n",
    "    else:\n",
    "        extract_trials = 'all'\n",
    "    conditionStr = participants.condition[participants.participant==ppt].values\n",
    "    pptconstr = conditionStr[0][0:2]\n",
    "    if \"Corner\" in conditionStr[0]:\n",
    "        pptconstr += conditionStr[0][-1] #Add info on whether square or circle\n",
    "    \n",
    "    trialppt = Simulation.extractPptData(trials, ppt=ppt, unique_trials=extract_trials)\n",
    "    #Get list of lls and winning model\n",
    "    for model in modelList:\n",
    "        params = best_params[model.model]\n",
    "        ppt_trial_ll = trialppt.loglike(params=params,model=model,parmxform=False)\n",
    "        llrow += [ppt_trial_ll]\n",
    "    bestmodel = llrow.index(np.min(llrow))\n",
    "    bestmodelstr = modelList[bestmodel].modelshort\n",
    "    ll += [[ppt]+llrow]\n",
    "    tally[bestmodel] += 1\n",
    "    wins += [bestmodel]\n",
    "    #Prepare stuff fot plotting\n",
    "    if doplots:\n",
    "        \n",
    "        #Sort trial obj by trial number - really only applicable if onlylast is false                                                                                                                   \n",
    "        trialOrder = []\n",
    "        maxbeta = 0\n",
    "        for t,trialobj in enumerate(trialppt.Set):\n",
    "            nbeta = len(trialobj['categories'][1])\n",
    "            trialppt.Set[t]['trial'] = nbeta\n",
    "            trialOrder += [nbeta]\n",
    "            maxbeta = max(nbeta,maxbeta)\n",
    "        trialOrder = np.argsort(trialOrder)\n",
    "        #Add dummy last trial to plot gradients for hypothetical fifth beta\n",
    "        newcatB = np.append(trialppt.Set[trialOrder[maxbeta]]['categories'][1],trialppt.Set[trialOrder[maxbeta]]['response'])\n",
    "        newcatAll = [trialppt.Set[trialOrder[maxbeta]]['categories'][0],newcatB]\n",
    "        trialppt.add(response=0,categories=newcatAll, participant = ppt)\n",
    "        trialOrder = np.append(trialOrder,maxbeta+1)\n",
    "        \n",
    "        if showlast:\n",
    "            ntrials = 1\n",
    "            plottrials = [len(trialppt.Set)-1] #plot only last trial\n",
    "        else:\n",
    "            ntrials = len(trialppt.Set)\n",
    "            plottrials = range(ntrials)\n",
    "        f,ax = plt.subplots(ntrials,len(modelList),figsize = (8, 2*ntrials+2.5))\n",
    "        for trial in plottrials:\n",
    "            categories = [trialppt.stimuli[i,:] for i in trialppt.Set[trialOrder[trial]]['categories'] if len(i)>0]\n",
    "            A = categories[0]\n",
    "            resp = trialppt.stimuli[trialppt.Set[trialOrder[trial]]['response'],:]\n",
    "            if len(categories)>1:\n",
    "                #include the response                                                                                                                  \n",
    "                B = np.append(categories[1],resp,axis=0)\n",
    "                if showlast:\n",
    "                    #Include response in generatin of ps                \n",
    "                    categories[1] = B\n",
    "            else:\n",
    "                #categories += [resp]\n",
    "                B = resp            \n",
    "            ps = []\n",
    "            ll_trial = []\n",
    "            for m,model in enumerate(modelList):\n",
    "                if m==bestmodel:\n",
    "                    winstr = '*'\n",
    "                else:\n",
    "                    winstr = ''\n",
    "                if ntrials>1:\n",
    "                    ax[0,m].set_title('{}{}{}, ll={:.2f}'.format(winstr,model.modelshort,winstr,llrow[m]))\n",
    "                else:                    \n",
    "                    ax[m].set_title('{}{}{}, ll={:.2f}'.format(winstr,model.modelshort,winstr,llrow[m]))\n",
    "                params = best_params[model.model]\n",
    "                #Plot heatmap for each model\n",
    "                ps += [model(categories,params,trialppt.stimrange).get_generation_ps(trialppt.stimuli,1,'generate')]\n",
    "                #Get lls for each trial step\n",
    "                ll_trial += [trialppt.loglike(params=params,model=model,parmxform=False,whole_array=True)]\n",
    "\n",
    "            #Plot the individual plots\n",
    "            plotct = 0\n",
    "            plotVals = []\n",
    "            psMax = 0\n",
    "            psMin = 1\n",
    "            #Get range                                                                                                                                     \n",
    "            for ps_el in ps:\n",
    "                psMax = max(psMax,ps_el.max())\n",
    "                psMin = min(psMin,ps_el.min())\n",
    "\n",
    "            #Normalise all values                                                                                                                          \n",
    "            psRange = psMax-psMin\n",
    "            for i,ps_el in enumerate(ps): #each ps element correspond to a model\n",
    "                plotct += 1\n",
    "                gps = funcs.gradientroll(ps_el,'roll')[:,:,0]\n",
    "                ps_ElRange = gps.max()-gps.min();\n",
    "                plotVals += [(gps-gps.min())/ps_ElRange]                                                                             \n",
    "                betacol = ['green' for bi in range(len(B))]\n",
    "#                 if task is 'generate':\n",
    "#                     betacol[len(B)-1] = 'orange'\n",
    "                if ntrials>1:\n",
    "                    betacol[len(B)-1] = 'orange'\n",
    "                    if trial == ntrials-1:\n",
    "                        betacol[len(B)-1] = [0,0,0,0]\n",
    "                    im = funcs.plotgradient(ax[trial,i], plotVals[i], A, B, clim = STAT_LIMS, cmap = 'PuOr',beta_col=betacol)\n",
    "                    ax[trial,i].set_ylabel('Trial {}'.format(trial))\n",
    "                    if trial<ntrials-1:\n",
    "                        ax[trial,i].set_xlabel('ll_trial = {:.2f}'.format(ll_trial[i][trial]),fontsize=10)\n",
    "                    #else:\n",
    "                        \n",
    "                else:\n",
    "                    im = funcs.plotgradient(ax[i], plotVals[i], A, B, clim = STAT_LIMS, cmap = 'PuOr',beta_col=betacol)\n",
    "#                     ax[i].set_ylabel('Trial {}'.format(trial))\n",
    "        #Save fig\n",
    "        if saveplots:\n",
    "            savedirext = '{}/{}'.format(savedir,bestmodelstr)\n",
    "            if os.path.isdir(savedirext):\n",
    "                plt.savefig('{}/{}_{}_{}'.format(savedirext,pptconstr,int(ppt),bestmodelstr[0]))\n",
    "            else:\n",
    "                os.mkdir(savedirext)\n",
    "                plt.savefig('{}/{}_{}_{}'.format(savedirext,pptconstr,int(ppt),bestmodelstr[0]))\n",
    "        plt.close()\n",
    "        ll_trials += [np.array(ll_trial).T]\n",
    "\n",
    "\n",
    "\n",
    "    \n"
   ]
  },
  {
   "cell_type": "code",
   "execution_count": null,
   "metadata": {},
   "outputs": [],
   "source": [
    "#Checkfail comes from the ind_dummy notebook where I look for ppts whose winning order doesn't match the majority of wins across all permutations \n",
    "#That is to say, the order of the generated betas seem to matter most for these guys\n",
    "checkfail = np.asarray([11.0, 14.0, 15.0, 56.0, 62.0, 66.0, 70.0, 98.0, 132.0, 133.0, 141.0, 152.0, 160.0, 163.0, 170.0, 171.0, 178.0, 186.0, 187.0, 201.0, 203.0, 210.0, 213.0, 215.0, 216.0, 221.0, 225.0, 226.0, 232.0, 239.0, 267.0, 273.0, 275.0, 300.0],dtype=int)\n",
    "ll_array = np.array(ll)\n",
    "ll_checkfail = ll_array[checkfail,:]\n",
    "ll_checkfail"
   ]
  },
  {
   "cell_type": "code",
   "execution_count": 131,
   "metadata": {
    "scrolled": true
   },
   "outputs": [
    {
     "data": {
      "text/plain": [
       "array([[  3.7626797 ,   3.45957302],\n",
       "       [  3.84470953,   3.69437229],\n",
       "       [  3.6846681 ,   3.63070122],\n",
       "       [  3.56498935,   3.60137974],\n",
       "       [191.01472097, 190.32768235]])"
      ]
     },
     "execution_count": 131,
     "metadata": {},
     "output_type": "execute_result"
    }
   ],
   "source": [
    "np.mean(np.array(ll_trials),axis=0)"
   ]
  },
  {
   "cell_type": "code",
   "execution_count": 130,
   "metadata": {
    "scrolled": true
   },
   "outputs": [
    {
     "data": {
      "text/plain": [
       "array([[-0.30310668],\n",
       "       [-0.15033724],\n",
       "       [-0.05396688],\n",
       "       [ 0.03639039],\n",
       "       [-0.68703861]])"
      ]
     },
     "execution_count": 130,
     "metadata": {},
     "output_type": "execute_result"
    }
   ],
   "source": [
    "np.diff(np.mean(np.array(ll_trials),axis=0),axis=1) #positive = packer wins"
   ]
  },
  {
   "cell_type": "code",
   "execution_count": 122,
   "metadata": {},
   "outputs": [
    {
     "name": "stdout",
     "output_type": "stream",
     "text": [
      "Packer wins, mean lls across trials:\n",
      "[111 109 117 123]\n",
      "\n",
      "Representativeness wins, mean lls across trials:\n",
      "[194 196 188 182]\n"
     ]
    }
   ],
   "source": [
    "#Calculate cumulative lls at each trial, excluding last trial (since it's a dummy)\n",
    "ll_trials_cs = [np.cumsum(ppt_trial[:4,:],axis=0) for ppt_trial in ll_trials]\n",
    "#Get wins at each trial\n",
    "ll_trials_mins = [np.argmin(ppt_trial[:4,:],axis=1) for ppt_trial in ll_trials_cs]\n",
    "ll_trials_means = np.mean(np.array(ll_trials),axis=0)\n",
    "repwins = np.sum(np.array(ll_trials_mins),axis=0)\n",
    "packerwins = len(ll_trials) - repwins\n",
    "print('Packer wins, mean lls across trials:')\n",
    "print(packerwins)\n",
    "print\n",
    "print('Representativeness wins, mean lls across trials:')\n",
    "print(repwins)"
   ]
  },
  {
   "cell_type": "code",
   "execution_count": 68,
   "metadata": {},
   "outputs": [
    {
     "name": "stdout",
     "output_type": "stream",
     "text": [
      "Tally of bests:\n",
      "PACKER: 123.00\n",
      "Representative: 182.00\n"
     ]
    }
   ],
   "source": [
    "#Print a summary\n",
    "print('Tally of bests:')\n",
    "\n",
    "for m,model in enumerate(modelList):\n",
    "    print('%s: %.2f' % (model.modelshort,tally[m]))"
   ]
  },
  {
   "cell_type": "code",
   "execution_count": 165,
   "metadata": {},
   "outputs": [
    {
     "data": {
      "text/plain": [
       "[{'categories': [array([30, 32, 48, 50]), array([], dtype=int64)],\n",
       "  'participant': array([246]),\n",
       "  'response': array([72]),\n",
       "  'trial': 0},\n",
       " {'categories': [array([30, 32, 48, 50]), array([ 0, 72, 80])],\n",
       "  'participant': array([246]),\n",
       "  'response': array([8]),\n",
       "  'trial': 3},\n",
       " {'categories': [array([30, 32, 48, 50]), array([72])],\n",
       "  'participant': array([246]),\n",
       "  'response': array([80]),\n",
       "  'trial': 1},\n",
       " {'categories': [array([30, 32, 48, 50]), array([72, 80])],\n",
       "  'participant': array([246]),\n",
       "  'response': array([0]),\n",
       "  'trial': 2},\n",
       " {'categories': [array([30, 32, 48, 50]), array([ 0,  8, 72, 80])],\n",
       "  'participant': [246],\n",
       "  'response': [0]}]"
      ]
     },
     "execution_count": 165,
     "metadata": {},
     "output_type": "execute_result"
    }
   ],
   "source": [
    "trialppt.Set"
   ]
  },
  {
   "cell_type": "code",
   "execution_count": 102,
   "metadata": {},
   "outputs": [
    {
     "data": {
      "text/plain": [
       "[array([14, 16, 32, 34]), array([ 0, 18, 72, 63])]"
      ]
     },
     "execution_count": 102,
     "metadata": {},
     "output_type": "execute_result"
    }
   ],
   "source": [
    "trialppt.Set[len(trialppt.Set)-1]['categories']"
   ]
  },
  {
   "cell_type": "code",
   "execution_count": 117,
   "metadata": {},
   "outputs": [],
   "source": [
    "temp= cp.deepcopy(trialppt)\n",
    "newcatB = np.append(temp.Set[len(trialppt.Set)-1]['categories'][1],temp.Set[len(trialppt.Set)-1]['response'])\n",
    "newcatAll = [temp.Set[len(trialppt.Set)-1]['categories'][0],newcatB]\n",
    "temp.add(response=np.array([0,0]),categories=newcatAll, participant = ppt)"
   ]
  },
  {
   "cell_type": "code",
   "execution_count": 145,
   "metadata": {},
   "outputs": [
    {
     "data": {
      "text/plain": [
       "721.369969609176"
      ]
     },
     "execution_count": 145,
     "metadata": {},
     "output_type": "execute_result"
    }
   ],
   "source": [
    "trialppt.loglike(params=params,model=model,parmxform=False,whole_array=False)"
   ]
  },
  {
   "cell_type": "code",
   "execution_count": 146,
   "metadata": {},
   "outputs": [
    {
     "data": {
      "text/plain": [
       "721.369969609176"
      ]
     },
     "execution_count": 146,
     "metadata": {},
     "output_type": "execute_result"
    }
   ],
   "source": [
    "sum(trialppt.loglike(params=params,model=model,parmxform=False,whole_array=True))"
   ]
  },
  {
   "cell_type": "code",
   "execution_count": 147,
   "metadata": {},
   "outputs": [
    {
     "data": {
      "text/plain": [
       "array([  2.21172107,   3.97968408, 709.19620864,   2.63851549,\n",
       "         3.34384033])"
      ]
     },
     "execution_count": 147,
     "metadata": {},
     "output_type": "execute_result"
    }
   ],
   "source": [
    "trialppt.loglike(params=params,model=model,parmxform=False,whole_array=True)"
   ]
  },
  {
   "cell_type": "code",
   "execution_count": 160,
   "metadata": {},
   "outputs": [
    {
     "data": {
      "text/plain": [
       "[array([30, 32, 48, 50]), array([72, 80,  0])]"
      ]
     },
     "execution_count": 160,
     "metadata": {},
     "output_type": "execute_result"
    }
   ],
   "source": [
    "newcatAll"
   ]
  },
  {
   "cell_type": "code",
   "execution_count": 167,
   "metadata": {},
   "outputs": [
    {
     "data": {
      "text/plain": [
       "3"
      ]
     },
     "execution_count": 167,
     "metadata": {},
     "output_type": "execute_result"
    }
   ],
   "source": [
    "maxbeta"
   ]
  },
  {
   "cell_type": "code",
   "execution_count": 166,
   "metadata": {},
   "outputs": [
    {
     "data": {
      "text/plain": [
       "array([0, 2, 3, 1, 2])"
      ]
     },
     "execution_count": 166,
     "metadata": {},
     "output_type": "execute_result"
    }
   ],
   "source": [
    "trialOrder"
   ]
  },
  {
   "cell_type": "code",
   "execution_count": 72,
   "metadata": {},
   "outputs": [
    {
     "name": "stdout",
     "output_type": "stream",
     "text": [
      "(1.3097548838595667, 0.002058463678348943, 9.338029144044272)\n",
      "(1.6887766946888592, 0.006481777226126084, 6.465465012108455)\n",
      "1822.5093807065457\n",
      "2371.0523374970867\n"
     ]
    }
   ],
   "source": [
    "lla = np.array(ll)\n",
    "packerwins = np.bool_(1-np.array(wins))\n",
    "repwins = np.bool_(wins)\n",
    "plist = np.abs(lla[packerwins,1]-lla[packerwins,2])\n",
    "rlist = np.abs(lla[repwins,1]-lla[repwins,2])\n",
    "print(np.mean(plist),np.min(plist),np.max(plist))\n",
    "print(np.mean(rlist),np.min(rlist),np.max(rlist))\n",
    "print(sum(lla[packerwins,1]))\n",
    "print(sum(lla[repwins,2]))"
   ]
  },
  {
   "cell_type": "code",
   "execution_count": 71,
   "metadata": {},
   "outputs": [
    {
     "data": {
      "text/plain": [
       "(array([50., 33., 21.,  8.,  6.,  2.,  0.,  2.,  0.,  1.]),\n",
       " array([2.05846368e-03, 9.35655532e-01, 1.86925260e+00, 2.80284967e+00,\n",
       "        3.73644674e+00, 4.67004380e+00, 5.60364087e+00, 6.53723794e+00,\n",
       "        7.47083501e+00, 8.40443208e+00, 9.33802914e+00]),\n",
       " <a list of 1 Patch objects>)"
      ]
     },
     "execution_count": 71,
     "metadata": {},
     "output_type": "execute_result"
    },
    {
     "data": {
      "image/png": "[encoded data removed]",
      "text/plain": [
       "<Figure size 432x288 with 1 Axes>"
      ]
     },
     "metadata": {},
     "output_type": "display_data"
    }
   ],
   "source": [
    "# f = plt.figure()\n",
    "plt.hist(rlist,histtype='step')\n",
    "plt.hist(plist,histtype='step')"
   ]
  },
  {
   "cell_type": "code",
   "execution_count": 62,
   "metadata": {},
   "outputs": [
    {
     "data": {
      "text/plain": [
       "(array([50., 33., 21.,  8.,  6.,  2.,  0.,  2.,  0.,  1.]),\n",
       " array([2.05846368e-03, 9.35655532e-01, 1.86925260e+00, 2.80284967e+00,\n",
       "        3.73644674e+00, 4.67004380e+00, 5.60364087e+00, 6.53723794e+00,\n",
       "        7.47083501e+00, 8.40443208e+00, 9.33802914e+00]),\n",
       " <a list of 10 Patch objects>)"
      ]
     },
     "execution_count": 62,
     "metadata": {},
     "output_type": "execute_result"
    },
    {
     "data": {
      "image/png": "[encoded data removed]",
      "text/plain": [
       "<Figure size 432x288 with 1 Axes>"
      ]
     },
     "metadata": {},
     "output_type": "display_data"
    }
   ],
   "source": [
    "plt.hist(plist)"
   ]
  },
  {
   "cell_type": "code",
   "execution_count": 64,
   "metadata": {},
   "outputs": [
    {
     "data": {
      "text/plain": [
       "182"
      ]
     },
     "execution_count": 64,
     "metadata": {},
     "output_type": "execute_result"
    }
   ],
   "source": [
    "len(rlist)"
   ]
  },
  {
   "cell_type": "code",
   "execution_count": null,
   "metadata": {},
   "outputs": [],
   "source": []
  }
 ],
 "metadata": {
  "kernelspec": {
   "display_name": "Python 2",
   "language": "python",
   "name": "python2"
  },
  "language_info": {
   "codemirror_mode": {
    "name": "ipython",
    "version": 2
   },
   "file_extension": ".py",
   "mimetype": "text/x-python",
   "name": "python",
   "nbconvert_exporter": "python",
   "pygments_lexer": "ipython2",
   "version": "2.7.15"
  }
 },
 "nbformat": 4,
 "nbformat_minor": 2
}

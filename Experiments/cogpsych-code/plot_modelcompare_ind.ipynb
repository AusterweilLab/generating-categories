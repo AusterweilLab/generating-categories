{
 "cells": [
  {
   "cell_type": "code",
   "execution_count": 21,
   "metadata": {},
   "outputs": [],
   "source": [
    "#Shows each individual plot along with which model best fits it\n",
    "import pickle, math\n",
    "import pandas as pd\n",
    "import sqlite3\n",
    "import random\n",
    "import os\n",
    "#exec(open(\"./Imports.py\").read())\n",
    "execfile('Imports.py')\n",
    "# _add_modules_path()\n",
    "import Modules.Funcs as funcs\n",
    "from Modules.Classes import Simulation\n",
    "from Modules.Classes import CopyTweak\n",
    "from Modules.Classes import CopyTweakRep\n",
    "from Modules.Classes import Packer\n",
    "from Modules.Classes import PackerRep\n",
    "from Modules.Classes import ConjugateJK13\n",
    "from Modules.Classes import RepresentJK13\n",
    "from Modules.Classes import NegatedSpace\n",
    "from Modules.Classes import NConjugateJK13\n",
    "from Modules.Classes import NRepresentJK13\n",
    "from Modules.Classes import NPacker\n",
    "from Modules.Classes import NCopyTweak\n",
    "\n",
    "from scipy.stats import stats as ss\n",
    "import numpy as np\n",
    "import matplotlib.pyplot as plt\n",
    "import seaborn as sns\n",
    "sns.set_style(\"whitegrid\")\n",
    "\n",
    "# Specify default dataname\n",
    "dbname = 'experiments-5con.db'#raw data\n",
    "dataname_def = '5con'#bestparms also comes from here\n",
    "\n",
    "#plotting options\n",
    "STAT_LIMS =  (-1.0, 1.0)\n",
    "#Fit to only last trial?\n",
    "fitlast = False\n",
    "#Make plots?\n",
    "doplots = True\n",
    "saveplots = True\n",
    "if fitlast:\n",
    "    showlast = True\n",
    "else:\n",
    "    showlast = False #True = Show last even if fitting to all?\n",
    "#Bootstrap parameters\n",
    "nbootstraps = 1000\n",
    "if fitlast and showlast:\n",
    "    savedir = 'private/individual_modelcomp_{}/fitlast'.format(dataname_def)\n",
    "elif showlast:\n",
    "    savedir = 'private/individual_modelcomp_{}/showonlylast/'.format(dataname_def)\n",
    "elif fitlast:\n",
    "    savedir = 'private/individual_modelcomp_{}/fitlast'.format(dataname_def)\n",
    "else:\n",
    "    savedir = 'private/individual_modelcomp_{}/showall'.format(dataname_def)\n",
    "# savefilename='modelvsppt{}_t.pdf'.format(corrtype)\n",
    "# modeleaseDB = \"pickles/modelease_corr{}.p\".format(corrtype)\n",
    "\n",
    "#Some plotting options\n",
    "font = {'family' : 'DejaVu Sans',\n",
    "        'weight' : 'regular',\n",
    "        'size'   : 15}\n",
    "\n",
    "#Specify simulation values\n",
    "N_SAMPLES = 10000\n",
    "WT_THETA = 1.5\n",
    "MIN_LL = 1e-10\n",
    "\n",
    "\n",
    "participant_def = 'all'\n",
    "unique_trials_def = 'all'\n",
    "dataname = dataname_def\n",
    "execfile('validate_data.py')\n",
    "\n",
    "bestparmdb = \"pickles/chtc_gs_best_params_{}\".format(src)\n",
    "\n",
    "\n",
    "plt.rc('font', **font)\n",
    "\n",
    "# get data from pickle\n",
    "with open(pickledir+src, \"rb\" ) as f:\n",
    "    trials = pickle.load( f )\n",
    "\n",
    "# get best params pickle\n",
    "#bestparmdb = \"pickles/chtc_gs_best_params_all_data_e1_e2.p\"\n",
    "#bestparmdb = \"pickles/chtc_gs_best_params_corrs.p\"\n",
    "with open(bestparmdb, \"rb\" ) as f:\n",
    "    best_params_t = pickle.load( f )\n",
    "\n",
    "#Rebuild it into a smaller dict\n",
    "best_params = dict()\n",
    "for modelname in best_params_t.keys():    \n",
    "    best_params[modelname] = dict()\n",
    "    for i,parmname in enumerate(best_params_t[modelname]['parmnames']):\n",
    "        parmval = best_params_t[modelname]['bestparmsll']\n",
    "        best_params[modelname][parmname] = parmval[i]\n",
    "modelList = [Packer,RepresentJK13]#,NPacker,NRepresentJK13]\n",
    "#modelList = [CopyTweak,CopyTweakRep,Packer, RepresentJK13,]                            \n",
    "\n",
    "#Specify plot order\n",
    "modelPlotOrder = np.array([[Packer,RepresentJK13],[NPacker,NRepresentJK13]])\n",
    "#modelPlotOrder = np.array([[CopyTweak,CopyTweakRep],[Packer,RepresentJK13]])\n",
    "\n",
    "#Prepare matched database    \n",
    "matchdb='../cat-assign/data_utilities/cmp_midbot.db'\n",
    "        \n",
    "unique_trials = 'all'\n",
    "trials.task = task\n",
    "\n",
    "\n"
   ]
  },
  {
   "cell_type": "code",
   "execution_count": 22,
   "metadata": {},
   "outputs": [],
   "source": [
    "con = sqlite3.connect(dbname)\n",
    "participants = pd.read_sql_query(\"SELECT participant, condition from participants\", con)\n",
    "generation = pd.read_sql_query(\"SELECT * from generation\", con)\n",
    "alphas = pd.read_sql_query(\"SELECT * from alphas\", con)\n",
    "stimuli = pd.read_sql_query(\"SELECT * from stimuli\", con).values\n",
    "con.close()\n"
   ]
  },
  {
   "cell_type": "code",
   "execution_count": 23,
   "metadata": {
    "scrolled": true
   },
   "outputs": [
    {
     "name": "stdout",
     "output_type": "stream",
     "text": [
      "Ppt: 0\n"
     ]
    },
    {
     "name": "stderr",
     "output_type": "stream",
     "text": [
      "/Users/sourguyxian/anaconda3/envs/py27/lib/python2.7/site-packages/ipykernel_launcher.py:58: DeprecationWarning: The truth value of an empty array is ambiguous. Returning False, but in future this will result in an error. Use `array.size > 0` to check that an array is not empty.\n"
     ]
    },
    {
     "name": "stdout",
     "output_type": "stream",
     "text": [
      "Ppt: 1\n",
      "Ppt: 2\n",
      "Ppt: 3\n",
      "Ppt: 4\n",
      "Ppt: 5\n",
      "Ppt: 6\n",
      "Ppt: 7\n",
      "Ppt: 8\n",
      "Ppt: 9\n",
      "Ppt: 10\n",
      "Ppt: 11\n",
      "Ppt: 12\n",
      "Ppt: 13\n",
      "Ppt: 14\n",
      "Ppt: 15\n",
      "Ppt: 16\n",
      "Ppt: 17\n",
      "Ppt: 18\n",
      "Ppt: 19\n",
      "Ppt: 20\n",
      "Ppt: 21\n",
      "Ppt: 22\n",
      "Ppt: 23\n",
      "Ppt: 24\n",
      "Ppt: 25\n",
      "Ppt: 26\n",
      "Ppt: 27\n",
      "Ppt: 28\n",
      "Ppt: 29\n",
      "Ppt: 30\n",
      "Ppt: 31\n",
      "Ppt: 32\n",
      "Ppt: 33\n",
      "Ppt: 34\n",
      "Ppt: 35\n",
      "Ppt: 36\n",
      "Ppt: 37\n",
      "Ppt: 38\n",
      "Ppt: 39\n",
      "Ppt: 40\n",
      "Ppt: 41\n",
      "Ppt: 42\n",
      "Ppt: 43\n",
      "Ppt: 44\n",
      "Ppt: 45\n",
      "Ppt: 46\n",
      "Ppt: 47\n",
      "Ppt: 48\n",
      "Ppt: 49\n",
      "Ppt: 50\n",
      "Ppt: 51\n",
      "Ppt: 52\n",
      "Ppt: 53\n",
      "Ppt: 54\n",
      "Ppt: 55\n",
      "Ppt: 56\n",
      "Ppt: 57\n",
      "Ppt: 58\n",
      "Ppt: 59\n",
      "Ppt: 60\n",
      "Ppt: 61\n",
      "Ppt: 62\n",
      "Ppt: 63\n",
      "Ppt: 64\n",
      "Ppt: 65\n",
      "Ppt: 66\n",
      "Ppt: 67\n",
      "Ppt: 68\n",
      "Ppt: 69\n",
      "Ppt: 70\n",
      "Ppt: 71\n",
      "Ppt: 72\n",
      "Ppt: 73\n",
      "Ppt: 74\n",
      "Ppt: 75\n",
      "Ppt: 76\n",
      "Ppt: 77\n",
      "Ppt: 78\n",
      "Ppt: 79\n",
      "Ppt: 80\n",
      "Ppt: 81\n",
      "Ppt: 82\n",
      "Ppt: 83\n",
      "Ppt: 84\n",
      "Ppt: 85\n",
      "Ppt: 86\n",
      "Ppt: 87\n",
      "Ppt: 88\n",
      "Ppt: 89\n",
      "Ppt: 90\n",
      "Ppt: 91\n",
      "Ppt: 92\n",
      "Ppt: 93\n",
      "Ppt: 94\n",
      "Ppt: 95\n",
      "Ppt: 96\n",
      "Ppt: 97\n",
      "Ppt: 98\n",
      "Ppt: 99\n",
      "Ppt: 100\n",
      "Ppt: 101\n",
      "Ppt: 102\n",
      "Ppt: 103\n",
      "Ppt: 104\n",
      "Ppt: 105\n",
      "Ppt: 106\n",
      "Ppt: 107\n",
      "Ppt: 108\n",
      "Ppt: 109\n",
      "Ppt: 110\n",
      "Ppt: 111\n",
      "Ppt: 112\n",
      "Ppt: 113\n",
      "Ppt: 114\n",
      "Ppt: 115\n",
      "Ppt: 116\n",
      "Ppt: 117\n",
      "Ppt: 118\n",
      "Ppt: 119\n",
      "Ppt: 120\n",
      "Ppt: 121\n",
      "Ppt: 122\n",
      "Ppt: 123\n",
      "Ppt: 124\n",
      "Ppt: 125\n",
      "Ppt: 126\n",
      "Ppt: 127\n",
      "Ppt: 128\n",
      "Ppt: 129\n",
      "Ppt: 130\n",
      "Ppt: 131\n",
      "Ppt: 132\n",
      "Ppt: 133\n",
      "Ppt: 134\n",
      "Ppt: 135\n",
      "Ppt: 136\n",
      "Ppt: 137\n",
      "Ppt: 138\n",
      "Ppt: 139\n",
      "Ppt: 140\n",
      "Ppt: 141\n",
      "Ppt: 142\n",
      "Ppt: 143\n",
      "Ppt: 144\n",
      "Ppt: 145\n",
      "Ppt: 146\n",
      "Ppt: 147\n",
      "Ppt: 148\n",
      "Ppt: 149\n",
      "Ppt: 150\n",
      "Ppt: 151\n",
      "Ppt: 152\n",
      "Ppt: 153\n",
      "Ppt: 154\n",
      "Ppt: 155\n",
      "Ppt: 156\n",
      "Ppt: 157\n",
      "Ppt: 158\n",
      "Ppt: 159\n",
      "Ppt: 160\n",
      "Ppt: 161\n",
      "Ppt: 162\n",
      "Ppt: 163\n",
      "Ppt: 164\n",
      "Ppt: 165\n",
      "Ppt: 166\n",
      "Ppt: 167\n",
      "Ppt: 168\n",
      "Ppt: 169\n",
      "Ppt: 170\n",
      "Ppt: 171\n",
      "Ppt: 172\n",
      "Ppt: 173\n",
      "Ppt: 174\n",
      "Ppt: 175\n",
      "Ppt: 176\n",
      "Ppt: 177\n",
      "Ppt: 178\n",
      "Ppt: 179\n",
      "Ppt: 180\n",
      "Ppt: 181\n",
      "Ppt: 182\n",
      "Ppt: 183\n",
      "Ppt: 184\n",
      "Ppt: 185\n",
      "Ppt: 186\n",
      "Ppt: 187\n",
      "Ppt: 188\n",
      "Ppt: 189\n",
      "Ppt: 190\n",
      "Ppt: 191\n",
      "Ppt: 192\n",
      "Ppt: 193\n",
      "Ppt: 194\n",
      "Ppt: 195\n",
      "Ppt: 196\n",
      "Ppt: 197\n",
      "Ppt: 198\n",
      "Ppt: 199\n",
      "Ppt: 200\n",
      "Ppt: 201\n",
      "Ppt: 202\n",
      "Ppt: 203\n",
      "Ppt: 204\n",
      "Ppt: 205\n",
      "Ppt: 206\n",
      "Ppt: 207\n",
      "Ppt: 208\n",
      "Ppt: 209\n",
      "Ppt: 210\n",
      "Ppt: 211\n",
      "Ppt: 212\n",
      "Ppt: 213\n",
      "Ppt: 214\n",
      "Ppt: 215\n",
      "Ppt: 216\n",
      "Ppt: 217\n",
      "Ppt: 218\n",
      "Ppt: 219\n",
      "Ppt: 220\n",
      "Ppt: 221\n",
      "Ppt: 222\n",
      "Ppt: 223\n",
      "Ppt: 224\n",
      "Ppt: 225\n",
      "Ppt: 226\n",
      "Ppt: 227\n",
      "Ppt: 228\n",
      "Ppt: 229\n",
      "Ppt: 230\n",
      "Ppt: 231\n",
      "Ppt: 232\n",
      "Ppt: 233\n",
      "Ppt: 234\n",
      "Ppt: 235\n",
      "Ppt: 236\n",
      "Ppt: 237\n",
      "Ppt: 238\n",
      "Ppt: 239\n",
      "Ppt: 240\n",
      "Ppt: 241\n",
      "Ppt: 242\n",
      "Ppt: 243\n",
      "Ppt: 244\n",
      "Ppt: 245\n",
      "Ppt: 246\n",
      "Ppt: 247\n",
      "Ppt: 248\n",
      "Ppt: 249\n",
      "Ppt: 250\n",
      "Ppt: 251\n",
      "Ppt: 252\n",
      "Ppt: 253\n",
      "Ppt: 254\n",
      "Ppt: 255\n",
      "Ppt: 256\n",
      "Ppt: 257\n",
      "Ppt: 258\n",
      "Ppt: 259\n",
      "Ppt: 260\n",
      "Ppt: 261\n",
      "Ppt: 262\n",
      "Ppt: 263\n",
      "Ppt: 264\n",
      "Ppt: 265\n",
      "Ppt: 266\n",
      "Ppt: 267\n",
      "Ppt: 268\n",
      "Ppt: 269\n",
      "Ppt: 270\n",
      "Ppt: 271\n",
      "Ppt: 272\n",
      "Ppt: 273\n",
      "Ppt: 274\n",
      "Ppt: 275\n",
      "Ppt: 276\n",
      "Ppt: 277\n",
      "Ppt: 278\n",
      "Ppt: 279\n",
      "Ppt: 280\n",
      "Ppt: 281\n",
      "Ppt: 282\n",
      "Ppt: 283\n",
      "Ppt: 284\n",
      "Ppt: 285\n",
      "Ppt: 286\n",
      "Ppt: 287\n",
      "Ppt: 288\n",
      "Ppt: 289\n",
      "Ppt: 290\n",
      "Ppt: 291\n",
      "Ppt: 292\n",
      "Ppt: 293\n",
      "Ppt: 294\n",
      "Ppt: 295\n",
      "Ppt: 296\n",
      "Ppt: 297\n",
      "Ppt: 298\n",
      "Ppt: 299\n",
      "Ppt: 300\n",
      "Ppt: 301\n",
      "Ppt: 302\n",
      "Ppt: 303\n",
      "Ppt: 304\n",
      "Ppt: 305\n",
      "Ppt: 306\n",
      "Ppt: 307\n",
      "Ppt: 308\n",
      "Ppt: 309\n",
      "Ppt: 310\n",
      "Ppt: 311\n",
      "Ppt: 312\n",
      "Ppt: 313\n",
      "Ppt: 314\n",
      "Ppt: 315\n",
      "Ppt: 316\n",
      "Ppt: 317\n",
      "Ppt: 318\n",
      "Ppt: 319\n",
      "Ppt: 320\n",
      "Ppt: 321\n",
      "Ppt: 322\n",
      "Ppt: 323\n",
      "Ppt: 324\n",
      "Ppt: 325\n",
      "Ppt: 326\n",
      "Ppt: 327\n",
      "Ppt: 328\n",
      "Ppt: 329\n",
      "Ppt: 330\n",
      "Ppt: 331\n",
      "Ppt: 332\n",
      "Ppt: 333\n",
      "Ppt: 334\n",
      "Ppt: 335\n",
      "Ppt: 336\n",
      "Ppt: 337\n",
      "Ppt: 338\n",
      "Ppt: 339\n",
      "Ppt: 340\n",
      "Ppt: 341\n",
      "Ppt: 342\n",
      "Ppt: 343\n",
      "Ppt: 344\n",
      "Ppt: 345\n",
      "Ppt: 346\n",
      "Ppt: 347\n",
      "Ppt: 348\n",
      "Ppt: 349\n",
      "Ppt: 350\n",
      "Ppt: 351\n",
      "Ppt: 352\n",
      "Ppt: 353\n",
      "Ppt: 354\n",
      "Ppt: 355\n",
      "Ppt: 356\n",
      "Ppt: 357\n",
      "Ppt: 358\n",
      "Ppt: 359\n",
      "Ppt: 360\n",
      "Ppt: 361\n",
      "Ppt: 362\n",
      "Ppt: 363\n",
      "Ppt: 364\n",
      "Ppt: 365\n",
      "Ppt: 366\n",
      "Ppt: 367\n",
      "Ppt: 368\n",
      "Ppt: 369\n",
      "Ppt: 370\n",
      "Ppt: 371\n",
      "Ppt: 372\n",
      "Ppt: 373\n",
      "Ppt: 374\n",
      "Ppt: 375\n",
      "Ppt: 376\n",
      "Ppt: 377\n",
      "Ppt: 378\n",
      "Ppt: 379\n",
      "Ppt: 380\n",
      "Ppt: 381\n",
      "Ppt: 382\n",
      "Ppt: 383\n",
      "Ppt: 384\n",
      "Ppt: 385\n",
      "Ppt: 386\n",
      "Ppt: 387\n",
      "Ppt: 388\n",
      "Ppt: 389\n",
      "Ppt: 390\n",
      "Ppt: 391\n",
      "Ppt: 392\n",
      "Ppt: 393\n"
     ]
    }
   ],
   "source": [
    "#Go through each participant and get their fits for each model\n",
    "ll = []\n",
    "ll_trials = []\n",
    "tally = np.zeros(len(modelList))\n",
    "wins = []\n",
    "pptcond_tally = dict()\n",
    "for ppt in trials.participants:#[318]:\n",
    "    ppt = int(ppt)\n",
    "    print('Ppt: ' + str(ppt))\n",
    "    llrow = []\n",
    "    if fitlast:\n",
    "        extract_trials = 3\n",
    "    else:\n",
    "        extract_trials = 'all'\n",
    "    conditionStr = participants.condition[participants.participant==ppt].values\n",
    "    if conditionStr not in pptcond_tally.keys():\n",
    "        pptcond_tally[conditionStr[0]] = 0\n",
    "    pptcond_tally[conditionStr[0]] += 1\n",
    "    pptconstr = conditionStr[0][0:2]\n",
    "    if \"Corner\" in conditionStr[0]:\n",
    "        pptconstr += conditionStr[0][-1] #Add info on whether square or circle\n",
    "    \n",
    "    trialppt = Simulation.extractPptData(trials, ppt=ppt, unique_trials=extract_trials)\n",
    "    #Hacky code, but necessary for now\n",
    "    #For categories to be ints\n",
    "    for ti,trial in enumerate(trialppt.Set):\n",
    "        trialppt.Set[ti]['categories'] = [np.array(tt,dtype=int) for tt in trial['categories']]\n",
    "        trialppt.Set[ti]['response'] = [np.array(tt,dtype=int) for tt in trial['response']]\n",
    "\n",
    "\n",
    "    #Get list of lls and winning model\n",
    "    for model in modelList:\n",
    "        params = best_params[model.model]\n",
    "        ppt_trial_ll = trialppt.loglike(params=params,model=model,parmxform=False)\n",
    "        llrow += [ppt_trial_ll]\n",
    "    bestmodel = llrow.index(np.min(llrow))\n",
    "    bestmodelstr = modelList[bestmodel].modelshort\n",
    "    ll += [[ppt]+llrow]\n",
    "    tally[bestmodel] += 1\n",
    "    wins += [bestmodel]\n",
    "    #Prepare stuff fot plotting\n",
    "    if doplots:\n",
    "        \n",
    "        #Sort trial obj by trial number - really only applicable if onlylast is false                                                                                                                   \n",
    "        trialOrder = []\n",
    "        maxbeta = 0\n",
    "        for t,trialobj in enumerate(trialppt.Set):\n",
    "            #nbeta = len(trialobj['categories'][1])\n",
    "            nbeta = 0\n",
    "            for ii,new_exm in enumerate(trialobj['categories']):\n",
    "                if not ii == 0: #Ignore alpha cat\n",
    "                    nbeta += len(new_exm)\n",
    "            trialppt.Set[t]['trial'] = nbeta\n",
    "            trialOrder += [nbeta]\n",
    "            maxbeta = max(nbeta,maxbeta)\n",
    "        trialOrder = np.argsort(trialOrder)\n",
    "        wrap_ax = trialppt.Set[0]['wrap_ax'][0]\n",
    "        if wrap_ax==1:\n",
    "            wrapstr = '<-Wrapped->'\n",
    "        else:\n",
    "            wrapstr = ''\n",
    "        #Add dummy last trial to plot gradients for hypothetical fifth beta\n",
    "        respSet = trialppt.Set[trialOrder[maxbeta]]['response']\n",
    "        if hasattr(respSet[0],'__len__'):\n",
    "            for resps in respSet:\n",
    "                if len(resps)>0:\n",
    "                    resp = resps\n",
    "        else:\n",
    "            resp = respSet\n",
    "        newcatB = np.append(trialppt.Set[trialOrder[maxbeta]]['categories'][1],resp)\n",
    "        newcatAll = [trialppt.Set[trialOrder[maxbeta]]['categories'][0],newcatB]\n",
    "        trialppt.add(response=0,categories=newcatAll, participant = ppt,wrap_ax = wrap_ax)\n",
    "        trialOrder = np.append(trialOrder,maxbeta+1)\n",
    "        \n",
    "        if showlast:\n",
    "            ntrials = 1\n",
    "            plottrials = [len(trialppt.Set)-1] #plot only last trial\n",
    "        else:\n",
    "            ntrials = len(trialppt.Set)\n",
    "            plottrials = range(ntrials)\n",
    "        f,ax = plt.subplots(ntrials,len(modelList),figsize = (8, 2*ntrials+2.5))\n",
    "        for trial in plottrials:\n",
    "            categories = [trialppt.stimuli[i,:] for i in trialppt.Set[trialOrder[trial]]['categories'] if len(i)>0]\n",
    "            A = categories[0]\n",
    "            respSet = trialppt.Set[trialOrder[trial]]['response']\n",
    "            if hasattr(respSet[0],'__len__'):\n",
    "                for ri,resps in enumerate(respSet):\n",
    "                    if len(resps)>0:\n",
    "                        respCat = ri\n",
    "                        resp = trialppt.stimuli[resps,:]\n",
    "            else:\n",
    "                resp = trialppt.stimuli[respSet,:]\n",
    "            if len(categories)>1:\n",
    "                if respCat==1:\n",
    "                    #include the response                                                                                                                  \n",
    "                    B = np.append(categories[1],resp,axis=0)\n",
    "                    if showlast:\n",
    "                        #Include response in generatin of ps                \n",
    "                        categories[1] = B\n",
    "                elif respCat==2:\n",
    "                    if len(categories)<3:\n",
    "                        C = resp\n",
    "                    else:\n",
    "                        C = np.append(categories[2],resp,axis=0)\n",
    "                    if showlast:\n",
    "                        #Include response in generatin of ps                \n",
    "                        categories[2] = C\n",
    "            else:\n",
    "                #categories += [resp]\n",
    "                B = resp\n",
    "                C = []\n",
    "            ps = []\n",
    "            ll_trial = []\n",
    "            for m,model in enumerate(modelList):\n",
    "                if m==bestmodel:\n",
    "                    winstr = '*'\n",
    "                else:\n",
    "                    winstr = ''\n",
    "                if ntrials>1:\n",
    "                    ax[0,m].set_title('{}{}{}, ll={:.2f}'.format(winstr,model.modelshort,winstr,llrow[m]))\n",
    "                else:                    \n",
    "                    ax[m].set_title('{}{}{}, ll={:.2f}'.format(winstr,model.modelshort,winstr,llrow[m]))\n",
    "                params = best_params[model.model]\n",
    "                #Plot heatmap for each model\n",
    "                ps += [model(categories,params,trialppt.stimrange,wrap_ax=wrap_ax).get_generation_ps(trialppt.stimuli,1,'generate')]\n",
    "                #Get lls for each trial step\n",
    "                ll_trial += [trialppt.loglike(params=params,model=model,parmxform=False,whole_array=True)]\n",
    "\n",
    "            #Plot the individual plots\n",
    "            plotct = 0\n",
    "            plotVals = []\n",
    "            psMax = 0\n",
    "            psMin = 1\n",
    "            #Get range                                                                                                                                     \n",
    "            for ps_el in ps:\n",
    "                psMax = max(psMax,ps_el.max())\n",
    "                psMin = min(psMin,ps_el.min())\n",
    "\n",
    "            #Normalise all values                                                                                                                          \n",
    "            psRange = psMax-psMin\n",
    "            for i,ps_el in enumerate(ps): #each ps element correspond to a model\n",
    "                plotct += 1\n",
    "                gps = funcs.gradientroll(ps_el,'roll')[:,:,0]\n",
    "                ps_ElRange = gps.max()-gps.min();\n",
    "                plotVals += [(gps-gps.min())/ps_ElRange]                                                                             \n",
    "                betacol = ['green' for bi in range(len(B))]\n",
    "#                 if task is 'generate':\n",
    "#                     betacol[len(B)-1] = 'orange'\n",
    "                if ntrials>1:\n",
    "                    betacol[len(B)-1] = 'orange'\n",
    "                    if trial == ntrials-1:\n",
    "                        betacol[len(B)-1] = [0,0,0,0]\n",
    "                    im = funcs.plotgradient(ax[trial,i], plotVals[i], A, B, clim = STAT_LIMS, cmap = 'PuOr',beta_col=betacol,gammas=C)\n",
    "                    ax[trial,i].set_ylabel('Trial {}\\n{}'.format(trial,wrapstr))\n",
    "                    if trial<ntrials-1:\n",
    "                        ax[trial,i].set_xlabel('ll_trial = {:.2f}'.format(ll_trial[i][trial]),fontsize=10)\n",
    "                    #else:\n",
    "                        \n",
    "                else:\n",
    "                    im = funcs.plotgradient(ax[i], plotVals[i], A, B, clim = STAT_LIMS, cmap = 'PuOr',beta_col=betacol,gammas=C)\n",
    "#                     ax[i].set_ylabel('Trial {}'.format(trial))\n",
    "        #Save fig\n",
    "        if saveplots:\n",
    "            savedirext = '{}/{}'.format(savedir,bestmodelstr)\n",
    "            if os.path.isdir(savedirext):\n",
    "                plt.savefig('{}/{}_{}_{}'.format(savedirext,pptconstr,int(ppt),bestmodelstr[0]))\n",
    "            else:\n",
    "                os.mkdir(savedirext)\n",
    "                plt.savefig('{}/{}_{}_{}'.format(savedirext,pptconstr,int(ppt),bestmodelstr[0]))\n",
    "        plt.close()\n",
    "        ll_trials += [np.array(ll_trial).T]\n",
    "\n",
    "\n",
    "    \n"
   ]
  },
  {
   "cell_type": "code",
   "execution_count": null,
   "metadata": {
    "scrolled": true
   },
   "outputs": [],
   "source": [
    "for ii,trialt in enumerate(trials.Set):\n",
    "    if len(trialt['categories'])>2:\n",
    "        print\n",
    "        lll"
   ]
  },
  {
   "cell_type": "code",
   "execution_count": 13,
   "metadata": {},
   "outputs": [
    {
     "data": {
      "text/plain": [
       "[{'categories': [array([ 403,  818, 1479, 1890]), array([], dtype=float64)],\n",
       "  'participant': [array([], dtype=int64), array([286])],\n",
       "  'response': [array([], dtype=int64), array([2499])],\n",
       "  'trial': 0,\n",
       "  'wrap_ax': [array([], dtype=int64), array([None], dtype=object)]},\n",
       " {'categories': [array([ 403,  818, 1479, 1890]), array([2499])],\n",
       "  'participant': [array([], dtype=int64), array([286])],\n",
       "  'response': [array([], dtype=int64), array([49])],\n",
       "  'trial': 1,\n",
       "  'wrap_ax': [array([], dtype=int64), array([None], dtype=object)]},\n",
       " {'categories': [array([ 403,  818, 1479, 1890]), array([  49, 2499])],\n",
       "  'participant': [array([], dtype=int64), array([286])],\n",
       "  'response': [array([], dtype=int64), array([2450])],\n",
       "  'trial': 2,\n",
       "  'wrap_ax': [array([], dtype=int64), array([None], dtype=object)]},\n",
       " {'categories': [array([ 403,  818, 1479, 1890]), array([  49, 2450, 2499])],\n",
       "  'participant': [array([], dtype=int64), array([286])],\n",
       "  'response': [array([], dtype=int64), array([0])],\n",
       "  'trial': 3,\n",
       "  'wrap_ax': [array([], dtype=int64), array([None], dtype=object)]},\n",
       " {'categories': [array([ 403,  818, 1479, 1890]),\n",
       "   array([   0,   49, 2450, 2499])],\n",
       "  'participant': [array([], dtype=int64),\n",
       "   array([], dtype=int64),\n",
       "   array([286., 286., 286., 286.])],\n",
       "  'response': [array([], dtype=int64),\n",
       "   array([], dtype=int64),\n",
       "   array([2489.,   39., 2459.,   11.])],\n",
       "  'trial': 4,\n",
       "  'wrap_ax': [array([], dtype=int64),\n",
       "   array([], dtype=object),\n",
       "   array([None, None, None, None], dtype=object)]},\n",
       " {'categories': [array([ 403,  818, 1479, 1890]),\n",
       "   array([   0.,   11.,   39.,   49., 2450., 2459., 2489., 2499.])],\n",
       "  'participant': array([286]),\n",
       "  'response': array([0]),\n",
       "  'wrap_ax': array([None], dtype=object)}]"
      ]
     },
     "execution_count": 13,
     "metadata": {},
     "output_type": "execute_result"
    }
   ],
   "source": [
    "trialppt.Set"
   ]
  },
  {
   "cell_type": "code",
   "execution_count": 14,
   "metadata": {},
   "outputs": [
    {
     "data": {
      "text/plain": [
       "[{'categories': [array([ 403,  818, 1479, 1890]), array([], dtype=int64)],\n",
       "  'participant': [array([], dtype=int64), array([286])],\n",
       "  'response': [array([], dtype=int64), array([2499])],\n",
       "  'trial': 0,\n",
       "  'wrap_ax': [array([], dtype=int64), array([None], dtype=object)]},\n",
       " {'categories': [array([ 403,  818, 1479, 1890]), array([2499])],\n",
       "  'participant': [array([], dtype=int64), array([286])],\n",
       "  'response': [array([], dtype=int64), array([49])],\n",
       "  'trial': 1,\n",
       "  'wrap_ax': [array([], dtype=int64), array([None], dtype=object)]},\n",
       " {'categories': [array([ 403,  818, 1479, 1890]), array([  49, 2499])],\n",
       "  'participant': [array([], dtype=int64), array([286])],\n",
       "  'response': [array([], dtype=int64), array([2450])],\n",
       "  'trial': 2,\n",
       "  'wrap_ax': [array([], dtype=int64), array([None], dtype=object)]},\n",
       " {'categories': [array([ 403,  818, 1479, 1890]), array([  49, 2450, 2499])],\n",
       "  'participant': [array([], dtype=int64), array([286])],\n",
       "  'response': [array([], dtype=int64), array([0])],\n",
       "  'trial': 3,\n",
       "  'wrap_ax': [array([], dtype=int64), array([None], dtype=object)]},\n",
       " {'categories': [array([ 403,  818, 1479, 1890]),\n",
       "   array([   0,   49, 2450, 2499])],\n",
       "  'participant': [array([], dtype=int64),\n",
       "   array([], dtype=int64),\n",
       "   array([286., 286., 286., 286.])],\n",
       "  'response': [array([], dtype=int64),\n",
       "   array([], dtype=int64),\n",
       "   array([2489.,   39., 2459.,   11.])],\n",
       "  'trial': 4,\n",
       "  'wrap_ax': [array([], dtype=int64),\n",
       "   array([], dtype=object),\n",
       "   array([None, None, None, None], dtype=object)]},\n",
       " {'categories': [array([ 403,  818, 1479, 1890]),\n",
       "   array([   0,   11,   39,   49, 2450, 2459, 2489, 2499])],\n",
       "  'participant': array([286]),\n",
       "  'response': array([0]),\n",
       "  'wrap_ax': array([None], dtype=object)}]"
      ]
     },
     "execution_count": 14,
     "metadata": {},
     "output_type": "execute_result"
    }
   ],
   "source": [
    "for ti,trial in enumerate(trialppt.Set):\n",
    "    trialppt.Set[ti]['categories'] = [np.array(tt,dtype=int) for tt in trial['categories']]\n",
    "    \n",
    "trialppt.Set"
   ]
  },
  {
   "cell_type": "code",
   "execution_count": 20,
   "metadata": {},
   "outputs": [
    {
     "data": {
      "text/plain": [
       "{'categories': [array([ 403,  818, 1479, 1890]),\n",
       "  array([   0.,   11.,   39.,   49., 2450., 2459., 2489., 2499.])],\n",
       " 'participant': array([286]),\n",
       " 'response': array([0]),\n",
       " 'wrap_ax': array([None], dtype=object)}"
      ]
     },
     "execution_count": 20,
     "metadata": {},
     "output_type": "execute_result"
    }
   ],
   "source": [
    "trialt = trialppt.Set[5]\n",
    "trialt\n",
    "#[trialppt.stimuli[i,:] for i in trialt['categories'] if len(i)>0]"
   ]
  },
  {
   "cell_type": "code",
   "execution_count": 15,
   "metadata": {},
   "outputs": [
    {
     "data": {
      "text/plain": [
       "{'categories': [array([ 403,  818, 1479, 1890]),\n",
       "  array([1899, 1994, 2344, 2498]),\n",
       "  array([1890, 2092])],\n",
       " 'participant': [array([], dtype=int64), array([], dtype=int64), array([37])],\n",
       " 'response': [array([], dtype=int64), array([], dtype=int64), array([2190])],\n",
       " 'wrap_ax': [array([], dtype=int64),\n",
       "  array([], dtype=int64),\n",
       "  array([None], dtype=object)]}"
      ]
     },
     "execution_count": 15,
     "metadata": {},
     "output_type": "execute_result"
    }
   ],
   "source": [
    "trials.Set[29]"
   ]
  },
  {
   "cell_type": "code",
   "execution_count": 6,
   "metadata": {},
   "outputs": [
    {
     "data": {
      "text/plain": [
       "[{'categories': [array([ 403,  818, 1479, 1890]), array([], dtype=float64)],\n",
       "  'participant': [array([], dtype=int64), array([37])],\n",
       "  'response': [array([], dtype=int64), array([1899])],\n",
       "  'trial': 0,\n",
       "  'wrap_ax': [array([], dtype=int64), array([None], dtype=object)]},\n",
       " {'categories': [array([ 403,  818, 1479, 1890]), array([1899])],\n",
       "  'participant': [array([], dtype=int64), array([37])],\n",
       "  'response': [array([], dtype=int64), array([2498])],\n",
       "  'trial': 1,\n",
       "  'wrap_ax': [array([], dtype=int64), array([None], dtype=object)]},\n",
       " {'categories': [array([ 403,  818, 1479, 1890]), array([1899, 2498])],\n",
       "  'participant': [array([], dtype=int64), array([37])],\n",
       "  'response': [array([], dtype=int64), array([2344])],\n",
       "  'trial': 2,\n",
       "  'wrap_ax': [array([], dtype=int64), array([None], dtype=object)]},\n",
       " {'categories': [array([ 403,  818, 1479, 1890]), array([1899, 2344, 2498])],\n",
       "  'participant': [array([], dtype=int64), array([37])],\n",
       "  'response': [array([], dtype=int64), array([1994])],\n",
       "  'trial': 3,\n",
       "  'wrap_ax': [array([], dtype=int64), array([None], dtype=object)]},\n",
       " {'categories': [array([ 403,  818, 1479, 1890]),\n",
       "   array([1899, 1994, 2344, 2498]),\n",
       "   array([], dtype=float64)],\n",
       "  'participant': [array([], dtype=int64), array([], dtype=int64), array([37])],\n",
       "  'response': [array([], dtype=int64), array([], dtype=int64), array([1890])],\n",
       "  'trial': 4,\n",
       "  'wrap_ax': [array([], dtype=int64),\n",
       "   array([], dtype=int64),\n",
       "   array([None], dtype=object)]},\n",
       " {'categories': [array([ 403,  818, 1479, 1890]),\n",
       "   array([1899, 1994, 2344, 2498]),\n",
       "   array([1890])],\n",
       "  'participant': [array([], dtype=int64), array([], dtype=int64), array([37])],\n",
       "  'response': [array([], dtype=int64), array([], dtype=int64), array([2092])],\n",
       "  'trial': 5,\n",
       "  'wrap_ax': [array([], dtype=int64),\n",
       "   array([], dtype=int64),\n",
       "   array([None], dtype=object)]},\n",
       " {'categories': [array([ 403,  818, 1479, 1890]),\n",
       "   array([1899, 1994, 2344, 2498]),\n",
       "   array([1890, 2092])],\n",
       "  'participant': [array([], dtype=int64), array([], dtype=int64), array([37])],\n",
       "  'response': [array([], dtype=int64), array([], dtype=int64), array([2190])],\n",
       "  'trial': 6,\n",
       "  'wrap_ax': [array([], dtype=int64),\n",
       "   array([], dtype=int64),\n",
       "   array([None], dtype=object)]},\n",
       " {'categories': [array([ 403,  818, 1479, 1890]),\n",
       "   array([1899, 1994, 2344, 2498]),\n",
       "   array([1890, 2092, 2190])],\n",
       "  'participant': [array([], dtype=int64), array([], dtype=int64), array([37])],\n",
       "  'response': [array([], dtype=int64), array([], dtype=int64), array([2191])],\n",
       "  'trial': 7,\n",
       "  'wrap_ax': [array([], dtype=int64),\n",
       "   array([], dtype=int64),\n",
       "   array([None], dtype=object)]},\n",
       " {'categories': [array([ 403,  818, 1479, 1890]),\n",
       "   array([1899, 1994, 2191, 2344, 2498])],\n",
       "  'participant': array([37]),\n",
       "  'response': array([0]),\n",
       "  'wrap_ax': array([None], dtype=object)}]"
      ]
     },
     "execution_count": 6,
     "metadata": {},
     "output_type": "execute_result"
    }
   ],
   "source": [
    "trialppt.Set"
   ]
  },
  {
   "cell_type": "code",
   "execution_count": 13,
   "metadata": {},
   "outputs": [
    {
     "name": "stdout",
     "output_type": "stream",
     "text": [
      "[[0.00749688 0.00249896]\n",
      " [0.00249896 0.00083299]]\n",
      "-9.3017536665824e-22\n",
      "[[-8.95514995e+17  2.68654542e+18]\n",
      " [ 2.68654542e+18 -8.05963759e+18]]\n",
      "3.0587143513049225e-211\n"
     ]
    }
   ],
   "source": [
    "temp = np.array([[0.63265306,0.51020408],\n",
    " [0.71428571,0.67346939]])\n",
    "# temp = np.array([[1,1.32],[0,10]])\n",
    "print(np.cov(temp))\n",
    "print(np.linalg.det(np.cov(temp)))\n",
    "print(np.linalg.inv(np.cov(temp)))\n",
    "tempm = np.array([0,0])\n",
    "from scipy.stats import multivariate_normal\n",
    "a = multivariate_normal(tempm,np.cov(temp),allow_singular=True)\n",
    "print(a.pdf([2,3]))"
   ]
  },
  {
   "cell_type": "code",
   "execution_count": 3,
   "metadata": {},
   "outputs": [
    {
     "ename": "NameError",
     "evalue": "name 'best_params' is not defined",
     "output_type": "error",
     "traceback": [
      "\u001b[0;31m---------------------------------------------------------------------\u001b[0m",
      "\u001b[0;31mNameError\u001b[0m                           Traceback (most recent call last)",
      "\u001b[0;32m<ipython-input-3-236188203911>\u001b[0m in \u001b[0;36m<module>\u001b[0;34m()\u001b[0m\n\u001b[0;32m----> 1\u001b[0;31m \u001b[0mbest_params\u001b[0m\u001b[0;34m[\u001b[0m\u001b[0;34m'Hierarchical Sampling With Representativeness'\u001b[0m\u001b[0;34m]\u001b[0m\u001b[0;34m\u001b[0m\u001b[0m\n\u001b[0m",
      "\u001b[0;31mNameError\u001b[0m: name 'best_params' is not defined"
     ]
    }
   ],
   "source": [
    "best_params['Hierarchical Sampling With Representativeness']"
   ]
  },
  {
   "cell_type": "code",
   "execution_count": 18,
   "metadata": {},
   "outputs": [
    {
     "name": "stdout",
     "output_type": "stream",
     "text": [
      "[[0.003 0.004 0.004 0.004 0.004 0.004 0.004 0.004 0.003]\n",
      " [0.006 0.007 0.007 0.008 0.008 0.008 0.007 0.007 0.006]\n",
      " [0.01  0.012 0.013 0.013 0.013 0.013 0.013 0.012 0.01 ]\n",
      " [0.017 0.019 0.021 0.022 0.022 0.022 0.021 0.019 0.017]\n",
      " [0.022 0.024 0.026 0.027 0.028 0.027 0.026 0.024 0.022]\n",
      " [0.017 0.019 0.021 0.022 0.022 0.022 0.021 0.019 0.017]\n",
      " [0.01  0.012 0.013 0.013 0.013 0.013 0.013 0.012 0.01 ]\n",
      " [0.006 0.007 0.007 0.008 0.008 0.008 0.007 0.007 0.006]\n",
      " [0.003 0.004 0.004 0.004 0.004 0.004 0.004 0.004 0.003]]\n",
      "[[0.003 0.004 0.004 0.004 0.004 0.004 0.004 0.004 0.003]\n",
      " [0.003 0.004 0.004 0.004 0.004 0.004 0.004 0.004 0.003]\n",
      " [0.006 0.007 0.007 0.008 0.008 0.008 0.007 0.007 0.006]\n",
      " [0.01  0.012 0.013 0.013 0.013 0.013 0.013 0.012 0.01 ]\n",
      " [0.017 0.019 0.021 0.022 0.022 0.022 0.021 0.019 0.017]\n",
      " [0.022 0.024 0.026 0.027 0.028 0.027 0.026 0.024 0.022]\n",
      " [0.017 0.019 0.021 0.022 0.022 0.022 0.021 0.019 0.017]\n",
      " [0.01  0.012 0.013 0.013 0.013 0.013 0.013 0.012 0.01 ]\n",
      " [0.006 0.007 0.007 0.008 0.008 0.008 0.007 0.007 0.006]]\n"
     ]
    }
   ],
   "source": [
    "#PACKER passes the translation test.\n",
    "wrap_ax = 1\n",
    "model = Packer\n",
    "params = best_params[model.model]\n",
    "categories1 = [np.array([[-1,-1],[1,-1],[-1,1],[1,1]])]\n",
    "temp1 = model(categories1,params,trialppt.stimrange).get_generation_ps(trialppt.stimuli,1,'generate',wrap_ax=wrap_ax)\n",
    "print(np.round(np.reshape(temp1,(9,9)),3))\n",
    "categories2 = [np.array([[-1,-1],[1,-1],[-1,-.75],[1,-.75]])]\n",
    "temp2 = model(categories2,params,trialppt.stimrange).get_generation_ps(trialppt.stimuli,1,'generate',wrap_ax=wrap_ax)\n",
    "print(np.round(np.reshape(temp2,(9,9)),3))"
   ]
  },
  {
   "cell_type": "code",
   "execution_count": 13,
   "metadata": {},
   "outputs": [],
   "source": [
    "# best_params['Hierarchical Sampling With Representativeness']\n",
    "# temp_params = best_params['Hierarchical Sampling With Representativeness'].copy()\n",
    "# temp_params['domain_variance_bias'] = .0001\n",
    "# categories1 = [np.array([[-1,-1],[1,-1],[-1,1],[1,1]])]\n",
    "# wrap_ax = None\n",
    "\n",
    "# temp1 = model(categories1,temp_params,trialppt.stimrange).get_generation_ps(trialppt.stimuli,1,'generate',wrap_ax=wrap_ax)\n",
    "# print(np.round(np.reshape(temp1,(9,9)),3))"
   ]
  },
  {
   "cell_type": "code",
   "execution_count": 8,
   "metadata": {},
   "outputs": [
    {
     "data": {
      "text/plain": [
       "array([-2.  , -0.75])"
      ]
     },
     "execution_count": 8,
     "metadata": {},
     "output_type": "execute_result"
    }
   ],
   "source": [
    "cat = categories1[0]\n",
    "new_exm = cat[cat[:,wrap_ax]>=0,:]\n",
    "shift_exm = cat[cat[:,wrap_ax]<0,:]\n",
    "shift_exm[:,wrap_ax] = shift_exm[:,wrap_ax] + 2.5\n",
    "new_exm = np.concatenate([new_exm,shift_exm])\n",
    "np.mean(new_exm,axis=0)-ax_range\n",
    "#wrap_ax"
   ]
  },
  {
   "cell_type": "code",
   "execution_count": 7,
   "metadata": {},
   "outputs": [
    {
     "data": {
      "text/plain": [
       "1.0"
      ]
     },
     "execution_count": 7,
     "metadata": {},
     "output_type": "execute_result"
    }
   ],
   "source": [
    "ax_max = np.max(stimuli,axis=0)[wrap_ax]\n",
    "ax_min = np.min(stimuli,axis=0)[wrap_ax]\n",
    "ax_range = ax_max-ax_min\n",
    "ax_steps = stimuli[1]-stimuli[0]\n",
    "ax_step = abs(ax_steps[ax_steps>0][0])\n",
    "# ax_range += ax_step\n",
    "num_steps =\tint(ax_range/ax_step)\n",
    "ax_range/2"
   ]
  },
  {
   "cell_type": "code",
   "execution_count": 9,
   "metadata": {},
   "outputs": [
    {
     "name": "stdout",
     "output_type": "stream",
     "text": [
      "[[0.005 0.004 0.003 0.002 0.002 0.002 0.003 0.004 0.005]\n",
      " [0.008 0.005 0.004 0.003 0.003 0.003 0.004 0.005 0.008]\n",
      " [0.016 0.01  0.008 0.006 0.006 0.006 0.008 0.01  0.016]\n",
      " [0.036 0.023 0.017 0.014 0.014 0.014 0.017 0.023 0.036]\n",
      " [0.053 0.035 0.026 0.021 0.02  0.021 0.026 0.035 0.053]\n",
      " [0.036 0.023 0.017 0.014 0.014 0.014 0.017 0.023 0.036]\n",
      " [0.016 0.01  0.008 0.006 0.006 0.006 0.008 0.01  0.016]\n",
      " [0.008 0.005 0.004 0.003 0.003 0.003 0.004 0.005 0.008]\n",
      " [0.005 0.004 0.003 0.002 0.002 0.002 0.003 0.004 0.005]]\n",
      "[[0.005 0.004 0.003 0.002 0.002 0.002 0.003 0.004 0.005]\n",
      " [0.005 0.004 0.003 0.002 0.002 0.002 0.003 0.004 0.005]\n",
      " [0.008 0.005 0.004 0.003 0.003 0.003 0.004 0.005 0.008]\n",
      " [0.016 0.01  0.008 0.006 0.006 0.006 0.008 0.01  0.016]\n",
      " [0.036 0.023 0.017 0.014 0.014 0.014 0.017 0.023 0.036]\n",
      " [0.053 0.035 0.026 0.021 0.02  0.021 0.026 0.035 0.053]\n",
      " [0.035 0.023 0.017 0.014 0.014 0.014 0.017 0.023 0.035]\n",
      " [0.016 0.01  0.008 0.006 0.006 0.006 0.008 0.01  0.016]\n",
      " [0.008 0.005 0.004 0.003 0.003 0.003 0.004 0.005 0.008]]\n"
     ]
    }
   ],
   "source": [
    "#HOW COME REP FAILS THE TRANSLATION TEST?!\n",
    "#aaahh... because it's not computing the empirical means and covmats correctly -- doesn't take into account the wrap.\n",
    "\n",
    "wrap_ax = 1\n",
    "model = RepresentJK13\n",
    "params = best_params[model.model]\n",
    "params['category_mean_bias'] = 0\n",
    "categories1 = [np.array([[-1.,-1.],[1.,-1.],[-1.,1.],[1.,1.]])]\n",
    "temp1 = model(categories1,params,trialppt.stimrange,wrap_ax=wrap_ax).get_generation_ps(trialppt.stimuli,1,'generate',wrap_ax=wrap_ax)\n",
    "print(np.round(np.reshape(temp1,(9,9)),3))\n",
    "categories2 = [np.array([[-1.,-1.],[1.,-1.],[-1.,-.75],[1.,-.75]])]\n",
    "temp2 = model(categories2,params,trialppt.stimrange,wrap_ax=wrap_ax).get_generation_ps(trialppt.stimuli,1,'generate',wrap_ax=wrap_ax)\n",
    "print(np.round(np.reshape(temp2,(9,9)),3))"
   ]
  },
  {
   "cell_type": "code",
   "execution_count": 4,
   "metadata": {},
   "outputs": [
    {
     "name": "stdout",
     "output_type": "stream",
     "text": [
      "[ 0.    -1.125]\n",
      "[ 0.    -1.125]\n",
      "[ 0.    -1.125]\n",
      "[[0.9127657 0.       ]\n",
      " [0.        0.3877657]]\n",
      "[[0.152 0.193 0.229 0.254 0.263 0.254 0.229 0.193 0.152]\n",
      " [0.131 0.166 0.197 0.218 0.226 0.218 0.197 0.166 0.131]\n",
      " [0.099 0.125 0.149 0.165 0.171 0.165 0.149 0.125 0.099]\n",
      " [0.071 0.09  0.107 0.119 0.123 0.119 0.107 0.09  0.071]\n",
      " [0.06  0.077 0.091 0.101 0.105 0.101 0.091 0.077 0.06 ]\n",
      " [0.071 0.09  0.107 0.119 0.123 0.119 0.107 0.09  0.071]\n",
      " [0.099 0.125 0.149 0.165 0.171 0.165 0.149 0.125 0.099]\n",
      " [0.131 0.166 0.197 0.218 0.226 0.218 0.197 0.166 0.131]\n",
      " [0.152 0.193 0.229 0.254 0.263 0.254 0.229 0.193 0.152]]\n",
      "[[0.006 0.004 0.003 0.002 0.002 0.002 0.003 0.004 0.006]\n",
      " [0.008 0.005 0.004 0.003 0.003 0.003 0.004 0.005 0.008]\n",
      " [0.016 0.01  0.008 0.006 0.006 0.006 0.008 0.01  0.016]\n",
      " [0.036 0.023 0.017 0.014 0.014 0.014 0.017 0.023 0.036]\n",
      " [0.053 0.035 0.026 0.021 0.02  0.021 0.026 0.035 0.053]\n",
      " [0.035 0.023 0.017 0.014 0.014 0.014 0.017 0.023 0.035]\n",
      " [0.016 0.01  0.008 0.006 0.006 0.006 0.008 0.01  0.016]\n",
      " [0.008 0.005 0.004 0.003 0.003 0.003 0.004 0.005 0.008]\n",
      " [0.006 0.004 0.003 0.002 0.002 0.002 0.003 0.004 0.006]]\n",
      "[ 0.    -0.875]\n",
      "[ 0.    -0.875]\n",
      "[ 0.    -0.875]\n",
      "[[0.9127657 0.       ]\n",
      " [0.        0.3877657]]\n",
      "[[0.152 0.193 0.229 0.254 0.263 0.254 0.229 0.193 0.152]\n",
      " [0.152 0.193 0.229 0.254 0.263 0.254 0.229 0.193 0.152]\n",
      " [0.131 0.166 0.197 0.218 0.226 0.218 0.197 0.166 0.131]\n",
      " [0.099 0.125 0.149 0.165 0.171 0.165 0.149 0.125 0.099]\n",
      " [0.071 0.09  0.107 0.119 0.123 0.119 0.107 0.09  0.071]\n",
      " [0.06  0.077 0.091 0.101 0.105 0.101 0.091 0.077 0.06 ]\n",
      " [0.071 0.09  0.107 0.119 0.123 0.119 0.107 0.09  0.071]\n",
      " [0.099 0.125 0.149 0.165 0.171 0.165 0.149 0.125 0.099]\n",
      " [0.131 0.166 0.197 0.218 0.226 0.218 0.197 0.166 0.131]]\n",
      "[[0.006 0.004 0.003 0.002 0.002 0.002 0.003 0.004 0.006]\n",
      " [0.005 0.004 0.003 0.002 0.002 0.002 0.003 0.004 0.005]\n",
      " [0.008 0.005 0.004 0.003 0.003 0.003 0.004 0.005 0.008]\n",
      " [0.016 0.01  0.008 0.006 0.006 0.006 0.008 0.01  0.016]\n",
      " [0.035 0.023 0.017 0.014 0.014 0.014 0.017 0.023 0.035]\n",
      " [0.053 0.035 0.026 0.021 0.02  0.021 0.026 0.035 0.053]\n",
      " [0.036 0.023 0.017 0.014 0.014 0.014 0.017 0.023 0.036]\n",
      " [0.016 0.01  0.008 0.006 0.006 0.006 0.008 0.01  0.016]\n",
      " [0.008 0.005 0.004 0.003 0.003 0.003 0.004 0.005 0.008]]\n"
     ]
    }
   ],
   "source": [
    "#HOW COME REP FAILS THE TRANSLATION TEST?!\n",
    "#aaahh... because it's not computing the empirical means and covmats correctly -- doesn't take into account the wrap.\n",
    "# Ok should be fixed now 300719\n",
    "\n",
    "wrap_ax = 1\n",
    "model = RepresentJK13\n",
    "params = best_params[model.model]\n",
    "categories1 = [np.array([[-1.,-1.],[1.,-1.],[-1.,1.],[1.,1.]])]\n",
    "temp1 = model(categories1,params,trialppt.stimrange,wrap_ax=wrap_ax).get_generation_ps(trialppt.stimuli,1,'generate',wrap_ax=wrap_ax)\n",
    "print(np.round(np.reshape(temp1,(9,9)),3))\n",
    "categories2 = [np.array([[-1.,-1.],[1.,-1.],[-1.,-.75],[1.,-.75]])]\n",
    "temp2 = model(categories2,params,trialppt.stimrange,wrap_ax=wrap_ax).get_generation_ps(trialppt.stimuli,1,'generate',wrap_ax=wrap_ax)\n",
    "print(np.round(np.reshape(temp2,(9,9)),3))"
   ]
  },
  {
   "cell_type": "code",
   "execution_count": 1,
   "metadata": {
    "scrolled": false
   },
   "outputs": [
    {
     "ename": "NameError",
     "evalue": "name 'RepresentJK13' is not defined",
     "output_type": "error",
     "traceback": [
      "\u001b[0;31m--------------------------------------------------------------\u001b[0m",
      "\u001b[0;31mNameError\u001b[0m                    Traceback (most recent call last)",
      "\u001b[0;32m<ipython-input-1-8fe58f0f8eb7>\u001b[0m in \u001b[0;36m<module>\u001b[0;34m()\u001b[0m\n\u001b[1;32m      1\u001b[0m \u001b[0;31m#HOW COME REP FAILS THE TRANSLATION TEST?! -- Old parms\u001b[0m\u001b[0;34m\u001b[0m\u001b[0;34m\u001b[0m\u001b[0m\n\u001b[0;32m----> 2\u001b[0;31m \u001b[0mmodel\u001b[0m \u001b[0;34m=\u001b[0m \u001b[0mRepresentJK13\u001b[0m\u001b[0;34m\u001b[0m\u001b[0m\n\u001b[0m\u001b[1;32m      3\u001b[0m \u001b[0mparams\u001b[0m \u001b[0;34m=\u001b[0m \u001b[0mbest_params\u001b[0m\u001b[0;34m[\u001b[0m\u001b[0mmodel\u001b[0m\u001b[0;34m.\u001b[0m\u001b[0mmodel\u001b[0m\u001b[0;34m]\u001b[0m\u001b[0;34m\u001b[0m\u001b[0m\n\u001b[1;32m      4\u001b[0m \u001b[0mcategories1\u001b[0m \u001b[0;34m=\u001b[0m \u001b[0;34m[\u001b[0m\u001b[0mnp\u001b[0m\u001b[0;34m.\u001b[0m\u001b[0marray\u001b[0m\u001b[0;34m(\u001b[0m\u001b[0;34m[\u001b[0m\u001b[0;34m[\u001b[0m\u001b[0;34m-\u001b[0m\u001b[0;36m1\u001b[0m\u001b[0;34m,\u001b[0m\u001b[0;34m-\u001b[0m\u001b[0;36m1\u001b[0m\u001b[0;34m]\u001b[0m\u001b[0;34m,\u001b[0m\u001b[0;34m[\u001b[0m\u001b[0;36m1\u001b[0m\u001b[0;34m,\u001b[0m\u001b[0;34m-\u001b[0m\u001b[0;36m1\u001b[0m\u001b[0;34m]\u001b[0m\u001b[0;34m,\u001b[0m\u001b[0;34m[\u001b[0m\u001b[0;34m-\u001b[0m\u001b[0;36m1\u001b[0m\u001b[0;34m,\u001b[0m\u001b[0;36m1\u001b[0m\u001b[0;34m]\u001b[0m\u001b[0;34m,\u001b[0m\u001b[0;34m[\u001b[0m\u001b[0;36m1\u001b[0m\u001b[0;34m,\u001b[0m\u001b[0;36m1\u001b[0m\u001b[0;34m]\u001b[0m\u001b[0;34m]\u001b[0m\u001b[0;34m)\u001b[0m\u001b[0;34m]\u001b[0m\u001b[0;34m\u001b[0m\u001b[0m\n\u001b[1;32m      5\u001b[0m \u001b[0mtemp1\u001b[0m \u001b[0;34m=\u001b[0m \u001b[0mmodel\u001b[0m\u001b[0;34m(\u001b[0m\u001b[0mcategories1\u001b[0m\u001b[0;34m,\u001b[0m\u001b[0mparams\u001b[0m\u001b[0;34m,\u001b[0m\u001b[0mtrialppt\u001b[0m\u001b[0;34m.\u001b[0m\u001b[0mstimrange\u001b[0m\u001b[0;34m)\u001b[0m\u001b[0;34m.\u001b[0m\u001b[0mget_generation_ps\u001b[0m\u001b[0;34m(\u001b[0m\u001b[0mtrialppt\u001b[0m\u001b[0;34m.\u001b[0m\u001b[0mstimuli\u001b[0m\u001b[0;34m,\u001b[0m\u001b[0;36m1\u001b[0m\u001b[0;34m,\u001b[0m\u001b[0;34m'generate'\u001b[0m\u001b[0;34m,\u001b[0m\u001b[0mwrap_ax\u001b[0m\u001b[0;34m=\u001b[0m\u001b[0mwrap_ax\u001b[0m\u001b[0;34m)\u001b[0m\u001b[0;34m\u001b[0m\u001b[0m\n",
      "\u001b[0;31mNameError\u001b[0m: name 'RepresentJK13' is not defined"
     ]
    }
   ],
   "source": [
    "#HOW COME REP FAILS THE TRANSLATION TEST?! -- Old parms\n",
    "model = RepresentJK13\n",
    "params = best_params[model.model]\n",
    "categories1 = [np.array([[-1,-1],[1,-1],[-1,1],[1,1]])]\n",
    "temp1 = model(categories1,params,trialppt.stimrange).get_generation_ps(trialppt.stimuli,1,'generate',wrap_ax=wrap_ax)\n",
    "print(np.round(np.reshape(temp1,(9,9)),3))\n",
    "categories2 = [np.array([[-1,-1],[1,-1],[-1,-.75],[1,-.75]])]\n",
    "temp2 = model(categories2,params,trialppt.stimrange).get_generation_ps(trialppt.stimuli,1,'generate',wrap_ax=wrap_ax)\n",
    "print(np.round(np.reshape(temp2,(9,9)),3))"
   ]
  },
  {
   "cell_type": "code",
   "execution_count": 2,
   "metadata": {
    "scrolled": true
   },
   "outputs": [
    {
     "ename": "NameError",
     "evalue": "name 'RepresentJK13' is not defined",
     "output_type": "error",
     "traceback": [
      "\u001b[0;31m--------------------------------------------------------------\u001b[0m",
      "\u001b[0;31mNameError\u001b[0m                    Traceback (most recent call last)",
      "\u001b[0;32m<ipython-input-2-69eacae85df7>\u001b[0m in \u001b[0;36m<module>\u001b[0;34m()\u001b[0m\n\u001b[1;32m      3\u001b[0m \u001b[0moutind\u001b[0m \u001b[0;34m=\u001b[0m \u001b[0mrange\u001b[0m\u001b[0;34m(\u001b[0m\u001b[0;36m9\u001b[0m\u001b[0;34m)\u001b[0m \u001b[0;34m+\u001b[0m \u001b[0;34m[\u001b[0m\u001b[0;34m(\u001b[0m\u001b[0me\u001b[0m\u001b[0;34m+\u001b[0m\u001b[0;36m1\u001b[0m\u001b[0;34m)\u001b[0m\u001b[0;34m*\u001b[0m\u001b[0;36m9\u001b[0m \u001b[0;32mfor\u001b[0m \u001b[0me\u001b[0m \u001b[0;32min\u001b[0m \u001b[0mrange\u001b[0m\u001b[0;34m(\u001b[0m\u001b[0;36m7\u001b[0m\u001b[0;34m)\u001b[0m\u001b[0;34m]\u001b[0m \u001b[0;34m+\u001b[0m \u001b[0;34m[\u001b[0m\u001b[0;34m(\u001b[0m\u001b[0me\u001b[0m\u001b[0;34m+\u001b[0m\u001b[0;36m1\u001b[0m\u001b[0;34m)\u001b[0m\u001b[0;34m*\u001b[0m\u001b[0;36m9\u001b[0m\u001b[0;34m+\u001b[0m\u001b[0;36m8\u001b[0m \u001b[0;32mfor\u001b[0m \u001b[0me\u001b[0m \u001b[0;32min\u001b[0m \u001b[0mrange\u001b[0m\u001b[0;34m(\u001b[0m\u001b[0;36m7\u001b[0m\u001b[0;34m)\u001b[0m\u001b[0;34m]\u001b[0m \u001b[0;34m+\u001b[0m \u001b[0mrange\u001b[0m\u001b[0;34m(\u001b[0m\u001b[0;36m72\u001b[0m\u001b[0;34m,\u001b[0m\u001b[0;36m80\u001b[0m\u001b[0;34m)\u001b[0m\u001b[0;34m\u001b[0m\u001b[0m\n\u001b[1;32m      4\u001b[0m \u001b[0minnind\u001b[0m \u001b[0;34m=\u001b[0m \u001b[0;34m[\u001b[0m\u001b[0mi\u001b[0m \u001b[0;32mfor\u001b[0m \u001b[0mi\u001b[0m \u001b[0;32min\u001b[0m \u001b[0mrange\u001b[0m\u001b[0;34m(\u001b[0m\u001b[0;36m81\u001b[0m\u001b[0;34m)\u001b[0m \u001b[0;32mif\u001b[0m \u001b[0;32mnot\u001b[0m \u001b[0mi\u001b[0m \u001b[0;32min\u001b[0m \u001b[0moutind\u001b[0m\u001b[0;34m]\u001b[0m\u001b[0;34m\u001b[0m\u001b[0m\n\u001b[0;32m----> 5\u001b[0;31m \u001b[0mmodel\u001b[0m \u001b[0;34m=\u001b[0m \u001b[0mRepresentJK13\u001b[0m\u001b[0;34m\u001b[0m\u001b[0m\n\u001b[0m\u001b[1;32m      6\u001b[0m \u001b[0mparams\u001b[0m \u001b[0;34m=\u001b[0m \u001b[0mbest_params\u001b[0m\u001b[0;34m[\u001b[0m\u001b[0mmodel\u001b[0m\u001b[0;34m.\u001b[0m\u001b[0mmodel\u001b[0m\u001b[0;34m]\u001b[0m\u001b[0;34m\u001b[0m\u001b[0m\n\u001b[1;32m      7\u001b[0m \u001b[0mcategories1\u001b[0m \u001b[0;34m=\u001b[0m \u001b[0;34m[\u001b[0m\u001b[0mnp\u001b[0m\u001b[0;34m.\u001b[0m\u001b[0marray\u001b[0m\u001b[0;34m(\u001b[0m\u001b[0;34m[\u001b[0m\u001b[0;34m[\u001b[0m\u001b[0;34m-\u001b[0m\u001b[0;36m1\u001b[0m\u001b[0;34m,\u001b[0m\u001b[0;34m-\u001b[0m\u001b[0;36m1\u001b[0m\u001b[0;34m]\u001b[0m\u001b[0;34m,\u001b[0m\u001b[0;34m[\u001b[0m\u001b[0;36m1\u001b[0m\u001b[0;34m,\u001b[0m\u001b[0;34m-\u001b[0m\u001b[0;36m1\u001b[0m\u001b[0;34m]\u001b[0m\u001b[0;34m,\u001b[0m\u001b[0;34m[\u001b[0m\u001b[0;34m-\u001b[0m\u001b[0;36m1\u001b[0m\u001b[0;34m,\u001b[0m\u001b[0;36m1\u001b[0m\u001b[0;34m]\u001b[0m\u001b[0;34m,\u001b[0m\u001b[0;34m[\u001b[0m\u001b[0;36m1\u001b[0m\u001b[0;34m,\u001b[0m\u001b[0;36m1\u001b[0m\u001b[0;34m]\u001b[0m\u001b[0;34m]\u001b[0m\u001b[0;34m)\u001b[0m\u001b[0;34m]\u001b[0m\u001b[0;34m\u001b[0m\u001b[0m\n",
      "\u001b[0;31mNameError\u001b[0m: name 'RepresentJK13' is not defined"
     ]
    }
   ],
   "source": [
    "##Probabilities at outer edge vs inner space - Rep\n",
    "wrap_ax=None\n",
    "outind = range(9) + [(e+1)*9 for e in range(7)] + [(e+1)*9+8 for e in range(7)] + range(72,80)\n",
    "innind = [i for i in range(81) if not i in outind]\n",
    "model = RepresentJK13\n",
    "params = best_params[model.model]\n",
    "categories1 = [np.array([[-1,-1],[1,-1],[-1,1],[1,1]])]\n",
    "temp1 = model(categories1,params,trialppt.stimrange).get_generation_ps(trialppt.stimuli,1,'generate',wrap_ax=wrap_ax)\n",
    "outps = sum(temp1[outind])\n",
    "innps = sum(temp1[innind])\n",
    "# print(np.round(np.reshape(temp1,(9,9)),3))\n",
    "\n",
    "print('Outer edges: ' + str(np.round(outps,2)))\n",
    "print('Inner spaces: ' + str(np.round(innps,2)))"
   ]
  },
  {
   "cell_type": "code",
   "execution_count": 11,
   "metadata": {},
   "outputs": [
    {
     "name": "stdout",
     "output_type": "stream",
     "text": [
      "Outer edges: 0.34\n",
      "Inner spaces: 0.66\n"
     ]
    }
   ],
   "source": [
    "##Probabilities at outer edge vs inner space - Packer\n",
    "outind = range(9) + [(e+1)*9 for e in range(7)] + [(e+1)*9+8 for e in range(7)] + range(72,80)\n",
    "innind = [i for i in range(81) if not i in outind]\n",
    "model = Packer\n",
    "params = best_params[model.model]\n",
    "categories1 = [np.array([[-1,-1],[1,-1],[-1,1],[1,1]])]\n",
    "wrap_ax = None\n",
    "temp1 = model(categories1,params,trials.stimrange,wrap_ax = None).get_generation_ps(trials.stimuli,1,'generate')\n",
    "outps = sum(temp1[outind])\n",
    "innps = sum(temp1[innind])\n",
    "# print(np.round(np.reshape(temp1,(9,9)),3))\n",
    "\n",
    "print('Outer edges: ' + str(np.round(outps,2)))\n",
    "print('Inner spaces: ' + str(np.round(innps,2)))"
   ]
  },
  {
   "cell_type": "code",
   "execution_count": 34,
   "metadata": {
    "scrolled": true
   },
   "outputs": [
    {
     "name": "stdout",
     "output_type": "stream",
     "text": [
      "Outer edges: 0.33\n",
      "Inner spaces: 0.67\n"
     ]
    }
   ],
   "source": [
    "##Probabilities at outer edge vs inner space - Packer\n",
    "outind = range(9) + [(e+1)*9 for e in range(7)] + [(e+1)*9+8 for e in range(7)] + range(72,80)\n",
    "innind = [i for i in range(81) if not i in outind]\n",
    "model = Packer\n",
    "params = best_params[model.model]\n",
    "categories1 = [np.array([[-1,-1],[1,-1],[-1,1],[1,1]])]\n",
    "temp1 = model(categories1,params,trialppt.stimrange).get_generation_ps(trialppt.stimuli,1,'generate',wrap_ax=wrap_ax)\n",
    "outps = sum(temp1[outind])\n",
    "innps = sum(temp1[innind])\n",
    "# print(np.round(np.reshape(temp1,(9,9)),3))\n",
    "\n",
    "print('Outer edges: ' + str(np.round(outps,2)))\n",
    "print('Inner spaces: ' + str(np.round(innps,2)))"
   ]
  },
  {
   "cell_type": "code",
   "execution_count": 19,
   "metadata": {},
   "outputs": [],
   "source": [
    "wrap_ax"
   ]
  },
  {
   "cell_type": "code",
   "execution_count": 27,
   "metadata": {},
   "outputs": [
    {
     "data": {
      "text/plain": [
       "[5, 18, 72, 8, 0, 27, 76, 3, 72, 0, 53, 71, 3, 63, 8, 0]"
      ]
     },
     "execution_count": 27,
     "metadata": {},
     "output_type": "execute_result"
    }
   ],
   "source": [
    "ppt_S = gencond.loc[gencond.trial==0].loc[gencond.condition=='Corner_S'].stimulus.values\n",
    "ppt_C = gencond.loc[gencond.trial==0].loc[gencond.condition=='Corner_C'].stimulus.values\n",
    "outppt = [i for i in ppt_S if i in outind]\n",
    "outppt\n"
   ]
  },
  {
   "cell_type": "code",
   "execution_count": 26,
   "metadata": {},
   "outputs": [
    {
     "name": "stdout",
     "output_type": "stream",
     "text": [
      "Ppts 1st exemplar at circle edges: 5\n",
      "Ppts 1st exemplar at circle inner spaces: 38\n",
      "Ppts 1st exemplar at square edges: 16\n",
      "Ppts 1st exemplar at square inner spaces: 30\n"
     ]
    }
   ],
   "source": [
    "#Count frequencies of people \n",
    "gencond = pd.merge(generation,participants,on='participant')\n",
    "outind = range(9) + [(e+1)*9 for e in range(7)] + [(e+1)*9+8 for e in range(7)] + range(72,80)\n",
    "innind = [i for i in range(81) if not i in outind]\n",
    "#Get people\n",
    "ppt_S = gencond.loc[gencond.trial==0].loc[gencond.condition=='Corner_S'].stimulus.values\n",
    "ppt_C = gencond.loc[gencond.trial==0].loc[gencond.condition=='Corner_C'].stimulus.values\n",
    "outppt = [i for i in ppt_C if i in outind]# + [i for i in ppt_C if i in outind]\n",
    "innppt = [i for i in ppt_C if i in innind]# + [i for i in ppt_C if i in innind]\n",
    "\n",
    "print('Ppts 1st exemplar at circle edges: ' + str(len(outppt)))\n",
    "print('Ppts 1st exemplar at circle inner spaces: ' + str(len(innppt)))\n",
    "\n",
    "outppt = [i for i in ppt_S if i in outind]# + [i for i in ppt_C if i in outind]\n",
    "innppt = [i for i in ppt_S if i in innind]# + [i for i in ppt_C if i in innind]\n",
    "\n",
    "print('Ppts 1st exemplar at square edges: ' + str(len(outppt)))\n",
    "print('Ppts 1st exemplar at square inner spaces: ' + str(len(innppt)))"
   ]
  },
  {
   "cell_type": "code",
   "execution_count": null,
   "metadata": {},
   "outputs": [],
   "source": [
    "#Checkfail comes from the ind_dummy notebook where I look for ppts whose winning order doesn't match the majority of wins across all permutations \n",
    "#That is to say, the order of the generated betas seem to matter most for these guys\n",
    "checkfail = np.asarray([11.0, 14.0, 15.0, 56.0, 62.0, 66.0, 70.0, 98.0, 132.0, 133.0, 141.0, 152.0, 160.0, 163.0, 170.0, 171.0, 178.0, 186.0, 187.0, 201.0, 203.0, 210.0, 213.0, 215.0, 216.0, 221.0, 225.0, 226.0, 232.0, 239.0, 267.0, 273.0, 275.0, 300.0],dtype=int)\n",
    "ll_array = np.array(ll)\n",
    "ll_checkfail = ll_array[checkfail,:]\n",
    "ll_checkfail"
   ]
  },
  {
   "cell_type": "code",
   "execution_count": null,
   "metadata": {
    "scrolled": true
   },
   "outputs": [],
   "source": [
    "trialppt.Set"
   ]
  },
  {
   "cell_type": "code",
   "execution_count": null,
   "metadata": {},
   "outputs": [],
   "source": []
  },
  {
   "cell_type": "code",
   "execution_count": null,
   "metadata": {
    "scrolled": false
   },
   "outputs": [],
   "source": [
    "np.diff(np.mean(np.array(ll_trials),axis=0),axis=1) #positive = packer wins"
   ]
  },
  {
   "cell_type": "code",
   "execution_count": 28,
   "metadata": {},
   "outputs": [
    {
     "name": "stdout",
     "output_type": "stream",
     "text": [
      "Packer wins, mean lls across trials:\n",
      "[161 157 179 182]\n",
      "\n",
      "Representativeness wins, mean lls across trials:\n",
      "[233 237 215 212]\n"
     ]
    }
   ],
   "source": [
    "#Calculate cumulative lls at each trial, excluding last trial (since it's a dummy)\n",
    "ll_trials_cs = [np.cumsum(ppt_trial[:4,:],axis=0) for ppt_trial in ll_trials]\n",
    "#Get wins at each trial\n",
    "ll_trials_mins = [np.argmin(ppt_trial[:4,:],axis=1) for ppt_trial in ll_trials_cs]\n",
    "ll_trials_means = np.mean(np.array(ll_trials),axis=0)\n",
    "repwins = np.sum(np.array(ll_trials_mins),axis=0)\n",
    "packerwins = len(ll_trials) - repwins\n",
    "print('Packer wins, mean lls across trials:')\n",
    "print(packerwins)\n",
    "print\n",
    "print('Representativeness wins, mean lls across trials:')\n",
    "print(repwins)"
   ]
  },
  {
   "cell_type": "code",
   "execution_count": 29,
   "metadata": {},
   "outputs": [
    {
     "name": "stdout",
     "output_type": "stream",
     "text": [
      "Tally of bests:\n",
      "PACKER: 182.00\n",
      "Representative: 212.00\n"
     ]
    }
   ],
   "source": [
    "#Print a summary\n",
    "print('Tally of bests:')\n",
    "\n",
    "for m,model in enumerate(modelList):\n",
    "    print('%s: %.2f' % (model.modelshort,tally[m]))"
   ]
  },
  {
   "cell_type": "code",
   "execution_count": null,
   "metadata": {},
   "outputs": [],
   "source": [
    "trialppt.Set"
   ]
  },
  {
   "cell_type": "code",
   "execution_count": null,
   "metadata": {},
   "outputs": [],
   "source": [
    "trialppt.Set[len(trialppt.Set)-1]['categories']"
   ]
  },
  {
   "cell_type": "code",
   "execution_count": null,
   "metadata": {},
   "outputs": [],
   "source": [
    "temp= cp.deepcopy(trialppt)\n",
    "newcatB = np.append(temp.Set[len(trialppt.Set)-1]['categories'][1],temp.Set[len(trialppt.Set)-1]['response'])\n",
    "newcatAll = [temp.Set[len(trialppt.Set)-1]['categories'][0],newcatB]\n",
    "temp.add(response=np.array([0,0]),categories=newcatAll, participant = ppt)"
   ]
  },
  {
   "cell_type": "code",
   "execution_count": null,
   "metadata": {},
   "outputs": [],
   "source": [
    "trialppt.loglike(params=params,model=model,parmxform=False,whole_array=False)"
   ]
  },
  {
   "cell_type": "code",
   "execution_count": null,
   "metadata": {},
   "outputs": [],
   "source": [
    "sum(trialppt.loglike(params=params,model=model,parmxform=False,whole_array=True))"
   ]
  },
  {
   "cell_type": "code",
   "execution_count": null,
   "metadata": {},
   "outputs": [],
   "source": [
    "trialppt.loglike(params=params,model=model,parmxform=False,whole_array=True)"
   ]
  },
  {
   "cell_type": "code",
   "execution_count": null,
   "metadata": {},
   "outputs": [],
   "source": [
    "newcatAll"
   ]
  },
  {
   "cell_type": "code",
   "execution_count": null,
   "metadata": {},
   "outputs": [],
   "source": [
    "maxbeta"
   ]
  },
  {
   "cell_type": "code",
   "execution_count": null,
   "metadata": {},
   "outputs": [],
   "source": [
    "trialOrder"
   ]
  },
  {
   "cell_type": "code",
   "execution_count": null,
   "metadata": {},
   "outputs": [],
   "source": [
    "lla = np.array(ll)\n",
    "packerwins = np.bool_(1-np.array(wins))\n",
    "repwins = np.bool_(wins)\n",
    "plist = np.abs(lla[packerwins,1]-lla[packerwins,2])\n",
    "rlist = np.abs(lla[repwins,1]-lla[repwins,2])\n",
    "print(np.mean(plist),np.min(plist),np.max(plist))\n",
    "print(np.mean(rlist),np.min(rlist),np.max(rlist))\n",
    "print(sum(lla[packerwins,1]))\n",
    "print(sum(lla[repwins,2]))"
   ]
  },
  {
   "cell_type": "code",
   "execution_count": null,
   "metadata": {},
   "outputs": [],
   "source": [
    "# f = plt.figure()\n",
    "plt.hist(rlist,histtype='step')\n",
    "plt.hist(plist,histtype='step')"
   ]
  },
  {
   "cell_type": "code",
   "execution_count": null,
   "metadata": {},
   "outputs": [],
   "source": [
    "plt.hist(plist)"
   ]
  },
  {
   "cell_type": "code",
   "execution_count": null,
   "metadata": {},
   "outputs": [],
   "source": [
    "len(rlist)"
   ]
  },
  {
   "cell_type": "code",
   "execution_count": 10,
   "metadata": {},
   "outputs": [
    {
     "data": {
      "text/plain": [
       "array([7.97884561e+00, 1.53891973e-21])"
      ]
     },
     "execution_count": 10,
     "metadata": {},
     "output_type": "execute_result"
    }
   ],
   "source": [
    "from scipy.stats import norm\n",
    "norm.pdf([0,1],0,.1)+norm.pdf([0,1],0,.1)\n"
   ]
  },
  {
   "cell_type": "code",
   "execution_count": null,
   "metadata": {},
   "outputs": [],
   "source": []
  }
 ],
 "metadata": {
  "kernelspec": {
   "display_name": "Python 2",
   "language": "python",
   "name": "python2"
  },
  "language_info": {
   "codemirror_mode": {
    "name": "ipython",
    "version": 2
   },
   "file_extension": ".py",
   "mimetype": "text/x-python",
   "name": "python",
   "nbconvert_exporter": "python",
   "pygments_lexer": "ipython2",
   "version": "2.7.16"
  }
 },
 "nbformat": 4,
 "nbformat_minor": 2
}

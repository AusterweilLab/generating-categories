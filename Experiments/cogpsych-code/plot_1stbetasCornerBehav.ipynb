{
 "cells": [
  {
   "cell_type": "code",
   "execution_count": 2,
   "metadata": {},
   "outputs": [],
   "source": [
    "#Can we get plots of first betas?\n",
    "#Shows each individual plot along with which model best fits it\n",
    "import pickle, math\n",
    "import pandas as pd\n",
    "import sqlite3\n",
    "import random\n",
    "import os\n",
    "import itertools\n",
    "exec(open('Imports.py').read()) #execfile('Imports.py')\n",
    "exec(open('ImportModels.py').read())\n",
    "import Modules.Funcs as funcs\n",
    "# from Modules.Classes import Simulation\n",
    "# from Modules.Classes import CopyTweak\n",
    "# from Modules.Classes import CopyTweakRep\n",
    "# from Modules.Classes import Packer\n",
    "# from Modules.Classes import PackerRep\n",
    "# from Modules.Classes import PackerEuc\n",
    "# from Modules.Classes import ConjugateJK13\n",
    "# from Modules.Classes import RepresentJK13\n",
    "from scipy.stats import stats as ss\n",
    "import numpy as np\n",
    "import matplotlib.pyplot as plt\n",
    "import seaborn as sns\n",
    "sns.set_style(\"whitegrid\")\n",
    "\n",
    "#plotting options\n",
    "STAT_LIMS =  (-1.0, 1.0)\n",
    "#Fit to only last trial?\n",
    "fitlast = False\n",
    "#Make plots?\n",
    "doplots = True\n",
    "saveplots = False\n",
    "if fitlast:\n",
    "    showlast = True\n",
    "else:\n",
    "    showlast = False #True = Show last even if fitting to all?\n",
    "#Bootstrap parameters\n",
    "nbootstraps = 1000\n",
    "\n",
    "#Some plotting options\n",
    "font = {'family' : 'DejaVu Sans',\n",
    "        'weight' : 'regular',\n",
    "        'size'   : 15}\n",
    "\n",
    "#Specify simulation values\n",
    "N_SAMPLES = 10000\n",
    "WT_THETA = 1.5\n",
    "MIN_LL = 1e-10\n",
    "\n",
    "# Specify default dataname\n",
    "dbname = 'experiment-corner.db'#'experiments-5con.db'#raw data\n",
    "dataname_def = '5con'#'5con'#bestparms comes from here\n",
    "\n",
    "# Specify default dataname\n",
    "# dataname_def = 'pooled'#'nosofsky1986'#'NGPMG1994'\n",
    "participant_def = 'all'\n",
    "unique_trials_def = 'all'\n",
    "dataname = dataname_def\n",
    "execfile('validate_data.py')\n",
    "\n",
    "bestparmdb = \"pickles/chtc_gs_best_params_{}\".format(src)\n",
    "\n",
    "\n",
    "plt.rc('font', **font)\n",
    "\n",
    "# get data from pickle\n",
    "with open(pickledir+src, \"rb\" ) as f:\n",
    "    trials = pickle.load( f )\n",
    "\n",
    "with open(bestparmdb, \"rb\" ) as f:\n",
    "    best_params_t = pickle.load( f )\n",
    "\n",
    "#Rebuild parms into a smaller dict\n",
    "best_params = dict()\n",
    "for modelname in best_params_t.keys():    \n",
    "    best_params[modelname] = dict()\n",
    "    for i,parmname in enumerate(best_params_t[modelname]['parmnames']):\n",
    "        parmval = best_params_t[modelname]['bestparmsll']\n",
    "        best_params[modelname][parmname] = parmval[i]\n",
    "modelList = [Packer,RepresentJK13]\n",
    "#modelList = [CopyTweak,CopyTweakRep,Packer, RepresentJK13,]                            \n",
    "\n",
    "#Specify plot order\n",
    "modelPlotOrder = np.array([[Packer,RepresentJK13],[CopyTweak,ConjugateJK13]])\n",
    "     \n",
    "unique_trials = 'all'\n",
    "trials.task = task\n",
    "\n",
    "#Create new trialset\n",
    "con = sqlite3.connect(dbname)\n",
    "participants = pd.read_sql_query(\"SELECT participant, condition from participants\", con)\n",
    "generation = pd.read_sql_query(\"SELECT * from generation\", con)\n",
    "alphas = pd.read_sql_query(\"SELECT * from alphas\", con)\n",
    "stimuli = pd.read_sql_query(\"SELECT * from stimuli\", con).values\n",
    "con.close()\n",
    "\n",
    "\n",
    "\n"
   ]
  },
  {
   "cell_type": "code",
   "execution_count": 2,
   "metadata": {
    "scrolled": true
   },
   "outputs": [
    {
     "data": {
      "image/png": "[encoded data removed]",
      "text/plain": [
       "<Figure size 432x216 with 2 Axes>"
      ]
     },
     "metadata": {},
     "output_type": "display_data"
    }
   ],
   "source": [
    "firsts = []\n",
    "firsts += [generation.loc[(generation.wrap_ax==1.0) & (generation.trial==0),'stimulus']] #Circles\n",
    "firsts += [generation.loc[(generation.wrap_ax!=1.0) & (generation.trial==0),'stimulus']] #Squares\n",
    "#Convert to ps\n",
    "ps = []\n",
    "f,ax = plt.subplots(1,len(firsts),figsize=(3*len(firsts),3))\n",
    "A = alphas.Corner_C.values\n",
    "As = stimuli[A]\n",
    "for i,first in enumerate(firsts):\n",
    "    freq = first.value_counts(normalize=True,sort=False).sort_index()\n",
    "    p = np.zeros(len(stimuli))\n",
    "    p[freq.keys()] = freq.values\n",
    "    ps += [p]\n",
    "    gps = funcs.gradientroll(p,'roll')[:,:,0]\n",
    "    ps_ElRange = gps.max()-gps.min();\n",
    "    plotVals = (gps-gps.min())/ps_ElRange\n",
    "    gammas = []\n",
    "    funcs.plotgradient(ax[i], plotVals, As, [], gammas = gammas,clim = STAT_LIMS, cmap = 'PuOr',beta_col='green')"
   ]
  },
  {
   "cell_type": "code",
   "execution_count": 3,
   "metadata": {
    "scrolled": true
   },
   "outputs": [
    {
     "data": {
      "image/png": "[encoded data removed]",
      "text/plain": [
       "<Figure size 432x216 with 2 Axes>"
      ]
     },
     "metadata": {
      "needs_background": "light"
     },
     "output_type": "display_data"
    }
   ],
   "source": [
    "firsts = []\n",
    "firsts += [generation.loc[(generation.wrap_ax==1.0) & (generation.trial==0),'stimulus']] #Circles\n",
    "firsts += [generation.loc[(generation.wrap_ax!=1.0) & (generation.trial==0),'stimulus']] #Squares\n",
    "#Convert to ps\n",
    "ps = []\n",
    "f,ax = plt.subplots(1,len(firsts),figsize=(3*len(firsts),3))\n",
    "A = alphas.Corner_C.values\n",
    "As = stimuli[A]\n",
    "step = .25\n",
    "adj = - step/2\n",
    "for i,first in enumerate(firsts):\n",
    "    stimvals = stimuli[first]\n",
    "    #Add jitter\n",
    "    stimvals = funcs.jitterize(stimvals,sd=.03)\n",
    "    ax[i].scatter(stimvals[:,0],stimvals[:,1],alpha=.5)\n",
    "    stepx = np.unique(stimuli[:,0]) + adj\n",
    "    stepy = np.unique(stimuli[:,1]) + adj\n",
    "    stepx = np.append(stepx,max(stepx)+step)\n",
    "    stepy = np.append(stepy,max(stepy)+step)\n",
    "    for pi,xx in enumerate(stepx):\n",
    "        ax[i].grid(False)\n",
    "        ax[i].plot([xx,xx],[min(stepy),max(stepy)],'k-')        \n",
    "        ax[i].plot([min(stepx),max(stepx)],[xx,xx],'k-')\n",
    "        for AsEl in As:\n",
    "            ax[i].text(AsEl[0],AsEl[1],'A',color='red',\n",
    "                       horizontalalignment='center',verticalalignment='center',\n",
    "                      alpha=.15,\n",
    "                      fontsize=8)\n"
   ]
  },
  {
   "cell_type": "code",
   "execution_count": 13,
   "metadata": {
    "scrolled": true
   },
   "outputs": [
    {
     "name": "stdout",
     "output_type": "stream",
     "text": [
      "{'category_variance_bias': 1.0000000001078726, 'determinism': 2.452535524129651, 'category_mean_bias': 6.731660992152807, 'domain_variance_bias': 1.8971618173988867}\n",
      "Outer edges: 0.03\n",
      "Inner spaces: 0.04\n",
      "0.008328839170985246\n",
      "0.008328839170985246\n",
      "0.0\n"
     ]
    },
    {
     "data": {
      "text/plain": [
       "[<matplotlib.lines.Line2D at 0x11c200d90>]"
      ]
     },
     "execution_count": 13,
     "metadata": {},
     "output_type": "execute_result"
    },
    {
     "data": {
      "image/png": "[encoded data removed]",
      "text/plain": [
       "<Figure size 216x216 with 1 Axes>"
      ]
     },
     "metadata": {},
     "output_type": "display_data"
    }
   ],
   "source": [
    "##Probabilities at outer edge vs inner space - Rep\n",
    "steps = 21\n",
    "vals = np.linspace(-1, 1,steps).tolist()\n",
    "space = np.fliplr(funcs.cartesian([vals, vals]))\n",
    "st = 2./(steps-1)\n",
    "\n",
    "wrap_ax=1\n",
    "outind = range(9) + [(e+1)*9 for e in range(7)] + [(e+1)*9+8 for e in range(7)] + range(72,81)\n",
    "innind = [i for i in range(81) if not i in outind]\n",
    "model = RepresentJK13\n",
    "params = best_params[model.model]\n",
    "# params['category_mean_bias']=0\n",
    "categories1 = [np.array([[-1.,-1.],[1.,-1.],[-1.,1.],[1.,1.]])]\n",
    "\n",
    "# categories1 = [np.array([[-1,-1],[1,-1],[-1,1],[1,1]])]\n",
    "\n",
    "# categories1 = [np.array([[-1,-.5],[1,-.5],[-1,-.75],[1,-.75]])]\n",
    "temp1 = model(categories1,params,wrap_ax=wrap_ax,stimstep=[st,st]).get_generation_ps(space,1,'generate')\n",
    "outps = sum(temp1[outind])\n",
    "innps = sum(temp1[innind])\n",
    "# print(np.round(np.reshape(temp1,(9,9)),3))\n",
    "print(params)\n",
    "print('Outer edges: ' + str(np.round(outps,2)))\n",
    "print('Inner spaces: ' + str(np.round(innps,2)))\n",
    "temp11= np.reshape(temp1,(steps,steps))\n",
    "midtemp = (steps+1)/2 - 1\n",
    "oneup = temp11[midtemp+1][0]\n",
    "onedn = temp11[midtemp-1][0]\n",
    "print(oneup)\n",
    "print(onedn)\n",
    "print(oneup-onedn)\n",
    "f,ax = plt.subplots(1,1,figsize=(3,3))\n",
    "gps = funcs.gradientroll(temp1,'roll')[:,:,0]\n",
    "ps_ElRange = gps.max()-gps.min();\n",
    "plotVals = (gps-gps.min())/ps_ElRange\n",
    "gammas = []\n",
    "funcs.plotgradient(ax, plotVals, categories1[0], [], gammas = gammas,clim = STAT_LIMS, cmap = 'PuOr',beta_col='green')\n",
    "xlim = ax.get_xlim()\n",
    "ylim = ax.get_ylim()\n",
    "yhalf = np.mean(ylim)\n",
    "ax.plot(xlim,[yhalf,yhalf],'r-')"
   ]
  },
  {
   "cell_type": "code",
   "execution_count": 23,
   "metadata": {},
   "outputs": [
    {
     "data": {
      "text/plain": [
       "array([1, 2, 3, 4])"
      ]
     },
     "execution_count": 23,
     "metadata": {},
     "output_type": "execute_result"
    }
   ],
   "source": [
    "np.unique([3,4,1,4,2])"
   ]
  },
  {
   "cell_type": "code",
   "execution_count": 22,
   "metadata": {},
   "outputs": [
    {
     "data": {
      "text/plain": [
       "array([-1.  , -0.75, -0.5 , -0.25,  0.  ,  0.25,  0.5 ,  0.75,  1.  ])"
      ]
     },
     "execution_count": 22,
     "metadata": {},
     "output_type": "execute_result"
    }
   ],
   "source": [
    "np.unique(stimuli[:,0])"
   ]
  },
  {
   "cell_type": "code",
   "execution_count": 13,
   "metadata": {},
   "outputs": [
    {
     "name": "stdout",
     "output_type": "stream",
     "text": [
      "Outer edges: 0.25\n",
      "Inner spaces: 0.75\n"
     ]
    },
    {
     "data": {
      "text/plain": [
       "<matplotlib.image.AxesImage at 0x11d777d90>"
      ]
     },
     "execution_count": 13,
     "metadata": {},
     "output_type": "execute_result"
    },
    {
     "data": {
      "image/png": "[encoded data removed]",
      "text/plain": [
       "<Figure size 216x216 with 1 Axes>"
      ]
     },
     "metadata": {},
     "output_type": "display_data"
    }
   ],
   "source": [
    "# Probabilities at outer edge vs inner space - Rep\n",
    "wrap_ax=1\n",
    "outind = range(9) + [(e+1)*9 for e in range(7)] + [(e+1)*9+8 for e in range(7)] + range(72,81)\n",
    "innind = [i for i in range(81) if not i in outind]\n",
    "model = Packer\n",
    "params = best_params[model.model]\n",
    "categories1 = [np.array([[-1.,-1.],[1.,-1.],[-1.,1.],[1.,1.]])]\n",
    "temp1 = model(categories1,params,wrap_ax=wrap_ax).get_generation_ps(stimuli,1,'generate')\n",
    "outps = sum(temp1[outind])\n",
    "innps = sum(temp1[innind])\n",
    "# print(np.round(np.reshape(temp1,(9,9)),3))\n",
    "\n",
    "print('Outer edges: ' + str(np.round(outps,2)))\n",
    "print('Inner spaces: ' + str(np.round(innps,2)))\n",
    "f,ax = plt.subplots(1,1,figsize=(3,3))\n",
    "gps = funcs.gradientroll(temp1,'roll')[:,:,0]\n",
    "ps_ElRange = gps.max()-gps.min();\n",
    "plotVals = (gps-gps.min())/ps_ElRange\n",
    "gammas = []\n",
    "funcs.plotgradient(ax, plotVals, categories1[0], [], gammas = gammas,clim = STAT_LIMS, cmap = 'PuOr',beta_col='green')"
   ]
  },
  {
   "cell_type": "code",
   "execution_count": 10,
   "metadata": {},
   "outputs": [
    {
     "data": {
      "text/plain": [
       "array([[-1, -1],\n",
       "       [ 1, -1],\n",
       "       [-1,  1],\n",
       "       [ 1,  1]])"
      ]
     },
     "execution_count": 10,
     "metadata": {},
     "output_type": "execute_result"
    }
   ],
   "source": [
    "categories1[0]"
   ]
  },
  {
   "cell_type": "code",
   "execution_count": null,
   "metadata": {},
   "outputs": [],
   "source": []
  }
 ],
 "metadata": {
  "kernelspec": {
   "display_name": "Python 2",
   "language": "python",
   "name": "python2"
  },
  "language_info": {
   "codemirror_mode": {
    "name": "ipython",
    "version": 2
   },
   "file_extension": ".py",
   "mimetype": "text/x-python",
   "name": "python",
   "nbconvert_exporter": "python",
   "pygments_lexer": "ipython2",
   "version": "2.7.16"
  }
 },
 "nbformat": 4,
 "nbformat_minor": 2
}

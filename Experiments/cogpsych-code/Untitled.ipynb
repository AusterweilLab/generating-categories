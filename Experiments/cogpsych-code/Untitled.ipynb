{
 "cells": [
  {
   "cell_type": "code",
   "execution_count": 8,
   "metadata": {},
   "outputs": [],
   "source": [
    "import pickle, sys, os\n",
    "import pandas as pd\n",
    "import numpy as np\n",
    "import time\n",
    "execfile('Imports.py')\n",
    "import Modules.Funcs as funcs\n",
    "from Modules.Classes import Simulation\n",
    "from Modules.Classes import CopyTweak\n",
    "from Modules.Classes import Packer\n",
    "from Modules.Classes import ConjugateJK13\n",
    "from Modules.Classes import RepresentJK13\n",
    "from Modules.Classes import NegatedSpace\n",
    "\n",
    "\n",
    "\n",
    "# Specify default dataname\n",
    "dataname_def = 'pooled'\n",
    "participant_def = 'all'\n",
    "unique_trials_def = 'all'\n",
    "nchunks = 1000 #number of CHTC instances to run\n",
    "#Allow for input arguments at the shell\n",
    "narg = len(sys.argv)\n",
    "\n",
    "if __name__ == \"__main__\" and narg>1:\n",
    "\n",
    "        # if len(sys.argv)<4:\n",
    "        #         unique_trials = unique_trials_def\n",
    "        # else:\n",
    "        #         unique_trials = int(sys.argv[3])\n",
    "        # if len(sys.argv)<3:\n",
    "        #         participant = participant_def\n",
    "        # else:\n",
    "        #         participant = int(sys.argv[2])\n",
    "        # if len(sys.argv)<2:\n",
    "        #         dataname = dataname_def\n",
    "        # else:\n",
    "        #         dataname = sys.argv[1]\n",
    "        dataname = dataname_def\n",
    "        participant = participant_def\n",
    "        unique_trials = unique_trials_def\n",
    "\n",
    "else:\n",
    "        dataname = dataname_def\n",
    "        participant = participant_def\n",
    "        unique_trials = unique_trials_def\n",
    "\n",
    "execfile('validate_data.py')\n",
    "# get data from pickle\n",
    "with open(pickledir+src, \"rb\" ) as f:\n",
    "\ttrials = pickle.load( f )\n",
    "\n",
    "trials.task = task\n",
    "# trials = Simulation.extractPptData(trials,participant,unique_trials)\n",
    "\n",
    "#Get current best parms\n",
    "with open(pickledir+bestparmchtc,'rb') as f:\n",
    "    best_params_t = pickle.load(f)\n",
    "best_params = funcs.compress_chtc_parms(best_params_t)\n",
    "\n"
   ]
  },
  {
   "cell_type": "code",
   "execution_count": 10,
   "metadata": {},
   "outputs": [],
   "source": [
    "modelList = [Packer,CopyTweak,ConjugateJK13,RepresentJK13]\n",
    "ll = dict()\n",
    "for model in modelList:\n",
    "    ll[model.model] =  trials.loglike(best_params[model.model],model,parmxform=False,seedrng=True)\n",
    "\n"
   ]
  },
  {
   "cell_type": "code",
   "execution_count": 11,
   "metadata": {},
   "outputs": [
    {
     "data": {
      "text/plain": [
       "{'Copy and Tweak': 4904.744595758372,\n",
       " 'Hierarchical Sampling': 4936.980172612816,\n",
       " 'Hierarchical Sampling With Representativeness': 4387.738010502973,\n",
       " 'PACKER': 4531.399234215766}"
      ]
     },
     "execution_count": 11,
     "metadata": {},
     "output_type": "execute_result"
    }
   ],
   "source": [
    "ll\n"
   ]
  },
  {
   "cell_type": "code",
   "execution_count": null,
   "metadata": {},
   "outputs": [],
   "source": []
  }
 ],
 "metadata": {
  "kernelspec": {
   "display_name": "Python 2",
   "language": "python",
   "name": "python2"
  },
  "language_info": {
   "codemirror_mode": {
    "name": "ipython",
    "version": 2
   },
   "file_extension": ".py",
   "mimetype": "text/x-python",
   "name": "python",
   "nbconvert_exporter": "python",
   "pygments_lexer": "ipython2",
   "version": "2.7.15"
  }
 },
 "nbformat": 4,
 "nbformat_minor": 2
}

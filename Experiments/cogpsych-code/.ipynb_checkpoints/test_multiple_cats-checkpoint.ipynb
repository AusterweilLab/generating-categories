{
 "cells": [
  {
   "cell_type": "code",
   "execution_count": 2,
   "metadata": {},
   "outputs": [],
   "source": [
    "import pickle\n",
    "import sqlite3\n",
    "import numpy as np\n",
    "import pandas as pd\n",
    "execfile('Imports.py')\n",
    "import Modules.Funcs as funcs\n",
    "from Modules.Classes import Simulation\n",
    "from Modules.Classes import CopyTweak\n",
    "from Modules.Classes import Packer\n",
    "from Modules.Classes import ConjugateJK13\n",
    "from Modules.Classes import RepresentJK13\n",
    "from Modules.Classes import CopyTweakRep\n",
    "from Modules.Classes import PackerRep\n",
    "\n",
    "dbname = 'experiments-5con.db'#raw data\n",
    "dataname = '5con' #for parms\n",
    "execfile('validate_data.py')\n",
    "\n",
    "con = sqlite3.connect(dbname)\n",
    "participants = pd.read_sql_query(\"SELECT participant, condition from participants\", con)\n",
    "generation = pd.read_sql_query(\"SELECT * from generation\", con)\n",
    "alphas = pd.read_sql_query(\"SELECT * from alphas\", con)\n",
    "stimuli = pd.read_sql_query(\"SELECT * from stimuli\", con).values\n",
    "con.close()\n",
    "\n",
    "#Get current best parms                                                                                                                    \n",
    "with open(pickledir+bestparmchtc,'rb') as f:\n",
    "    best_params_t = pickle.load(f)\n",
    "best_params = funcs.compress_chtc_parms(best_params_t)\n",
    "\n",
    "\n"
   ]
  },
  {
   "cell_type": "code",
   "execution_count": 10,
   "metadata": {},
   "outputs": [
    {
     "name": "stdout",
     "output_type": "stream",
     "text": [
      "{'theta_target': 3.4614664092065315, 'theta_cntrst': 3.0283346951586387, 'specificity': 0.5097943564106868}\n"
     ]
    },
    {
     "data": {
      "image/png": "[encoded data removed]",
      "text/plain": [
       "<Figure size 432x288 with 2 Axes>"
      ]
     },
     "metadata": {},
     "output_type": "display_data"
    }
   ],
   "source": [
    "import matplotlib.pyplot as plt\n",
    "wrap_ax = None\n",
    "model = Packer\n",
    "params = best_params[model.model]\n",
    "print(params)\n",
    "c1 = np.array([[-1.,-1.],[1.,-1.],[-1.,1.],[1.,1.]])\n",
    "c1 = np.array([[1.,1],[.75,1]])\n",
    "\n",
    "\n",
    "c2 = np.array([[-.25,-.25],[-.5,-.5],[-.25,-.5],[1,-1]])\n",
    "c3 = np.array([[0,0]])\n",
    "categories = [c1,c2]\n",
    "catstr = ['Generating Alphas','Generating Betas','Generating Gammas']\n",
    "\n",
    "STAT_LIMS = (-1.0, 1.0)\n",
    "betacol = ['green' for bi in range(len(c2))]\n",
    "f,ax = plt.subplots(1,len(categories))\n",
    "\n",
    "for ci in range(len(categories)):\n",
    "    ps = model(categories,params,wrap_ax=wrap_ax).get_generation_ps(stimuli,ci,'generate',wrap_ax=wrap_ax)\n",
    "#     print(np.round(np.reshape(ps,(9,9)),3))\n",
    "    gps = funcs.gradientroll(ps,'roll')[:,:,0]\n",
    "    ps_ElRange = gps.max()-gps.min();\n",
    "    plotVals = (gps-gps.min())/ps_ElRange\n",
    "    if len(categories)>2:\n",
    "        gammas = categories[2]\n",
    "    else:\n",
    "        gammas = []\n",
    "    funcs.plotgradient(ax[ci], plotVals, categories[0], categories[1], gammas = gammas,clim = STAT_LIMS, cmap = 'PuOr',beta_col=betacol)\n",
    "    ax[ci].set_title(catstr[ci])\n",
    "# plt.close()\n",
    "# categories2 = [np.array([[-1.,-1.],[1.,-1.],[-1.,-.75],[1.,-.75]])]\n",
    "# temp2 = model(categories2,params,wrap_ax=wrap_ax).get_generation_ps(stimuli,1,'generate',wrap_ax=wrap_ax)\n",
    "# print(np.round(np.reshape(temp2,(9,9)),3))"
   ]
  },
  {
   "cell_type": "code",
   "execution_count": null,
   "metadata": {},
   "outputs": [],
   "source": []
  }
 ],
 "metadata": {
  "kernelspec": {
   "display_name": "Python 2",
   "language": "python",
   "name": "python2"
  },
  "language_info": {
   "codemirror_mode": {
    "name": "ipython",
    "version": 2
   },
   "file_extension": ".py",
   "mimetype": "text/x-python",
   "name": "python",
   "nbconvert_exporter": "python",
   "pygments_lexer": "ipython2",
   "version": "2.7.15"
  }
 },
 "nbformat": 4,
 "nbformat_minor": 2
}

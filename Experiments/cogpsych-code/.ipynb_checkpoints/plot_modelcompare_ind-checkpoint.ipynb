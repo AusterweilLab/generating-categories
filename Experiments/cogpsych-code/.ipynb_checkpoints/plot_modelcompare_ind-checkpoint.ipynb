{
 "cells": [
  {
   "cell_type": "code",
   "execution_count": 1,
   "metadata": {},
   "outputs": [],
   "source": [
    "#Shows each individual plot along with which model best fits it\n",
    "import pickle, math\n",
    "import pandas as pd\n",
    "import sqlite3\n",
    "import random\n",
    "import os\n",
    "#exec(open(\"./Imports.py\").read())\n",
    "execfile('Imports.py')\n",
    "# _add_modules_path()\n",
    "import Modules.Funcs as funcs\n",
    "from Modules.Classes import Simulation\n",
    "from Modules.Classes import CopyTweak\n",
    "from Modules.Classes import CopyTweakRep\n",
    "from Modules.Classes import Packer\n",
    "from Modules.Classes import PackerRep\n",
    "from Modules.Classes import ConjugateJK13\n",
    "from Modules.Classes import RepresentJK13\n",
    "from Modules.Classes import NegatedSpace\n",
    "from Modules.Classes import NConjugateJK13\n",
    "from Modules.Classes import NRepresentJK13\n",
    "from Modules.Classes import NPacker\n",
    "from Modules.Classes import NCopyTweak\n",
    "\n",
    "from scipy.stats import stats as ss\n",
    "import numpy as np\n",
    "import matplotlib.pyplot as plt\n",
    "import seaborn as sns\n",
    "sns.set_style(\"whitegrid\")\n",
    "\n",
    "# Specify default dataname\n",
    "dbname = 'experiment-xcrABC.db'#raw data\n",
    "dataname_def = 'xcrABC'#bestparms also comes from here\n",
    "\n",
    "#plotting options\n",
    "STAT_LIMS =  (-1.0, 1.0)\n",
    "#Fit to only last trial?\n",
    "fitlast = False\n",
    "#Make plots?\n",
    "doplots = True\n",
    "saveplots = False\n",
    "if fitlast:\n",
    "    showlast = True\n",
    "else:\n",
    "    showlast = False #True = Show last even if fitting to all?\n",
    "#Bootstrap parameters\n",
    "nbootstraps = 1000\n",
    "if fitlast and showlast:\n",
    "    savedir = 'private/individual_modelcomp_{}/fitlast'.format(dataname_def)\n",
    "elif showlast:\n",
    "    savedir = 'private/individual_modelcomp_{}/showonlylast/'.format(dataname_def)\n",
    "elif fitlast:\n",
    "    savedir = 'private/individual_modelcomp_{}/fitlast'.format(dataname_def)\n",
    "else:\n",
    "    savedir = 'private/individual_modelcomp_{}/showall'.format(dataname_def)\n",
    "# savefilename='modelvsppt{}_t.pdf'.format(corrtype)\n",
    "# modeleaseDB = \"pickles/modelease_corr{}.p\".format(corrtype)\n",
    "\n",
    "#Some plotting options\n",
    "font = {'family' : 'DejaVu Sans',\n",
    "        'weight' : 'regular',\n",
    "        'size'   : 15}\n",
    "\n",
    "#Specify simulation values\n",
    "N_SAMPLES = 10000\n",
    "WT_THETA = 1.5\n",
    "MIN_LL = 1e-10\n",
    "\n",
    "\n",
    "participant_def = 'all'\n",
    "unique_trials_def = 'all'\n",
    "dataname = dataname_def\n",
    "execfile('validate_data.py')\n",
    "\n",
    "bestparmdb = \"pickles/chtc_gs_best_params_{}\".format(src)\n",
    "\n",
    "\n",
    "plt.rc('font', **font)\n",
    "\n",
    "# get data from pickle\n",
    "with open(pickledir+src, \"rb\" ) as f:\n",
    "    trials = pickle.load( f )\n",
    "\n",
    "# get best params pickle\n",
    "#bestparmdb = \"pickles/chtc_gs_best_params_all_data_e1_e2.p\"\n",
    "#bestparmdb = \"pickles/chtc_gs_best_params_corrs.p\"\n",
    "with open(bestparmdb, \"rb\" ) as f:\n",
    "    best_params_t = pickle.load( f )\n",
    "\n",
    "#Rebuild it into a smaller dict\n",
    "best_params = dict()\n",
    "for modelname in best_params_t.keys():    \n",
    "    best_params[modelname] = dict()\n",
    "    for i,parmname in enumerate(best_params_t[modelname]['parmnames']):\n",
    "        parmval = best_params_t[modelname]['bestparmsll']\n",
    "        best_params[modelname][parmname] = parmval[i]\n",
    "modelList = [Packer,RepresentJK13,NPacker,NRepresentJK13]\n",
    "#modelList = [CopyTweak,CopyTweakRep,Packer, RepresentJK13,]                            \n",
    "\n",
    "#Specify plot order\n",
    "modelPlotOrder = np.array([[Packer,RepresentJK13],[NPacker,NRepresentJK13]])\n",
    "#modelPlotOrder = np.array([[CopyTweak,CopyTweakRep],[Packer,RepresentJK13]])\n",
    "\n",
    "#Prepare matched database    \n",
    "matchdb='../cat-assign/data_utilities/cmp_midbot.db'\n",
    "        \n",
    "unique_trials = 'all'\n",
    "trials.task = task\n",
    "\n",
    "\n"
   ]
  },
  {
   "cell_type": "code",
   "execution_count": 2,
   "metadata": {},
   "outputs": [],
   "source": [
    "con = sqlite3.connect(dbname)\n",
    "participants = pd.read_sql_query(\"SELECT participant, condition from participants\", con)\n",
    "generation = pd.read_sql_query(\"SELECT * from generation\", con)\n",
    "alphas = pd.read_sql_query(\"SELECT * from alphas\", con)\n",
    "stimuli = pd.read_sql_query(\"SELECT * from stimuli\", con).values\n",
    "con.close()\n"
   ]
  },
  {
   "cell_type": "code",
   "execution_count": 17,
   "metadata": {
    "scrolled": true
   },
   "outputs": [
    {
     "name": "stdout",
     "output_type": "stream",
     "text": [
      "Ppt: 286\n"
     ]
    },
    {
     "name": "stderr",
     "output_type": "stream",
     "text": [
      "/Users/sourguyxian/anaconda2/lib/python2.7/site-packages/ipykernel_launcher.py:58: DeprecationWarning: The truth value of an empty array is ambiguous. Returning False, but in future this will result in an error. Use `array.size > 0` to check that an array is not empty.\n"
     ]
    }
   ],
   "source": [
    "#Go through each participant and get their fits for each model\n",
    "ll = []\n",
    "ll_trials = []\n",
    "tally = np.zeros(len(modelList))\n",
    "wins = []\n",
    "pptcond_tally = dict()\n",
    "for ppt in trials.participants:#[318]:\n",
    "    ppt = int(ppt)\n",
    "    print('Ppt: ' + str(ppt))\n",
    "    llrow = []\n",
    "    if fitlast:\n",
    "        extract_trials = 3\n",
    "    else:\n",
    "        extract_trials = 'all'\n",
    "    conditionStr = participants.condition[participants.participant==ppt].values\n",
    "    if conditionStr not in pptcond_tally.keys():\n",
    "        pptcond_tally[conditionStr[0]] = 0\n",
    "    pptcond_tally[conditionStr[0]] += 1\n",
    "    pptconstr = conditionStr[0][0:2]\n",
    "    if \"Corner\" in conditionStr[0]:\n",
    "        pptconstr += conditionStr[0][-1] #Add info on whether square or circle\n",
    "    \n",
    "    trialppt = Simulation.extractPptData(trials, ppt=ppt, unique_trials=extract_trials)\n",
    "    #Hacky code, but necessary for now\n",
    "    #For categories to be ints\n",
    "    for ti,trial in enumerate(trialppt.Set):\n",
    "        trialppt.Set[ti]['categories'] = [np.array(tt,dtype=int) for tt in trial['categories']]\n",
    "        trialppt.Set[ti]['response'] = [np.array(tt,dtype=int) for tt in trial['response']]\n",
    "\n",
    "\n",
    "    #Get list of lls and winning model\n",
    "    for model in modelList:\n",
    "        params = best_params[model.model]\n",
    "        ppt_trial_ll = trialppt.loglike(params=params,model=model,parmxform=False)\n",
    "        llrow += [ppt_trial_ll]\n",
    "    bestmodel = llrow.index(np.min(llrow))\n",
    "    bestmodelstr = modelList[bestmodel].modelshort\n",
    "    ll += [[ppt]+llrow]\n",
    "    tally[bestmodel] += 1\n",
    "    wins += [bestmodel]\n",
    "    #Prepare stuff fot plotting\n",
    "    if doplots:\n",
    "        \n",
    "        #Sort trial obj by trial number - really only applicable if onlylast is false                                                                                                                   \n",
    "        trialOrder = []\n",
    "        maxbeta = 0\n",
    "        for t,trialobj in enumerate(trialppt.Set):\n",
    "            #nbeta = len(trialobj['categories'][1])\n",
    "            nbeta = 0\n",
    "            for ii,new_exm in enumerate(trialobj['categories']):\n",
    "                if not ii == 0: #Ignore alpha cat\n",
    "                    nbeta += len(new_exm)\n",
    "            trialppt.Set[t]['trial'] = nbeta\n",
    "            trialOrder += [nbeta]\n",
    "            maxbeta = max(nbeta,maxbeta)\n",
    "        trialOrder = np.argsort(trialOrder)\n",
    "        wrap_ax = trialppt.Set[0]['wrap_ax'][0]\n",
    "        if wrap_ax==1:\n",
    "            wrapstr = '<-Wrapped->'\n",
    "        else:\n",
    "            wrapstr = ''\n",
    "        #Add dummy last trial to plot gradients for hypothetical fifth beta\n",
    "        respSet = trialppt.Set[trialOrder[maxbeta]]['response']\n",
    "        if hasattr(respSet[0],'__len__'):\n",
    "            for resps in respSet:\n",
    "                if len(resps)>0:\n",
    "                    resp = resps\n",
    "        else:\n",
    "            resp = respSet\n",
    "        newcatB = np.append(trialppt.Set[trialOrder[maxbeta]]['categories'][1],resp)\n",
    "        newcatAll = [trialppt.Set[trialOrder[maxbeta]]['categories'][0],newcatB]\n",
    "        trialppt.add(response=0,categories=newcatAll, participant = ppt,wrap_ax = wrap_ax)\n",
    "        trialOrder = np.append(trialOrder,maxbeta+1)\n",
    "        \n",
    "        if showlast:\n",
    "            ntrials = 1\n",
    "            plottrials = [len(trialppt.Set)-1] #plot only last trial\n",
    "        else:\n",
    "            ntrials = len(trialppt.Set)\n",
    "            plottrials = range(ntrials)\n",
    "        f,ax = plt.subplots(ntrials,len(modelList),figsize = (8, 2*ntrials+2.5))\n",
    "        for trial in plottrials:\n",
    "            categories = [trialppt.stimuli[i,:] for i in trialppt.Set[trialOrder[trial]]['categories'] if len(i)>0]\n",
    "            A = categories[0]\n",
    "            respSet = trialppt.Set[trialOrder[trial]]['response']\n",
    "            if hasattr(respSet[0],'__len__'):\n",
    "                for ri,resps in enumerate(respSet):\n",
    "                    if len(resps)>0:\n",
    "                        respCat = ri\n",
    "                        resp = trialppt.stimuli[resps,:]\n",
    "            else:\n",
    "                resp = trialppt.stimuli[respSet,:]\n",
    "            if len(categories)>1:\n",
    "                if respCat==1:\n",
    "                    #include the response                                                                                                                  \n",
    "                    B = np.append(categories[1],resp,axis=0)\n",
    "                    if showlast:\n",
    "                        #Include response in generatin of ps                \n",
    "                        categories[1] = B\n",
    "                elif respCat==2:\n",
    "                    if len(categories)<3:\n",
    "                        C = resp\n",
    "                    else:\n",
    "                        C = np.append(categories[2],resp,axis=0)\n",
    "                    if showlast:\n",
    "                        #Include response in generatin of ps                \n",
    "                        categories[2] = C\n",
    "            else:\n",
    "                #categories += [resp]\n",
    "                B = resp\n",
    "                C = []\n",
    "            ps = []\n",
    "            ll_trial = []\n",
    "            for m,model in enumerate(modelList):\n",
    "                if m==bestmodel:\n",
    "                    winstr = '*'\n",
    "                else:\n",
    "                    winstr = ''\n",
    "                if ntrials>1:\n",
    "                    ax[0,m].set_title('{}{}{}, ll={:.2f}'.format(winstr,model.modelshort,winstr,llrow[m]))\n",
    "                else:                    \n",
    "                    ax[m].set_title('{}{}{}, ll={:.2f}'.format(winstr,model.modelshort,winstr,llrow[m]))\n",
    "                params = best_params[model.model]\n",
    "                #Plot heatmap for each model\n",
    "                ps += [model(categories,params,trialppt.stimrange,wrap_ax=wrap_ax).get_generation_ps(trialppt.stimuli,1,'generate')]\n",
    "                #Get lls for each trial step\n",
    "                ll_trial += [trialppt.loglike(params=params,model=model,parmxform=False,whole_array=True)]\n",
    "\n",
    "            #Plot the individual plots\n",
    "            plotct = 0\n",
    "            plotVals = []\n",
    "            psMax = 0\n",
    "            psMin = 1\n",
    "            #Get range                                                                                                                                     \n",
    "            for ps_el in ps:\n",
    "                psMax = max(psMax,ps_el.max())\n",
    "                psMin = min(psMin,ps_el.min())\n",
    "\n",
    "            #Normalise all values                                                                                                                          \n",
    "            psRange = psMax-psMin\n",
    "            for i,ps_el in enumerate(ps): #each ps element correspond to a model\n",
    "                plotct += 1\n",
    "                gps = funcs.gradientroll(ps_el,'roll')[:,:,0]\n",
    "                ps_ElRange = gps.max()-gps.min();\n",
    "                plotVals += [(gps-gps.min())/ps_ElRange]                                                                             \n",
    "                betacol = ['green' for bi in range(len(B))]\n",
    "#                 if task is 'generate':\n",
    "#                     betacol[len(B)-1] = 'orange'\n",
    "                if ntrials>1:\n",
    "                    betacol[len(B)-1] = 'orange'\n",
    "                    if trial == ntrials-1:\n",
    "                        betacol[len(B)-1] = [0,0,0,0]\n",
    "                    im = funcs.plotgradient(ax[trial,i], plotVals[i], A, B, clim = STAT_LIMS, cmap = 'PuOr',beta_col=betacol,gammas=C)\n",
    "                    ax[trial,i].set_ylabel('Trial {}\\n{}'.format(trial,wrapstr))\n",
    "                    if trial<ntrials-1:\n",
    "                        ax[trial,i].set_xlabel('ll_trial = {:.2f}'.format(ll_trial[i][trial]),fontsize=10)\n",
    "                    #else:\n",
    "                        \n",
    "                else:\n",
    "                    im = funcs.plotgradient(ax[i], plotVals[i], A, B, clim = STAT_LIMS, cmap = 'PuOr',beta_col=betacol,gammas=C)\n",
    "#                     ax[i].set_ylabel('Trial {}'.format(trial))\n",
    "        #Save fig\n",
    "        if saveplots:\n",
    "            savedirext = '{}/{}'.format(savedir,bestmodelstr)\n",
    "            if os.path.isdir(savedirext):\n",
    "                plt.savefig('{}/{}_{}_{}'.format(savedirext,pptconstr,int(ppt),bestmodelstr[0]))\n",
    "            else:\n",
    "                os.mkdir(savedirext)\n",
    "                plt.savefig('{}/{}_{}_{}'.format(savedirext,pptconstr,int(ppt),bestmodelstr[0]))\n",
    "        plt.close()\n",
    "        ll_trials += [np.array(ll_trial).T]\n",
    "\n",
    "\n",
    "    \n"
   ]
  },
  {
   "cell_type": "code",
   "execution_count": null,
   "metadata": {
    "scrolled": true
   },
   "outputs": [],
   "source": [
    "for ii,trialt in enumerate(trials.Set):\n",
    "    if len(trialt['categories'])>2:\n",
    "        print\n",
    "        lll"
   ]
  },
  {
   "cell_type": "code",
   "execution_count": 13,
   "metadata": {},
   "outputs": [
    {
     "data": {
      "text/plain": [
       "[{'categories': [array([ 403,  818, 1479, 1890]), array([], dtype=float64)],\n",
       "  'participant': [array([], dtype=int64), array([286])],\n",
       "  'response': [array([], dtype=int64), array([2499])],\n",
       "  'trial': 0,\n",
       "  'wrap_ax': [array([], dtype=int64), array([None], dtype=object)]},\n",
       " {'categories': [array([ 403,  818, 1479, 1890]), array([2499])],\n",
       "  'participant': [array([], dtype=int64), array([286])],\n",
       "  'response': [array([], dtype=int64), array([49])],\n",
       "  'trial': 1,\n",
       "  'wrap_ax': [array([], dtype=int64), array([None], dtype=object)]},\n",
       " {'categories': [array([ 403,  818, 1479, 1890]), array([  49, 2499])],\n",
       "  'participant': [array([], dtype=int64), array([286])],\n",
       "  'response': [array([], dtype=int64), array([2450])],\n",
       "  'trial': 2,\n",
       "  'wrap_ax': [array([], dtype=int64), array([None], dtype=object)]},\n",
       " {'categories': [array([ 403,  818, 1479, 1890]), array([  49, 2450, 2499])],\n",
       "  'participant': [array([], dtype=int64), array([286])],\n",
       "  'response': [array([], dtype=int64), array([0])],\n",
       "  'trial': 3,\n",
       "  'wrap_ax': [array([], dtype=int64), array([None], dtype=object)]},\n",
       " {'categories': [array([ 403,  818, 1479, 1890]),\n",
       "   array([   0,   49, 2450, 2499])],\n",
       "  'participant': [array([], dtype=int64),\n",
       "   array([], dtype=int64),\n",
       "   array([286., 286., 286., 286.])],\n",
       "  'response': [array([], dtype=int64),\n",
       "   array([], dtype=int64),\n",
       "   array([2489.,   39., 2459.,   11.])],\n",
       "  'trial': 4,\n",
       "  'wrap_ax': [array([], dtype=int64),\n",
       "   array([], dtype=object),\n",
       "   array([None, None, None, None], dtype=object)]},\n",
       " {'categories': [array([ 403,  818, 1479, 1890]),\n",
       "   array([   0.,   11.,   39.,   49., 2450., 2459., 2489., 2499.])],\n",
       "  'participant': array([286]),\n",
       "  'response': array([0]),\n",
       "  'wrap_ax': array([None], dtype=object)}]"
      ]
     },
     "execution_count": 13,
     "metadata": {},
     "output_type": "execute_result"
    }
   ],
   "source": [
    "trialppt.Set"
   ]
  },
  {
   "cell_type": "code",
   "execution_count": 14,
   "metadata": {},
   "outputs": [
    {
     "data": {
      "text/plain": [
       "[{'categories': [array([ 403,  818, 1479, 1890]), array([], dtype=int64)],\n",
       "  'participant': [array([], dtype=int64), array([286])],\n",
       "  'response': [array([], dtype=int64), array([2499])],\n",
       "  'trial': 0,\n",
       "  'wrap_ax': [array([], dtype=int64), array([None], dtype=object)]},\n",
       " {'categories': [array([ 403,  818, 1479, 1890]), array([2499])],\n",
       "  'participant': [array([], dtype=int64), array([286])],\n",
       "  'response': [array([], dtype=int64), array([49])],\n",
       "  'trial': 1,\n",
       "  'wrap_ax': [array([], dtype=int64), array([None], dtype=object)]},\n",
       " {'categories': [array([ 403,  818, 1479, 1890]), array([  49, 2499])],\n",
       "  'participant': [array([], dtype=int64), array([286])],\n",
       "  'response': [array([], dtype=int64), array([2450])],\n",
       "  'trial': 2,\n",
       "  'wrap_ax': [array([], dtype=int64), array([None], dtype=object)]},\n",
       " {'categories': [array([ 403,  818, 1479, 1890]), array([  49, 2450, 2499])],\n",
       "  'participant': [array([], dtype=int64), array([286])],\n",
       "  'response': [array([], dtype=int64), array([0])],\n",
       "  'trial': 3,\n",
       "  'wrap_ax': [array([], dtype=int64), array([None], dtype=object)]},\n",
       " {'categories': [array([ 403,  818, 1479, 1890]),\n",
       "   array([   0,   49, 2450, 2499])],\n",
       "  'participant': [array([], dtype=int64),\n",
       "   array([], dtype=int64),\n",
       "   array([286., 286., 286., 286.])],\n",
       "  'response': [array([], dtype=int64),\n",
       "   array([], dtype=int64),\n",
       "   array([2489.,   39., 2459.,   11.])],\n",
       "  'trial': 4,\n",
       "  'wrap_ax': [array([], dtype=int64),\n",
       "   array([], dtype=object),\n",
       "   array([None, None, None, None], dtype=object)]},\n",
       " {'categories': [array([ 403,  818, 1479, 1890]),\n",
       "   array([   0,   11,   39,   49, 2450, 2459, 2489, 2499])],\n",
       "  'participant': array([286]),\n",
       "  'response': array([0]),\n",
       "  'wrap_ax': array([None], dtype=object)}]"
      ]
     },
     "execution_count": 14,
     "metadata": {},
     "output_type": "execute_result"
    }
   ],
   "source": [
    "for ti,trial in enumerate(trialppt.Set):\n",
    "    trialppt.Set[ti]['categories'] = [np.array(tt,dtype=int) for tt in trial['categories']]\n",
    "    \n",
    "trialppt.Set"
   ]
  },
  {
   "cell_type": "code",
   "execution_count": 20,
   "metadata": {},
   "outputs": [
    {
     "data": {
      "text/plain": [
       "{'categories': [array([ 403,  818, 1479, 1890]),\n",
       "  array([   0.,   11.,   39.,   49., 2450., 2459., 2489., 2499.])],\n",
       " 'participant': array([286]),\n",
       " 'response': array([0]),\n",
       " 'wrap_ax': array([None], dtype=object)}"
      ]
     },
     "execution_count": 20,
     "metadata": {},
     "output_type": "execute_result"
    }
   ],
   "source": [
    "trialt = trialppt.Set[5]\n",
    "trialt\n",
    "#[trialppt.stimuli[i,:] for i in trialt['categories'] if len(i)>0]"
   ]
  },
  {
   "cell_type": "code",
   "execution_count": 15,
   "metadata": {},
   "outputs": [
    {
     "data": {
      "text/plain": [
       "{'categories': [array([ 403,  818, 1479, 1890]),\n",
       "  array([1899, 1994, 2344, 2498]),\n",
       "  array([1890, 2092])],\n",
       " 'participant': [array([], dtype=int64), array([], dtype=int64), array([37])],\n",
       " 'response': [array([], dtype=int64), array([], dtype=int64), array([2190])],\n",
       " 'wrap_ax': [array([], dtype=int64),\n",
       "  array([], dtype=int64),\n",
       "  array([None], dtype=object)]}"
      ]
     },
     "execution_count": 15,
     "metadata": {},
     "output_type": "execute_result"
    }
   ],
   "source": [
    "trials.Set[29]"
   ]
  },
  {
   "cell_type": "code",
   "execution_count": 6,
   "metadata": {},
   "outputs": [
    {
     "data": {
      "text/plain": [
       "[{'categories': [array([ 403,  818, 1479, 1890]), array([], dtype=float64)],\n",
       "  'participant': [array([], dtype=int64), array([37])],\n",
       "  'response': [array([], dtype=int64), array([1899])],\n",
       "  'trial': 0,\n",
       "  'wrap_ax': [array([], dtype=int64), array([None], dtype=object)]},\n",
       " {'categories': [array([ 403,  818, 1479, 1890]), array([1899])],\n",
       "  'participant': [array([], dtype=int64), array([37])],\n",
       "  'response': [array([], dtype=int64), array([2498])],\n",
       "  'trial': 1,\n",
       "  'wrap_ax': [array([], dtype=int64), array([None], dtype=object)]},\n",
       " {'categories': [array([ 403,  818, 1479, 1890]), array([1899, 2498])],\n",
       "  'participant': [array([], dtype=int64), array([37])],\n",
       "  'response': [array([], dtype=int64), array([2344])],\n",
       "  'trial': 2,\n",
       "  'wrap_ax': [array([], dtype=int64), array([None], dtype=object)]},\n",
       " {'categories': [array([ 403,  818, 1479, 1890]), array([1899, 2344, 2498])],\n",
       "  'participant': [array([], dtype=int64), array([37])],\n",
       "  'response': [array([], dtype=int64), array([1994])],\n",
       "  'trial': 3,\n",
       "  'wrap_ax': [array([], dtype=int64), array([None], dtype=object)]},\n",
       " {'categories': [array([ 403,  818, 1479, 1890]),\n",
       "   array([1899, 1994, 2344, 2498]),\n",
       "   array([], dtype=float64)],\n",
       "  'participant': [array([], dtype=int64), array([], dtype=int64), array([37])],\n",
       "  'response': [array([], dtype=int64), array([], dtype=int64), array([1890])],\n",
       "  'trial': 4,\n",
       "  'wrap_ax': [array([], dtype=int64),\n",
       "   array([], dtype=int64),\n",
       "   array([None], dtype=object)]},\n",
       " {'categories': [array([ 403,  818, 1479, 1890]),\n",
       "   array([1899, 1994, 2344, 2498]),\n",
       "   array([1890])],\n",
       "  'participant': [array([], dtype=int64), array([], dtype=int64), array([37])],\n",
       "  'response': [array([], dtype=int64), array([], dtype=int64), array([2092])],\n",
       "  'trial': 5,\n",
       "  'wrap_ax': [array([], dtype=int64),\n",
       "   array([], dtype=int64),\n",
       "   array([None], dtype=object)]},\n",
       " {'categories': [array([ 403,  818, 1479, 1890]),\n",
       "   array([1899, 1994, 2344, 2498]),\n",
       "   array([1890, 2092])],\n",
       "  'participant': [array([], dtype=int64), array([], dtype=int64), array([37])],\n",
       "  'response': [array([], dtype=int64), array([], dtype=int64), array([2190])],\n",
       "  'trial': 6,\n",
       "  'wrap_ax': [array([], dtype=int64),\n",
       "   array([], dtype=int64),\n",
       "   array([None], dtype=object)]},\n",
       " {'categories': [array([ 403,  818, 1479, 1890]),\n",
       "   array([1899, 1994, 2344, 2498]),\n",
       "   array([1890, 2092, 2190])],\n",
       "  'participant': [array([], dtype=int64), array([], dtype=int64), array([37])],\n",
       "  'response': [array([], dtype=int64), array([], dtype=int64), array([2191])],\n",
       "  'trial': 7,\n",
       "  'wrap_ax': [array([], dtype=int64),\n",
       "   array([], dtype=int64),\n",
       "   array([None], dtype=object)]},\n",
       " {'categories': [array([ 403,  818, 1479, 1890]),\n",
       "   array([1899, 1994, 2191, 2344, 2498])],\n",
       "  'participant': array([37]),\n",
       "  'response': array([0]),\n",
       "  'wrap_ax': array([None], dtype=object)}]"
      ]
     },
     "execution_count": 6,
     "metadata": {},
     "output_type": "execute_result"
    }
   ],
   "source": [
    "trialppt.Set"
   ]
  },
  {
   "cell_type": "code",
   "execution_count": 13,
   "metadata": {},
   "outputs": [
    {
     "name": "stdout",
     "output_type": "stream",
     "text": [
      "[[0.00749688 0.00249896]\n",
      " [0.00249896 0.00083299]]\n",
      "-9.3017536665824e-22\n",
      "[[-8.95514995e+17  2.68654542e+18]\n",
      " [ 2.68654542e+18 -8.05963759e+18]]\n",
      "3.0587143513049225e-211\n"
     ]
    }
   ],
   "source": [
    "temp = np.array([[0.63265306,0.51020408],\n",
    " [0.71428571,0.67346939]])\n",
    "# temp = np.array([[1,1.32],[0,10]])\n",
    "print(np.cov(temp))\n",
    "print(np.linalg.det(np.cov(temp)))\n",
    "print(np.linalg.inv(np.cov(temp)))\n",
    "tempm = np.array([0,0])\n",
    "from scipy.stats import multivariate_normal\n",
    "a = multivariate_normal(tempm,np.cov(temp),allow_singular=True)\n",
    "print(a.pdf([2,3]))"
   ]
  },
  {
   "cell_type": "code",
   "execution_count": 14,
   "metadata": {},
   "outputs": [
    {
     "data": {
      "text/plain": [
       "0.00249897"
      ]
     },
     "execution_count": 14,
     "metadata": {},
     "output_type": "execute_result"
    }
   ],
   "source": [
    "0.00083299*3"
   ]
  },
  {
   "cell_type": "code",
   "execution_count": 3,
   "metadata": {},
   "outputs": [
    {
     "ename": "NameError",
     "evalue": "name 'best_params' is not defined",
     "output_type": "error",
     "traceback": [
      "\u001b[0;31m---------------------------------------------------------------------\u001b[0m",
      "\u001b[0;31mNameError\u001b[0m                           Traceback (most recent call last)",
      "\u001b[0;32m<ipython-input-3-236188203911>\u001b[0m in \u001b[0;36m<module>\u001b[0;34m()\u001b[0m\n\u001b[0;32m----> 1\u001b[0;31m \u001b[0mbest_params\u001b[0m\u001b[0;34m[\u001b[0m\u001b[0;34m'Hierarchical Sampling With Representativeness'\u001b[0m\u001b[0;34m]\u001b[0m\u001b[0;34m\u001b[0m\u001b[0m\n\u001b[0m",
      "\u001b[0;31mNameError\u001b[0m: name 'best_params' is not defined"
     ]
    }
   ],
   "source": [
    "best_params['Hierarchical Sampling With Representativeness']"
   ]
  },
  {
   "cell_type": "code",
   "execution_count": 18,
   "metadata": {},
   "outputs": [
    {
     "name": "stdout",
     "output_type": "stream",
     "text": [
      "[[0.003 0.004 0.004 0.004 0.004 0.004 0.004 0.004 0.003]\n",
      " [0.006 0.007 0.007 0.008 0.008 0.008 0.007 0.007 0.006]\n",
      " [0.01  0.012 0.013 0.013 0.013 0.013 0.013 0.012 0.01 ]\n",
      " [0.017 0.019 0.021 0.022 0.022 0.022 0.021 0.019 0.017]\n",
      " [0.022 0.024 0.026 0.027 0.028 0.027 0.026 0.024 0.022]\n",
      " [0.017 0.019 0.021 0.022 0.022 0.022 0.021 0.019 0.017]\n",
      " [0.01  0.012 0.013 0.013 0.013 0.013 0.013 0.012 0.01 ]\n",
      " [0.006 0.007 0.007 0.008 0.008 0.008 0.007 0.007 0.006]\n",
      " [0.003 0.004 0.004 0.004 0.004 0.004 0.004 0.004 0.003]]\n",
      "[[0.003 0.004 0.004 0.004 0.004 0.004 0.004 0.004 0.003]\n",
      " [0.003 0.004 0.004 0.004 0.004 0.004 0.004 0.004 0.003]\n",
      " [0.006 0.007 0.007 0.008 0.008 0.008 0.007 0.007 0.006]\n",
      " [0.01  0.012 0.013 0.013 0.013 0.013 0.013 0.012 0.01 ]\n",
      " [0.017 0.019 0.021 0.022 0.022 0.022 0.021 0.019 0.017]\n",
      " [0.022 0.024 0.026 0.027 0.028 0.027 0.026 0.024 0.022]\n",
      " [0.017 0.019 0.021 0.022 0.022 0.022 0.021 0.019 0.017]\n",
      " [0.01  0.012 0.013 0.013 0.013 0.013 0.013 0.012 0.01 ]\n",
      " [0.006 0.007 0.007 0.008 0.008 0.008 0.007 0.007 0.006]]\n"
     ]
    }
   ],
   "source": [
    "#PACKER passes the translation test.\n",
    "wrap_ax = 1\n",
    "model = Packer\n",
    "params = best_params[model.model]\n",
    "categories1 = [np.array([[-1,-1],[1,-1],[-1,1],[1,1]])]\n",
    "temp1 = model(categories1,params,trialppt.stimrange).get_generation_ps(trialppt.stimuli,1,'generate',wrap_ax=wrap_ax)\n",
    "print(np.round(np.reshape(temp1,(9,9)),3))\n",
    "categories2 = [np.array([[-1,-1],[1,-1],[-1,-.75],[1,-.75]])]\n",
    "temp2 = model(categories2,params,trialppt.stimrange).get_generation_ps(trialppt.stimuli,1,'generate',wrap_ax=wrap_ax)\n",
    "print(np.round(np.reshape(temp2,(9,9)),3))"
   ]
  },
  {
   "cell_type": "code",
   "execution_count": 13,
   "metadata": {},
   "outputs": [],
   "source": [
    "# best_params['Hierarchical Sampling With Representativeness']\n",
    "# temp_params = best_params['Hierarchical Sampling With Representativeness'].copy()\n",
    "# temp_params['domain_variance_bias'] = .0001\n",
    "# categories1 = [np.array([[-1,-1],[1,-1],[-1,1],[1,1]])]\n",
    "# wrap_ax = None\n",
    "\n",
    "# temp1 = model(categories1,temp_params,trialppt.stimrange).get_generation_ps(trialppt.stimuli,1,'generate',wrap_ax=wrap_ax)\n",
    "# print(np.round(np.reshape(temp1,(9,9)),3))"
   ]
  },
  {
   "cell_type": "code",
   "execution_count": 8,
   "metadata": {},
   "outputs": [
    {
     "data": {
      "text/plain": [
       "array([-2.  , -0.75])"
      ]
     },
     "execution_count": 8,
     "metadata": {},
     "output_type": "execute_result"
    }
   ],
   "source": [
    "cat = categories1[0]\n",
    "new_exm = cat[cat[:,wrap_ax]>=0,:]\n",
    "shift_exm = cat[cat[:,wrap_ax]<0,:]\n",
    "shift_exm[:,wrap_ax] = shift_exm[:,wrap_ax] + 2.5\n",
    "new_exm = np.concatenate([new_exm,shift_exm])\n",
    "np.mean(new_exm,axis=0)-ax_range\n",
    "#wrap_ax"
   ]
  },
  {
   "cell_type": "code",
   "execution_count": 7,
   "metadata": {},
   "outputs": [
    {
     "data": {
      "text/plain": [
       "1.0"
      ]
     },
     "execution_count": 7,
     "metadata": {},
     "output_type": "execute_result"
    }
   ],
   "source": [
    "ax_max = np.max(stimuli,axis=0)[wrap_ax]\n",
    "ax_min = np.min(stimuli,axis=0)[wrap_ax]\n",
    "ax_range = ax_max-ax_min\n",
    "ax_steps = stimuli[1]-stimuli[0]\n",
    "ax_step = abs(ax_steps[ax_steps>0][0])\n",
    "# ax_range += ax_step\n",
    "num_steps =\tint(ax_range/ax_step)\n",
    "ax_range/2"
   ]
  },
  {
   "cell_type": "code",
   "execution_count": 9,
   "metadata": {},
   "outputs": [
    {
     "name": "stdout",
     "output_type": "stream",
     "text": [
      "[[0.005 0.004 0.003 0.002 0.002 0.002 0.003 0.004 0.005]\n",
      " [0.008 0.005 0.004 0.003 0.003 0.003 0.004 0.005 0.008]\n",
      " [0.016 0.01  0.008 0.006 0.006 0.006 0.008 0.01  0.016]\n",
      " [0.036 0.023 0.017 0.014 0.014 0.014 0.017 0.023 0.036]\n",
      " [0.053 0.035 0.026 0.021 0.02  0.021 0.026 0.035 0.053]\n",
      " [0.036 0.023 0.017 0.014 0.014 0.014 0.017 0.023 0.036]\n",
      " [0.016 0.01  0.008 0.006 0.006 0.006 0.008 0.01  0.016]\n",
      " [0.008 0.005 0.004 0.003 0.003 0.003 0.004 0.005 0.008]\n",
      " [0.005 0.004 0.003 0.002 0.002 0.002 0.003 0.004 0.005]]\n",
      "[[0.005 0.004 0.003 0.002 0.002 0.002 0.003 0.004 0.005]\n",
      " [0.005 0.004 0.003 0.002 0.002 0.002 0.003 0.004 0.005]\n",
      " [0.008 0.005 0.004 0.003 0.003 0.003 0.004 0.005 0.008]\n",
      " [0.016 0.01  0.008 0.006 0.006 0.006 0.008 0.01  0.016]\n",
      " [0.036 0.023 0.017 0.014 0.014 0.014 0.017 0.023 0.036]\n",
      " [0.053 0.035 0.026 0.021 0.02  0.021 0.026 0.035 0.053]\n",
      " [0.035 0.023 0.017 0.014 0.014 0.014 0.017 0.023 0.035]\n",
      " [0.016 0.01  0.008 0.006 0.006 0.006 0.008 0.01  0.016]\n",
      " [0.008 0.005 0.004 0.003 0.003 0.003 0.004 0.005 0.008]]\n"
     ]
    }
   ],
   "source": [
    "#HOW COME REP FAILS THE TRANSLATION TEST?!\n",
    "#aaahh... because it's not computing the empirical means and covmats correctly -- doesn't take into account the wrap.\n",
    "\n",
    "wrap_ax = 1\n",
    "model = RepresentJK13\n",
    "params = best_params[model.model]\n",
    "params['category_mean_bias'] = 0\n",
    "categories1 = [np.array([[-1.,-1.],[1.,-1.],[-1.,1.],[1.,1.]])]\n",
    "temp1 = model(categories1,params,trialppt.stimrange,wrap_ax=wrap_ax).get_generation_ps(trialppt.stimuli,1,'generate',wrap_ax=wrap_ax)\n",
    "print(np.round(np.reshape(temp1,(9,9)),3))\n",
    "categories2 = [np.array([[-1.,-1.],[1.,-1.],[-1.,-.75],[1.,-.75]])]\n",
    "temp2 = model(categories2,params,trialppt.stimrange,wrap_ax=wrap_ax).get_generation_ps(trialppt.stimuli,1,'generate',wrap_ax=wrap_ax)\n",
    "print(np.round(np.reshape(temp2,(9,9)),3))"
   ]
  },
  {
   "cell_type": "code",
   "execution_count": 4,
   "metadata": {},
   "outputs": [
    {
     "name": "stdout",
     "output_type": "stream",
     "text": [
      "[ 0.    -1.125]\n",
      "[ 0.    -1.125]\n",
      "[ 0.    -1.125]\n",
      "[[0.9127657 0.       ]\n",
      " [0.        0.3877657]]\n",
      "[[0.152 0.193 0.229 0.254 0.263 0.254 0.229 0.193 0.152]\n",
      " [0.131 0.166 0.197 0.218 0.226 0.218 0.197 0.166 0.131]\n",
      " [0.099 0.125 0.149 0.165 0.171 0.165 0.149 0.125 0.099]\n",
      " [0.071 0.09  0.107 0.119 0.123 0.119 0.107 0.09  0.071]\n",
      " [0.06  0.077 0.091 0.101 0.105 0.101 0.091 0.077 0.06 ]\n",
      " [0.071 0.09  0.107 0.119 0.123 0.119 0.107 0.09  0.071]\n",
      " [0.099 0.125 0.149 0.165 0.171 0.165 0.149 0.125 0.099]\n",
      " [0.131 0.166 0.197 0.218 0.226 0.218 0.197 0.166 0.131]\n",
      " [0.152 0.193 0.229 0.254 0.263 0.254 0.229 0.193 0.152]]\n",
      "[[0.006 0.004 0.003 0.002 0.002 0.002 0.003 0.004 0.006]\n",
      " [0.008 0.005 0.004 0.003 0.003 0.003 0.004 0.005 0.008]\n",
      " [0.016 0.01  0.008 0.006 0.006 0.006 0.008 0.01  0.016]\n",
      " [0.036 0.023 0.017 0.014 0.014 0.014 0.017 0.023 0.036]\n",
      " [0.053 0.035 0.026 0.021 0.02  0.021 0.026 0.035 0.053]\n",
      " [0.035 0.023 0.017 0.014 0.014 0.014 0.017 0.023 0.035]\n",
      " [0.016 0.01  0.008 0.006 0.006 0.006 0.008 0.01  0.016]\n",
      " [0.008 0.005 0.004 0.003 0.003 0.003 0.004 0.005 0.008]\n",
      " [0.006 0.004 0.003 0.002 0.002 0.002 0.003 0.004 0.006]]\n",
      "[ 0.    -0.875]\n",
      "[ 0.    -0.875]\n",
      "[ 0.    -0.875]\n",
      "[[0.9127657 0.       ]\n",
      " [0.        0.3877657]]\n",
      "[[0.152 0.193 0.229 0.254 0.263 0.254 0.229 0.193 0.152]\n",
      " [0.152 0.193 0.229 0.254 0.263 0.254 0.229 0.193 0.152]\n",
      " [0.131 0.166 0.197 0.218 0.226 0.218 0.197 0.166 0.131]\n",
      " [0.099 0.125 0.149 0.165 0.171 0.165 0.149 0.125 0.099]\n",
      " [0.071 0.09  0.107 0.119 0.123 0.119 0.107 0.09  0.071]\n",
      " [0.06  0.077 0.091 0.101 0.105 0.101 0.091 0.077 0.06 ]\n",
      " [0.071 0.09  0.107 0.119 0.123 0.119 0.107 0.09  0.071]\n",
      " [0.099 0.125 0.149 0.165 0.171 0.165 0.149 0.125 0.099]\n",
      " [0.131 0.166 0.197 0.218 0.226 0.218 0.197 0.166 0.131]]\n",
      "[[0.006 0.004 0.003 0.002 0.002 0.002 0.003 0.004 0.006]\n",
      " [0.005 0.004 0.003 0.002 0.002 0.002 0.003 0.004 0.005]\n",
      " [0.008 0.005 0.004 0.003 0.003 0.003 0.004 0.005 0.008]\n",
      " [0.016 0.01  0.008 0.006 0.006 0.006 0.008 0.01  0.016]\n",
      " [0.035 0.023 0.017 0.014 0.014 0.014 0.017 0.023 0.035]\n",
      " [0.053 0.035 0.026 0.021 0.02  0.021 0.026 0.035 0.053]\n",
      " [0.036 0.023 0.017 0.014 0.014 0.014 0.017 0.023 0.036]\n",
      " [0.016 0.01  0.008 0.006 0.006 0.006 0.008 0.01  0.016]\n",
      " [0.008 0.005 0.004 0.003 0.003 0.003 0.004 0.005 0.008]]\n"
     ]
    }
   ],
   "source": [
    "#HOW COME REP FAILS THE TRANSLATION TEST?!\n",
    "#aaahh... because it's not computing the empirical means and covmats correctly -- doesn't take into account the wrap.\n",
    "# Ok should be fixed now 300719\n",
    "\n",
    "wrap_ax = 1\n",
    "model = RepresentJK13\n",
    "params = best_params[model.model]\n",
    "categories1 = [np.array([[-1.,-1.],[1.,-1.],[-1.,1.],[1.,1.]])]\n",
    "temp1 = model(categories1,params,trialppt.stimrange,wrap_ax=wrap_ax).get_generation_ps(trialppt.stimuli,1,'generate',wrap_ax=wrap_ax)\n",
    "print(np.round(np.reshape(temp1,(9,9)),3))\n",
    "categories2 = [np.array([[-1.,-1.],[1.,-1.],[-1.,-.75],[1.,-.75]])]\n",
    "temp2 = model(categories2,params,trialppt.stimrange,wrap_ax=wrap_ax).get_generation_ps(trialppt.stimuli,1,'generate',wrap_ax=wrap_ax)\n",
    "print(np.round(np.reshape(temp2,(9,9)),3))"
   ]
  },
  {
   "cell_type": "code",
   "execution_count": 1,
   "metadata": {
    "scrolled": false
   },
   "outputs": [
    {
     "ename": "NameError",
     "evalue": "name 'RepresentJK13' is not defined",
     "output_type": "error",
     "traceback": [
      "\u001b[0;31m--------------------------------------------------------------\u001b[0m",
      "\u001b[0;31mNameError\u001b[0m                    Traceback (most recent call last)",
      "\u001b[0;32m<ipython-input-1-8fe58f0f8eb7>\u001b[0m in \u001b[0;36m<module>\u001b[0;34m()\u001b[0m\n\u001b[1;32m      1\u001b[0m \u001b[0;31m#HOW COME REP FAILS THE TRANSLATION TEST?! -- Old parms\u001b[0m\u001b[0;34m\u001b[0m\u001b[0;34m\u001b[0m\u001b[0m\n\u001b[0;32m----> 2\u001b[0;31m \u001b[0mmodel\u001b[0m \u001b[0;34m=\u001b[0m \u001b[0mRepresentJK13\u001b[0m\u001b[0;34m\u001b[0m\u001b[0m\n\u001b[0m\u001b[1;32m      3\u001b[0m \u001b[0mparams\u001b[0m \u001b[0;34m=\u001b[0m \u001b[0mbest_params\u001b[0m\u001b[0;34m[\u001b[0m\u001b[0mmodel\u001b[0m\u001b[0;34m.\u001b[0m\u001b[0mmodel\u001b[0m\u001b[0;34m]\u001b[0m\u001b[0;34m\u001b[0m\u001b[0m\n\u001b[1;32m      4\u001b[0m \u001b[0mcategories1\u001b[0m \u001b[0;34m=\u001b[0m \u001b[0;34m[\u001b[0m\u001b[0mnp\u001b[0m\u001b[0;34m.\u001b[0m\u001b[0marray\u001b[0m\u001b[0;34m(\u001b[0m\u001b[0;34m[\u001b[0m\u001b[0;34m[\u001b[0m\u001b[0;34m-\u001b[0m\u001b[0;36m1\u001b[0m\u001b[0;34m,\u001b[0m\u001b[0;34m-\u001b[0m\u001b[0;36m1\u001b[0m\u001b[0;34m]\u001b[0m\u001b[0;34m,\u001b[0m\u001b[0;34m[\u001b[0m\u001b[0;36m1\u001b[0m\u001b[0;34m,\u001b[0m\u001b[0;34m-\u001b[0m\u001b[0;36m1\u001b[0m\u001b[0;34m]\u001b[0m\u001b[0;34m,\u001b[0m\u001b[0;34m[\u001b[0m\u001b[0;34m-\u001b[0m\u001b[0;36m1\u001b[0m\u001b[0;34m,\u001b[0m\u001b[0;36m1\u001b[0m\u001b[0;34m]\u001b[0m\u001b[0;34m,\u001b[0m\u001b[0;34m[\u001b[0m\u001b[0;36m1\u001b[0m\u001b[0;34m,\u001b[0m\u001b[0;36m1\u001b[0m\u001b[0;34m]\u001b[0m\u001b[0;34m]\u001b[0m\u001b[0;34m)\u001b[0m\u001b[0;34m]\u001b[0m\u001b[0;34m\u001b[0m\u001b[0m\n\u001b[1;32m      5\u001b[0m \u001b[0mtemp1\u001b[0m \u001b[0;34m=\u001b[0m \u001b[0mmodel\u001b[0m\u001b[0;34m(\u001b[0m\u001b[0mcategories1\u001b[0m\u001b[0;34m,\u001b[0m\u001b[0mparams\u001b[0m\u001b[0;34m,\u001b[0m\u001b[0mtrialppt\u001b[0m\u001b[0;34m.\u001b[0m\u001b[0mstimrange\u001b[0m\u001b[0;34m)\u001b[0m\u001b[0;34m.\u001b[0m\u001b[0mget_generation_ps\u001b[0m\u001b[0;34m(\u001b[0m\u001b[0mtrialppt\u001b[0m\u001b[0;34m.\u001b[0m\u001b[0mstimuli\u001b[0m\u001b[0;34m,\u001b[0m\u001b[0;36m1\u001b[0m\u001b[0;34m,\u001b[0m\u001b[0;34m'generate'\u001b[0m\u001b[0;34m,\u001b[0m\u001b[0mwrap_ax\u001b[0m\u001b[0;34m=\u001b[0m\u001b[0mwrap_ax\u001b[0m\u001b[0;34m)\u001b[0m\u001b[0;34m\u001b[0m\u001b[0m\n",
      "\u001b[0;31mNameError\u001b[0m: name 'RepresentJK13' is not defined"
     ]
    }
   ],
   "source": [
    "#HOW COME REP FAILS THE TRANSLATION TEST?! -- Old parms\n",
    "model = RepresentJK13\n",
    "params = best_params[model.model]\n",
    "categories1 = [np.array([[-1,-1],[1,-1],[-1,1],[1,1]])]\n",
    "temp1 = model(categories1,params,trialppt.stimrange).get_generation_ps(trialppt.stimuli,1,'generate',wrap_ax=wrap_ax)\n",
    "print(np.round(np.reshape(temp1,(9,9)),3))\n",
    "categories2 = [np.array([[-1,-1],[1,-1],[-1,-.75],[1,-.75]])]\n",
    "temp2 = model(categories2,params,trialppt.stimrange).get_generation_ps(trialppt.stimuli,1,'generate',wrap_ax=wrap_ax)\n",
    "print(np.round(np.reshape(temp2,(9,9)),3))"
   ]
  },
  {
   "cell_type": "code",
   "execution_count": 2,
   "metadata": {
    "scrolled": true
   },
   "outputs": [
    {
     "ename": "NameError",
     "evalue": "name 'RepresentJK13' is not defined",
     "output_type": "error",
     "traceback": [
      "\u001b[0;31m--------------------------------------------------------------\u001b[0m",
      "\u001b[0;31mNameError\u001b[0m                    Traceback (most recent call last)",
      "\u001b[0;32m<ipython-input-2-69eacae85df7>\u001b[0m in \u001b[0;36m<module>\u001b[0;34m()\u001b[0m\n\u001b[1;32m      3\u001b[0m \u001b[0moutind\u001b[0m \u001b[0;34m=\u001b[0m \u001b[0mrange\u001b[0m\u001b[0;34m(\u001b[0m\u001b[0;36m9\u001b[0m\u001b[0;34m)\u001b[0m \u001b[0;34m+\u001b[0m \u001b[0;34m[\u001b[0m\u001b[0;34m(\u001b[0m\u001b[0me\u001b[0m\u001b[0;34m+\u001b[0m\u001b[0;36m1\u001b[0m\u001b[0;34m)\u001b[0m\u001b[0;34m*\u001b[0m\u001b[0;36m9\u001b[0m \u001b[0;32mfor\u001b[0m \u001b[0me\u001b[0m \u001b[0;32min\u001b[0m \u001b[0mrange\u001b[0m\u001b[0;34m(\u001b[0m\u001b[0;36m7\u001b[0m\u001b[0;34m)\u001b[0m\u001b[0;34m]\u001b[0m \u001b[0;34m+\u001b[0m \u001b[0;34m[\u001b[0m\u001b[0;34m(\u001b[0m\u001b[0me\u001b[0m\u001b[0;34m+\u001b[0m\u001b[0;36m1\u001b[0m\u001b[0;34m)\u001b[0m\u001b[0;34m*\u001b[0m\u001b[0;36m9\u001b[0m\u001b[0;34m+\u001b[0m\u001b[0;36m8\u001b[0m \u001b[0;32mfor\u001b[0m \u001b[0me\u001b[0m \u001b[0;32min\u001b[0m \u001b[0mrange\u001b[0m\u001b[0;34m(\u001b[0m\u001b[0;36m7\u001b[0m\u001b[0;34m)\u001b[0m\u001b[0;34m]\u001b[0m \u001b[0;34m+\u001b[0m \u001b[0mrange\u001b[0m\u001b[0;34m(\u001b[0m\u001b[0;36m72\u001b[0m\u001b[0;34m,\u001b[0m\u001b[0;36m80\u001b[0m\u001b[0;34m)\u001b[0m\u001b[0;34m\u001b[0m\u001b[0m\n\u001b[1;32m      4\u001b[0m \u001b[0minnind\u001b[0m \u001b[0;34m=\u001b[0m \u001b[0;34m[\u001b[0m\u001b[0mi\u001b[0m \u001b[0;32mfor\u001b[0m \u001b[0mi\u001b[0m \u001b[0;32min\u001b[0m \u001b[0mrange\u001b[0m\u001b[0;34m(\u001b[0m\u001b[0;36m81\u001b[0m\u001b[0;34m)\u001b[0m \u001b[0;32mif\u001b[0m \u001b[0;32mnot\u001b[0m \u001b[0mi\u001b[0m \u001b[0;32min\u001b[0m \u001b[0moutind\u001b[0m\u001b[0;34m]\u001b[0m\u001b[0;34m\u001b[0m\u001b[0m\n\u001b[0;32m----> 5\u001b[0;31m \u001b[0mmodel\u001b[0m \u001b[0;34m=\u001b[0m \u001b[0mRepresentJK13\u001b[0m\u001b[0;34m\u001b[0m\u001b[0m\n\u001b[0m\u001b[1;32m      6\u001b[0m \u001b[0mparams\u001b[0m \u001b[0;34m=\u001b[0m \u001b[0mbest_params\u001b[0m\u001b[0;34m[\u001b[0m\u001b[0mmodel\u001b[0m\u001b[0;34m.\u001b[0m\u001b[0mmodel\u001b[0m\u001b[0;34m]\u001b[0m\u001b[0;34m\u001b[0m\u001b[0m\n\u001b[1;32m      7\u001b[0m \u001b[0mcategories1\u001b[0m \u001b[0;34m=\u001b[0m \u001b[0;34m[\u001b[0m\u001b[0mnp\u001b[0m\u001b[0;34m.\u001b[0m\u001b[0marray\u001b[0m\u001b[0;34m(\u001b[0m\u001b[0;34m[\u001b[0m\u001b[0;34m[\u001b[0m\u001b[0;34m-\u001b[0m\u001b[0;36m1\u001b[0m\u001b[0;34m,\u001b[0m\u001b[0;34m-\u001b[0m\u001b[0;36m1\u001b[0m\u001b[0;34m]\u001b[0m\u001b[0;34m,\u001b[0m\u001b[0;34m[\u001b[0m\u001b[0;36m1\u001b[0m\u001b[0;34m,\u001b[0m\u001b[0;34m-\u001b[0m\u001b[0;36m1\u001b[0m\u001b[0;34m]\u001b[0m\u001b[0;34m,\u001b[0m\u001b[0;34m[\u001b[0m\u001b[0;34m-\u001b[0m\u001b[0;36m1\u001b[0m\u001b[0;34m,\u001b[0m\u001b[0;36m1\u001b[0m\u001b[0;34m]\u001b[0m\u001b[0;34m,\u001b[0m\u001b[0;34m[\u001b[0m\u001b[0;36m1\u001b[0m\u001b[0;34m,\u001b[0m\u001b[0;36m1\u001b[0m\u001b[0;34m]\u001b[0m\u001b[0;34m]\u001b[0m\u001b[0;34m)\u001b[0m\u001b[0;34m]\u001b[0m\u001b[0;34m\u001b[0m\u001b[0m\n",
      "\u001b[0;31mNameError\u001b[0m: name 'RepresentJK13' is not defined"
     ]
    }
   ],
   "source": [
    "##Probabilities at outer edge vs inner space - Rep\n",
    "wrap_ax=None\n",
    "outind = range(9) + [(e+1)*9 for e in range(7)] + [(e+1)*9+8 for e in range(7)] + range(72,80)\n",
    "innind = [i for i in range(81) if not i in outind]\n",
    "model = RepresentJK13\n",
    "params = best_params[model.model]\n",
    "categories1 = [np.array([[-1,-1],[1,-1],[-1,1],[1,1]])]\n",
    "temp1 = model(categories1,params,trialppt.stimrange).get_generation_ps(trialppt.stimuli,1,'generate',wrap_ax=wrap_ax)\n",
    "outps = sum(temp1[outind])\n",
    "innps = sum(temp1[innind])\n",
    "# print(np.round(np.reshape(temp1,(9,9)),3))\n",
    "\n",
    "print('Outer edges: ' + str(np.round(outps,2)))\n",
    "print('Inner spaces: ' + str(np.round(innps,2)))"
   ]
  },
  {
   "cell_type": "code",
   "execution_count": 34,
   "metadata": {
    "scrolled": true
   },
   "outputs": [
    {
     "name": "stdout",
     "output_type": "stream",
     "text": [
      "Outer edges: 0.33\n",
      "Inner spaces: 0.67\n"
     ]
    }
   ],
   "source": [
    "##Probabilities at outer edge vs inner space - Packer\n",
    "outind = range(9) + [(e+1)*9 for e in range(7)] + [(e+1)*9+8 for e in range(7)] + range(72,80)\n",
    "innind = [i for i in range(81) if not i in outind]\n",
    "model = Packer\n",
    "params = best_params[model.model]\n",
    "categories1 = [np.array([[-1,-1],[1,-1],[-1,1],[1,1]])]\n",
    "temp1 = model(categories1,params,trialppt.stimrange).get_generation_ps(trialppt.stimuli,1,'generate',wrap_ax=wrap_ax)\n",
    "outps = sum(temp1[outind])\n",
    "innps = sum(temp1[innind])\n",
    "# print(np.round(np.reshape(temp1,(9,9)),3))\n",
    "\n",
    "print('Outer edges: ' + str(np.round(outps,2)))\n",
    "print('Inner spaces: ' + str(np.round(innps,2)))"
   ]
  },
  {
   "cell_type": "code",
   "execution_count": 19,
   "metadata": {},
   "outputs": [],
   "source": [
    "wrap_ax"
   ]
  },
  {
   "cell_type": "code",
   "execution_count": 27,
   "metadata": {},
   "outputs": [
    {
     "data": {
      "text/plain": [
       "[5, 18, 72, 8, 0, 27, 76, 3, 72, 0, 53, 71, 3, 63, 8, 0]"
      ]
     },
     "execution_count": 27,
     "metadata": {},
     "output_type": "execute_result"
    }
   ],
   "source": [
    "ppt_S = gencond.loc[gencond.trial==0].loc[gencond.condition=='Corner_S'].stimulus.values\n",
    "ppt_C = gencond.loc[gencond.trial==0].loc[gencond.condition=='Corner_C'].stimulus.values\n",
    "outppt = [i for i in ppt_S if i in outind]\n",
    "outppt\n"
   ]
  },
  {
   "cell_type": "code",
   "execution_count": 26,
   "metadata": {},
   "outputs": [
    {
     "name": "stdout",
     "output_type": "stream",
     "text": [
      "Ppts 1st exemplar at circle edges: 5\n",
      "Ppts 1st exemplar at circle inner spaces: 38\n",
      "Ppts 1st exemplar at square edges: 16\n",
      "Ppts 1st exemplar at square inner spaces: 30\n"
     ]
    }
   ],
   "source": [
    "#Count frequencies of people \n",
    "gencond = pd.merge(generation,participants,on='participant')\n",
    "outind = range(9) + [(e+1)*9 for e in range(7)] + [(e+1)*9+8 for e in range(7)] + range(72,80)\n",
    "innind = [i for i in range(81) if not i in outind]\n",
    "#Get people\n",
    "ppt_S = gencond.loc[gencond.trial==0].loc[gencond.condition=='Corner_S'].stimulus.values\n",
    "ppt_C = gencond.loc[gencond.trial==0].loc[gencond.condition=='Corner_C'].stimulus.values\n",
    "outppt = [i for i in ppt_C if i in outind]# + [i for i in ppt_C if i in outind]\n",
    "innppt = [i for i in ppt_C if i in innind]# + [i for i in ppt_C if i in innind]\n",
    "\n",
    "print('Ppts 1st exemplar at circle edges: ' + str(len(outppt)))\n",
    "print('Ppts 1st exemplar at circle inner spaces: ' + str(len(innppt)))\n",
    "\n",
    "outppt = [i for i in ppt_S if i in outind]# + [i for i in ppt_C if i in outind]\n",
    "innppt = [i for i in ppt_S if i in innind]# + [i for i in ppt_C if i in innind]\n",
    "\n",
    "print('Ppts 1st exemplar at square edges: ' + str(len(outppt)))\n",
    "print('Ppts 1st exemplar at square inner spaces: ' + str(len(innppt)))"
   ]
  },
  {
   "cell_type": "code",
   "execution_count": null,
   "metadata": {},
   "outputs": [],
   "source": [
    "#Checkfail comes from the ind_dummy notebook where I look for ppts whose winning order doesn't match the majority of wins across all permutations \n",
    "#That is to say, the order of the generated betas seem to matter most for these guys\n",
    "checkfail = np.asarray([11.0, 14.0, 15.0, 56.0, 62.0, 66.0, 70.0, 98.0, 132.0, 133.0, 141.0, 152.0, 160.0, 163.0, 170.0, 171.0, 178.0, 186.0, 187.0, 201.0, 203.0, 210.0, 213.0, 215.0, 216.0, 221.0, 225.0, 226.0, 232.0, 239.0, 267.0, 273.0, 275.0, 300.0],dtype=int)\n",
    "ll_array = np.array(ll)\n",
    "ll_checkfail = ll_array[checkfail,:]\n",
    "ll_checkfail"
   ]
  },
  {
   "cell_type": "code",
   "execution_count": null,
   "metadata": {
    "scrolled": true
   },
   "outputs": [],
   "source": [
    "trialppt.Set"
   ]
  },
  {
   "cell_type": "code",
   "execution_count": null,
   "metadata": {},
   "outputs": [],
   "source": []
  },
  {
   "cell_type": "code",
   "execution_count": null,
   "metadata": {
    "scrolled": false
   },
   "outputs": [],
   "source": [
    "np.diff(np.mean(np.array(ll_trials),axis=0),axis=1) #positive = packer wins"
   ]
  },
  {
   "cell_type": "code",
   "execution_count": 28,
   "metadata": {},
   "outputs": [
    {
     "name": "stdout",
     "output_type": "stream",
     "text": [
      "Packer wins, mean lls across trials:\n",
      "[161 157 179 182]\n",
      "\n",
      "Representativeness wins, mean lls across trials:\n",
      "[233 237 215 212]\n"
     ]
    }
   ],
   "source": [
    "#Calculate cumulative lls at each trial, excluding last trial (since it's a dummy)\n",
    "ll_trials_cs = [np.cumsum(ppt_trial[:4,:],axis=0) for ppt_trial in ll_trials]\n",
    "#Get wins at each trial\n",
    "ll_trials_mins = [np.argmin(ppt_trial[:4,:],axis=1) for ppt_trial in ll_trials_cs]\n",
    "ll_trials_means = np.mean(np.array(ll_trials),axis=0)\n",
    "repwins = np.sum(np.array(ll_trials_mins),axis=0)\n",
    "packerwins = len(ll_trials) - repwins\n",
    "print('Packer wins, mean lls across trials:')\n",
    "print(packerwins)\n",
    "print\n",
    "print('Representativeness wins, mean lls across trials:')\n",
    "print(repwins)"
   ]
  },
  {
   "cell_type": "code",
   "execution_count": 29,
   "metadata": {},
   "outputs": [
    {
     "name": "stdout",
     "output_type": "stream",
     "text": [
      "Tally of bests:\n",
      "PACKER: 182.00\n",
      "Representative: 212.00\n"
     ]
    }
   ],
   "source": [
    "#Print a summary\n",
    "print('Tally of bests:')\n",
    "\n",
    "for m,model in enumerate(modelList):\n",
    "    print('%s: %.2f' % (model.modelshort,tally[m]))"
   ]
  },
  {
   "cell_type": "code",
   "execution_count": null,
   "metadata": {},
   "outputs": [],
   "source": [
    "trialppt.Set"
   ]
  },
  {
   "cell_type": "code",
   "execution_count": null,
   "metadata": {},
   "outputs": [],
   "source": [
    "trialppt.Set[len(trialppt.Set)-1]['categories']"
   ]
  },
  {
   "cell_type": "code",
   "execution_count": null,
   "metadata": {},
   "outputs": [],
   "source": [
    "temp= cp.deepcopy(trialppt)\n",
    "newcatB = np.append(temp.Set[len(trialppt.Set)-1]['categories'][1],temp.Set[len(trialppt.Set)-1]['response'])\n",
    "newcatAll = [temp.Set[len(trialppt.Set)-1]['categories'][0],newcatB]\n",
    "temp.add(response=np.array([0,0]),categories=newcatAll, participant = ppt)"
   ]
  },
  {
   "cell_type": "code",
   "execution_count": null,
   "metadata": {},
   "outputs": [],
   "source": [
    "trialppt.loglike(params=params,model=model,parmxform=False,whole_array=False)"
   ]
  },
  {
   "cell_type": "code",
   "execution_count": null,
   "metadata": {},
   "outputs": [],
   "source": [
    "sum(trialppt.loglike(params=params,model=model,parmxform=False,whole_array=True))"
   ]
  },
  {
   "cell_type": "code",
   "execution_count": null,
   "metadata": {},
   "outputs": [],
   "source": [
    "trialppt.loglike(params=params,model=model,parmxform=False,whole_array=True)"
   ]
  },
  {
   "cell_type": "code",
   "execution_count": null,
   "metadata": {},
   "outputs": [],
   "source": [
    "newcatAll"
   ]
  },
  {
   "cell_type": "code",
   "execution_count": null,
   "metadata": {},
   "outputs": [],
   "source": [
    "maxbeta"
   ]
  },
  {
   "cell_type": "code",
   "execution_count": null,
   "metadata": {},
   "outputs": [],
   "source": [
    "trialOrder"
   ]
  },
  {
   "cell_type": "code",
   "execution_count": null,
   "metadata": {},
   "outputs": [],
   "source": [
    "lla = np.array(ll)\n",
    "packerwins = np.bool_(1-np.array(wins))\n",
    "repwins = np.bool_(wins)\n",
    "plist = np.abs(lla[packerwins,1]-lla[packerwins,2])\n",
    "rlist = np.abs(lla[repwins,1]-lla[repwins,2])\n",
    "print(np.mean(plist),np.min(plist),np.max(plist))\n",
    "print(np.mean(rlist),np.min(rlist),np.max(rlist))\n",
    "print(sum(lla[packerwins,1]))\n",
    "print(sum(lla[repwins,2]))"
   ]
  },
  {
   "cell_type": "code",
   "execution_count": null,
   "metadata": {},
   "outputs": [],
   "source": [
    "# f = plt.figure()\n",
    "plt.hist(rlist,histtype='step')\n",
    "plt.hist(plist,histtype='step')"
   ]
  },
  {
   "cell_type": "code",
   "execution_count": null,
   "metadata": {},
   "outputs": [],
   "source": [
    "plt.hist(plist)"
   ]
  },
  {
   "cell_type": "code",
   "execution_count": null,
   "metadata": {},
   "outputs": [],
   "source": [
    "len(rlist)"
   ]
  },
  {
   "cell_type": "code",
   "execution_count": 10,
   "metadata": {},
   "outputs": [
    {
     "data": {
      "text/plain": [
       "array([7.97884561e+00, 1.53891973e-21])"
      ]
     },
     "execution_count": 10,
     "metadata": {},
     "output_type": "execute_result"
    }
   ],
   "source": [
    "from scipy.stats import norm\n",
    "norm.pdf([0,1],0,.1)+norm.pdf([0,1],0,.1)\n"
   ]
  },
  {
   "cell_type": "code",
   "execution_count": null,
   "metadata": {},
   "outputs": [],
   "source": []
  }
 ],
 "metadata": {
  "kernelspec": {
   "display_name": "Python 2",
   "language": "python",
   "name": "python2"
  },
  "language_info": {
   "codemirror_mode": {
    "name": "ipython",
    "version": 2
   },
   "file_extension": ".py",
   "mimetype": "text/x-python",
   "name": "python",
   "nbconvert_exporter": "python",
   "pygments_lexer": "ipython2",
   "version": "2.7.15"
  }
 },
 "nbformat": 4,
 "nbformat_minor": 2
}

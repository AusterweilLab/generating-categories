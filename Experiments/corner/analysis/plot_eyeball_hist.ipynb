{
 "cells": [
  {
   "cell_type": "code",
   "execution_count": 17,
   "metadata": {},
   "outputs": [
    {
     "data": {
      "text/html": [
       "<div>\n",
       "<style scoped>\n",
       "    .dataframe tbody tr th:only-of-type {\n",
       "        vertical-align: middle;\n",
       "    }\n",
       "\n",
       "    .dataframe tbody tr th {\n",
       "        vertical-align: top;\n",
       "    }\n",
       "\n",
       "    .dataframe thead th {\n",
       "        text-align: right;\n",
       "    }\n",
       "</style>\n",
       "<table border=\"1\" class=\"dataframe\">\n",
       "  <thead>\n",
       "    <tr style=\"text-align: right;\">\n",
       "      <th></th>\n",
       "      <th>condition</th>\n",
       "      <th>gentype</th>\n",
       "      <th>participant</th>\n",
       "    </tr>\n",
       "  </thead>\n",
       "  <tbody>\n",
       "    <tr>\n",
       "      <th>0</th>\n",
       "      <td>Corner_S</td>\n",
       "      <td>1</td>\n",
       "      <td>9</td>\n",
       "    </tr>\n",
       "    <tr>\n",
       "      <th>1</th>\n",
       "      <td>Corner_C</td>\n",
       "      <td>1</td>\n",
       "      <td>10</td>\n",
       "    </tr>\n",
       "    <tr>\n",
       "      <th>2</th>\n",
       "      <td>Corner_S</td>\n",
       "      <td>1</td>\n",
       "      <td>11</td>\n",
       "    </tr>\n",
       "    <tr>\n",
       "      <th>3</th>\n",
       "      <td>Corner_S</td>\n",
       "      <td>1</td>\n",
       "      <td>12</td>\n",
       "    </tr>\n",
       "    <tr>\n",
       "      <th>4</th>\n",
       "      <td>Corner_S</td>\n",
       "      <td>1</td>\n",
       "      <td>14</td>\n",
       "    </tr>\n",
       "    <tr>\n",
       "      <th>5</th>\n",
       "      <td>Corner_S</td>\n",
       "      <td>1</td>\n",
       "      <td>15</td>\n",
       "    </tr>\n",
       "    <tr>\n",
       "      <th>6</th>\n",
       "      <td>Corner_S</td>\n",
       "      <td>1</td>\n",
       "      <td>16</td>\n",
       "    </tr>\n",
       "    <tr>\n",
       "      <th>7</th>\n",
       "      <td>Corner_C</td>\n",
       "      <td>1</td>\n",
       "      <td>17</td>\n",
       "    </tr>\n",
       "    <tr>\n",
       "      <th>8</th>\n",
       "      <td>Corner_C</td>\n",
       "      <td>1</td>\n",
       "      <td>20</td>\n",
       "    </tr>\n",
       "    <tr>\n",
       "      <th>9</th>\n",
       "      <td>Corner_C</td>\n",
       "      <td>1</td>\n",
       "      <td>21</td>\n",
       "    </tr>\n",
       "    <tr>\n",
       "      <th>10</th>\n",
       "      <td>Corner_C</td>\n",
       "      <td>1</td>\n",
       "      <td>22</td>\n",
       "    </tr>\n",
       "    <tr>\n",
       "      <th>11</th>\n",
       "      <td>Corner_S</td>\n",
       "      <td>1</td>\n",
       "      <td>24</td>\n",
       "    </tr>\n",
       "    <tr>\n",
       "      <th>12</th>\n",
       "      <td>Corner_S</td>\n",
       "      <td>1</td>\n",
       "      <td>25</td>\n",
       "    </tr>\n",
       "    <tr>\n",
       "      <th>13</th>\n",
       "      <td>Corner_C</td>\n",
       "      <td>1</td>\n",
       "      <td>26</td>\n",
       "    </tr>\n",
       "    <tr>\n",
       "      <th>14</th>\n",
       "      <td>Corner_C</td>\n",
       "      <td>1</td>\n",
       "      <td>27</td>\n",
       "    </tr>\n",
       "    <tr>\n",
       "      <th>15</th>\n",
       "      <td>Corner_S</td>\n",
       "      <td>1</td>\n",
       "      <td>29</td>\n",
       "    </tr>\n",
       "    <tr>\n",
       "      <th>16</th>\n",
       "      <td>Corner_S</td>\n",
       "      <td>1</td>\n",
       "      <td>30</td>\n",
       "    </tr>\n",
       "    <tr>\n",
       "      <th>17</th>\n",
       "      <td>Corner_C</td>\n",
       "      <td>1</td>\n",
       "      <td>32</td>\n",
       "    </tr>\n",
       "    <tr>\n",
       "      <th>18</th>\n",
       "      <td>Corner_C</td>\n",
       "      <td>1</td>\n",
       "      <td>33</td>\n",
       "    </tr>\n",
       "    <tr>\n",
       "      <th>19</th>\n",
       "      <td>Corner_S</td>\n",
       "      <td>1</td>\n",
       "      <td>37</td>\n",
       "    </tr>\n",
       "    <tr>\n",
       "      <th>20</th>\n",
       "      <td>Corner_S</td>\n",
       "      <td>1</td>\n",
       "      <td>38</td>\n",
       "    </tr>\n",
       "    <tr>\n",
       "      <th>21</th>\n",
       "      <td>Corner_S</td>\n",
       "      <td>1</td>\n",
       "      <td>39</td>\n",
       "    </tr>\n",
       "    <tr>\n",
       "      <th>22</th>\n",
       "      <td>Corner_S</td>\n",
       "      <td>1</td>\n",
       "      <td>40</td>\n",
       "    </tr>\n",
       "    <tr>\n",
       "      <th>23</th>\n",
       "      <td>Corner_S</td>\n",
       "      <td>1</td>\n",
       "      <td>41</td>\n",
       "    </tr>\n",
       "    <tr>\n",
       "      <th>24</th>\n",
       "      <td>Corner_S</td>\n",
       "      <td>1</td>\n",
       "      <td>42</td>\n",
       "    </tr>\n",
       "    <tr>\n",
       "      <th>25</th>\n",
       "      <td>Corner_C</td>\n",
       "      <td>1</td>\n",
       "      <td>44</td>\n",
       "    </tr>\n",
       "    <tr>\n",
       "      <th>26</th>\n",
       "      <td>Corner_C</td>\n",
       "      <td>1</td>\n",
       "      <td>45</td>\n",
       "    </tr>\n",
       "    <tr>\n",
       "      <th>27</th>\n",
       "      <td>Corner_S</td>\n",
       "      <td>1</td>\n",
       "      <td>46</td>\n",
       "    </tr>\n",
       "    <tr>\n",
       "      <th>28</th>\n",
       "      <td>Corner_S</td>\n",
       "      <td>1</td>\n",
       "      <td>52</td>\n",
       "    </tr>\n",
       "    <tr>\n",
       "      <th>29</th>\n",
       "      <td>Corner_C</td>\n",
       "      <td>1</td>\n",
       "      <td>58</td>\n",
       "    </tr>\n",
       "    <tr>\n",
       "      <th>...</th>\n",
       "      <td>...</td>\n",
       "      <td>...</td>\n",
       "      <td>...</td>\n",
       "    </tr>\n",
       "    <tr>\n",
       "      <th>59</th>\n",
       "      <td>Corner_S</td>\n",
       "      <td>1</td>\n",
       "      <td>99</td>\n",
       "    </tr>\n",
       "    <tr>\n",
       "      <th>60</th>\n",
       "      <td>Corner_S</td>\n",
       "      <td>1</td>\n",
       "      <td>100</td>\n",
       "    </tr>\n",
       "    <tr>\n",
       "      <th>61</th>\n",
       "      <td>Corner_C</td>\n",
       "      <td>1</td>\n",
       "      <td>101</td>\n",
       "    </tr>\n",
       "    <tr>\n",
       "      <th>62</th>\n",
       "      <td>Corner_S</td>\n",
       "      <td>1</td>\n",
       "      <td>102</td>\n",
       "    </tr>\n",
       "    <tr>\n",
       "      <th>63</th>\n",
       "      <td>Corner_S</td>\n",
       "      <td>1</td>\n",
       "      <td>103</td>\n",
       "    </tr>\n",
       "    <tr>\n",
       "      <th>64</th>\n",
       "      <td>Corner_C</td>\n",
       "      <td>1</td>\n",
       "      <td>104</td>\n",
       "    </tr>\n",
       "    <tr>\n",
       "      <th>65</th>\n",
       "      <td>Corner_S</td>\n",
       "      <td>1</td>\n",
       "      <td>105</td>\n",
       "    </tr>\n",
       "    <tr>\n",
       "      <th>66</th>\n",
       "      <td>Corner_C</td>\n",
       "      <td>1</td>\n",
       "      <td>106</td>\n",
       "    </tr>\n",
       "    <tr>\n",
       "      <th>67</th>\n",
       "      <td>Corner_C</td>\n",
       "      <td>1</td>\n",
       "      <td>107</td>\n",
       "    </tr>\n",
       "    <tr>\n",
       "      <th>68</th>\n",
       "      <td>Corner_C</td>\n",
       "      <td>1</td>\n",
       "      <td>109</td>\n",
       "    </tr>\n",
       "    <tr>\n",
       "      <th>69</th>\n",
       "      <td>Corner_C</td>\n",
       "      <td>1</td>\n",
       "      <td>110</td>\n",
       "    </tr>\n",
       "    <tr>\n",
       "      <th>70</th>\n",
       "      <td>Corner_C</td>\n",
       "      <td>1</td>\n",
       "      <td>111</td>\n",
       "    </tr>\n",
       "    <tr>\n",
       "      <th>71</th>\n",
       "      <td>Corner_S</td>\n",
       "      <td>1</td>\n",
       "      <td>112</td>\n",
       "    </tr>\n",
       "    <tr>\n",
       "      <th>72</th>\n",
       "      <td>Corner_S</td>\n",
       "      <td>1</td>\n",
       "      <td>113</td>\n",
       "    </tr>\n",
       "    <tr>\n",
       "      <th>73</th>\n",
       "      <td>Corner_S</td>\n",
       "      <td>1</td>\n",
       "      <td>114</td>\n",
       "    </tr>\n",
       "    <tr>\n",
       "      <th>74</th>\n",
       "      <td>Corner_C</td>\n",
       "      <td>1</td>\n",
       "      <td>115</td>\n",
       "    </tr>\n",
       "    <tr>\n",
       "      <th>75</th>\n",
       "      <td>Corner_S</td>\n",
       "      <td>1</td>\n",
       "      <td>116</td>\n",
       "    </tr>\n",
       "    <tr>\n",
       "      <th>76</th>\n",
       "      <td>Corner_S</td>\n",
       "      <td>1</td>\n",
       "      <td>117</td>\n",
       "    </tr>\n",
       "    <tr>\n",
       "      <th>77</th>\n",
       "      <td>Corner_C</td>\n",
       "      <td>1</td>\n",
       "      <td>118</td>\n",
       "    </tr>\n",
       "    <tr>\n",
       "      <th>78</th>\n",
       "      <td>Corner_C</td>\n",
       "      <td>1</td>\n",
       "      <td>119</td>\n",
       "    </tr>\n",
       "    <tr>\n",
       "      <th>79</th>\n",
       "      <td>Corner_C</td>\n",
       "      <td>1</td>\n",
       "      <td>120</td>\n",
       "    </tr>\n",
       "    <tr>\n",
       "      <th>80</th>\n",
       "      <td>Corner_S</td>\n",
       "      <td>1</td>\n",
       "      <td>121</td>\n",
       "    </tr>\n",
       "    <tr>\n",
       "      <th>81</th>\n",
       "      <td>Corner_S</td>\n",
       "      <td>1</td>\n",
       "      <td>122</td>\n",
       "    </tr>\n",
       "    <tr>\n",
       "      <th>82</th>\n",
       "      <td>Corner_C</td>\n",
       "      <td>1</td>\n",
       "      <td>123</td>\n",
       "    </tr>\n",
       "    <tr>\n",
       "      <th>83</th>\n",
       "      <td>Corner_S</td>\n",
       "      <td>1</td>\n",
       "      <td>124</td>\n",
       "    </tr>\n",
       "    <tr>\n",
       "      <th>84</th>\n",
       "      <td>Corner_S</td>\n",
       "      <td>1</td>\n",
       "      <td>126</td>\n",
       "    </tr>\n",
       "    <tr>\n",
       "      <th>85</th>\n",
       "      <td>Corner_C</td>\n",
       "      <td>1</td>\n",
       "      <td>128</td>\n",
       "    </tr>\n",
       "    <tr>\n",
       "      <th>86</th>\n",
       "      <td>Corner_S</td>\n",
       "      <td>1</td>\n",
       "      <td>129</td>\n",
       "    </tr>\n",
       "    <tr>\n",
       "      <th>87</th>\n",
       "      <td>Corner_C</td>\n",
       "      <td>1</td>\n",
       "      <td>130</td>\n",
       "    </tr>\n",
       "    <tr>\n",
       "      <th>88</th>\n",
       "      <td>Corner_S</td>\n",
       "      <td>1</td>\n",
       "      <td>131</td>\n",
       "    </tr>\n",
       "  </tbody>\n",
       "</table>\n",
       "<p>89 rows × 3 columns</p>\n",
       "</div>"
      ],
      "text/plain": [
       "   condition  gentype  participant\n",
       "0   Corner_S        1            9\n",
       "1   Corner_C        1           10\n",
       "2   Corner_S        1           11\n",
       "3   Corner_S        1           12\n",
       "4   Corner_S        1           14\n",
       "5   Corner_S        1           15\n",
       "6   Corner_S        1           16\n",
       "7   Corner_C        1           17\n",
       "8   Corner_C        1           20\n",
       "9   Corner_C        1           21\n",
       "10  Corner_C        1           22\n",
       "11  Corner_S        1           24\n",
       "12  Corner_S        1           25\n",
       "13  Corner_C        1           26\n",
       "14  Corner_C        1           27\n",
       "15  Corner_S        1           29\n",
       "16  Corner_S        1           30\n",
       "17  Corner_C        1           32\n",
       "18  Corner_C        1           33\n",
       "19  Corner_S        1           37\n",
       "20  Corner_S        1           38\n",
       "21  Corner_S        1           39\n",
       "22  Corner_S        1           40\n",
       "23  Corner_S        1           41\n",
       "24  Corner_S        1           42\n",
       "25  Corner_C        1           44\n",
       "26  Corner_C        1           45\n",
       "27  Corner_S        1           46\n",
       "28  Corner_S        1           52\n",
       "29  Corner_C        1           58\n",
       "..       ...      ...          ...\n",
       "59  Corner_S        1           99\n",
       "60  Corner_S        1          100\n",
       "61  Corner_C        1          101\n",
       "62  Corner_S        1          102\n",
       "63  Corner_S        1          103\n",
       "64  Corner_C        1          104\n",
       "65  Corner_S        1          105\n",
       "66  Corner_C        1          106\n",
       "67  Corner_C        1          107\n",
       "68  Corner_C        1          109\n",
       "69  Corner_C        1          110\n",
       "70  Corner_C        1          111\n",
       "71  Corner_S        1          112\n",
       "72  Corner_S        1          113\n",
       "73  Corner_S        1          114\n",
       "74  Corner_C        1          115\n",
       "75  Corner_S        1          116\n",
       "76  Corner_S        1          117\n",
       "77  Corner_C        1          118\n",
       "78  Corner_C        1          119\n",
       "79  Corner_C        1          120\n",
       "80  Corner_S        1          121\n",
       "81  Corner_S        1          122\n",
       "82  Corner_C        1          123\n",
       "83  Corner_S        1          124\n",
       "84  Corner_S        1          126\n",
       "85  Corner_C        1          128\n",
       "86  Corner_S        1          129\n",
       "87  Corner_C        1          130\n",
       "88  Corner_S        1          131\n",
       "\n",
       "[89 rows x 3 columns]"
      ]
     },
     "execution_count": 17,
     "metadata": {},
     "output_type": "execute_result"
    }
   ],
   "source": [
    "temp = pd.read_sql_query(\"SELECT condition,gentype,participant from participants\", con)\n",
    "temp"
   ]
  },
  {
   "cell_type": "code",
   "execution_count": 7,
   "metadata": {
    "scrolled": true
   },
   "outputs": [
    {
     "data": {
      "image/png": "[encoded data removed]",
      "text/plain": [
       "<Figure size 1008x288 with 2 Axes>"
      ]
     },
     "metadata": {
      "needs_background": "light"
     },
     "output_type": "display_data"
    }
   ],
   "source": [
    "import numpy as np\n",
    "import matplotlib.pyplot as plt\n",
    "import pandas as pd\n",
    "import sqlite3\n",
    "import random\n",
    "import pickle\n",
    "# execfile('Imports.py')\n",
    "# import Modules.Funcs as funcs\n",
    "%matplotlib inline\n",
    "\n",
    "#pd.set_option('precision', 2)\n",
    "\n",
    "# import data\n",
    "con = sqlite3.connect('../data/experiment.db')\n",
    "info = pd.read_sql_query(\"SELECT condition,gentype,participant from participants\", con)\n",
    "df = pd.read_sql_query(\"SELECT * from generation\", con)\n",
    "alphas = pd.read_sql_query(\"SELECT * from alphas\", con)\n",
    "stimuli = pd.read_sql_query(\"SELECT * from stimuli\", con).values\n",
    "\n",
    "\n",
    "\n",
    "data = {'condition':'','gentype':0}\n",
    "gentypeStr = ['N','B','C'] #not alpha, only beta, beta-gamma\n",
    "gentypeStrDisp = ['A\\'','B','C'] #not alpha, only beta, beta\n",
    "\n",
    "#info_new = info.copy()\n",
    "info['gentypeStr'] = [gentypeStr[row.gentype] for i,row in info.iterrows()]\n",
    "info['cond_comb'] = [row.condition+gentypeStr[row.gentype] for i,row in info.iterrows()]#info.copy().condition + info.copy().gentype.astype(str)\n",
    "\n",
    "#eyeballed betagroups\n",
    "betagroups = ['Row','Column','Cluster','Dispersed','Positive','Negative']\n",
    "with open('individual_group_counts.p','rb') as f:\n",
    "    data_pd = pickle.load(f)\n",
    "# #Manual entry of eyeballed betagroup\n",
    "# manual = dict(zip(betagroups,[[] for _ in range(len(betagroups))]))\n",
    "# manual['Rows'] = [144,115,18,117,121,186,134,145,54,124,40,127,114,77,49,116,153,120,73,42,47,143,89,141,166,16,46,70]\n",
    "# manual['Columns'] = [28,58,26,64,62,33,104,147,68,177,150,180,39,78,30,82,86,151,110,69,29,20,161,101,91]\n",
    "# manual['Clusters'] = [55,95,59,87,148,97,23,169,149,103,185,99,93,123,19,106,85,126,25,81,74,100]\n",
    "# manual['Dispersed'] = [57,172,75,108,112,72,140,158,184,139,160,154,138,79,21,98,136,43,56,181,61,178,135,163,48,60,22,132,173,36,80,50,159,182,96,71,119,65,131,165,90]\n",
    "# total_len = 0\n",
    "# manual_arr = []\n",
    "# #Convert to array\n",
    "# for group in manual.keys():\n",
    "#     #Remove accidental duplicates\n",
    "#     arr_list = list(np.unique(np.array(manual[group])))    \n",
    "#     total_len += len(arr_list)\n",
    "#     for arr_el in arr_list:\n",
    "#         manual_arr += [[arr_el, group]]\n",
    "        \n",
    "#Merge into new dataframe\n",
    "# manual_pd = pd.DataFrame(columns=('participant','betagroup'),data = manual_arr)\n",
    "info_merge = pd.merge(info.copy(),data_pd,on='participant',how='left')\n",
    "\n",
    "# print('Total n (Manual) = ' + str(total_len))\n",
    "# print('Total n (Actual) = ' + str(len(info)))\n",
    "# if total_len == len(info):\n",
    "#     print('Cool, ns are equal.')\n",
    "# else:\n",
    "#     print('Looks like ns are not equal.')\n",
    "#     #Check for where participants might not be assigned a betagroup\n",
    "#     print([row['participant']  for i,row in info_merge.iterrows() if type(row['betagroup']) != str])\n",
    "\n",
    "#Build histogram\n",
    "plotnames = ['By Alpha Condition','By Generation Condition']#['Pooled','By Alpha Location','By Generation Type(NBC)', 'By Both']\n",
    "conditions = [['condition'],['gentypeStr']]#[[], ['condition'],['gentypeStr'],['cond_comb']]\n",
    "# cond_levels_all = [[None],['XOR','Cluster','Row'],gentypeStr,['XORN','XORB','XORC','ClusterN','ClusterB','ClusterC','RowN','RowB','RowC']]\n",
    "cond_levels_all = [['XOR','Cluster','Row'],gentypeStr]\n",
    "legends = [['Diagonal','Cluster','Row'],['Not Alpha','Only Beta','Beta and Gamma']]\n",
    "# info_merge['betagroup','condition']\n",
    "space = .3\n",
    "fig,axs = plt.subplots(1,len(conditions),figsize=(14,4))#plt.subplots(2,2,figsize=(12,12))\n",
    "\n",
    "\n",
    "for i,split in enumerate(plotnames):\n",
    "    ax = axs.ravel()[i]\n",
    "    groupcond = ['betagroup']+conditions[i]\n",
    "    data_pd = info_merge.groupby(groupcond).participant.count()\n",
    "    cond_levels = cond_levels_all[i]\n",
    "#     if i>0:\n",
    "#         cond_levels = list(np.unique(info_merge[conditions[i]]))\n",
    "#     else:\n",
    "#         cond_levels = [None]\n",
    "    nlevels = len(cond_levels)\n",
    "    xlim = range(1,len(betagroups)+1)\n",
    "    for ci, cgrp in enumerate(cond_levels):\n",
    "        width = (1 - space) / (len(cond_levels))\n",
    "        bary = []\n",
    "        for bi,bgrp in enumerate(betagroups):\n",
    "            if cgrp is None: \n",
    "                bary += [data_pd[bgrp]]\n",
    "            elif cgrp not in data_pd[bgrp].keys():\n",
    "                bary += [0]\n",
    "            else:\n",
    "                bary += [data_pd[bgrp][cgrp]]                \n",
    "        #barx = [j - (1 - space) / 2. + ci * width for j in range(1,len(betagroups)+1)]\n",
    "#         if len(cond_levels) % 2 == 0:  #check if even\n",
    "#             adj_units = len(cond_levels)\n",
    "#             bar_mid_i = [np.floor((len(cond_levels))/2),np.ceil(len(cond_levels)/2)-1]\n",
    "#             bar_mid = ((xlim[int(bar_mid_i[0])] *width) + (xlim[int(bar_mid_i[1])] + width))/2 - width/2 \n",
    "#         else:             #check if odd\n",
    "#             bar_mid_i = [(len(cond_levels)+1)/2-1]\n",
    "#             bar_mid = (xlim[bar_mid_i[0]] * width) - width/2 \n",
    "        barx = [j - width*(len(cond_levels)-1)/2 + ci * width for j in xlim]\n",
    "#         print(bary)\n",
    "        ax.bar(barx,bary,width=width) \n",
    "        if round((nlevels+1)/2.) == (ci+1):  \n",
    "            xticks = barx\n",
    "\n",
    "    ###Need to figure out hist heights\n",
    "    #     if conditions[i] is None:\n",
    "    #         data = list(info_merge.betagroup.as_matrix())\n",
    "    #     else:\n",
    "    #         data_raw = info_merge.groupby(conditions[i]).participant.count()\n",
    "    #     data = list(info_merge.betagroup.as_matrix())\n",
    "    ax.set_title(split)\n",
    "    ax.set_xlim(min(xlim)-(1-space),max(xlim)+(1-space))\n",
    "    ax.set_xlabel('Generated Category Profile',fontdict={'fontsize':12})\n",
    "    ax.set_ylabel('Frequency',fontdict={'fontsize':12})\n",
    "    #xlabstring = [''] * (len(betagroups) * 2)\n",
    "    #xlabstring[1::1] = betagroups\n",
    "    xlabstring = betagroups\n",
    "    ax.set_xticks(xticks)\n",
    "    ax.set_xticklabels(xlabstring,fontdict={'fontsize':12})\n",
    "#     if i>0:\n",
    "    ax.legend(legends[i],loc='upper right')\n",
    "\n",
    "# fig.savefig('eyeball_hist_flat.pdf', bbox_inches='tight', transparent=False)"
   ]
  },
  {
   "cell_type": "code",
   "execution_count": 25,
   "metadata": {},
   "outputs": [
    {
     "name": "stdout",
     "output_type": "stream",
     "text": [
      "0.998738186436\n",
      "(0.11071564370033891, 6.0624767977238485e-09)\n",
      "9.02075039314\n"
     ]
    }
   ],
   "source": [
    "import numpy as np\n",
    "import scipy.integrate as integrate\n",
    "N = 100\n",
    "t = .05\n",
    "r = .707\n",
    "\n",
    "v = N-1;\n",
    "B01numr = (1.+(t**2.)/v)**-((v+1.)/2.);\n",
    "\n",
    "def B01denmFunc(g):\n",
    "    out = ((1.+N*g)**(-1./2.)) * ((1. + (t**2.)/((1.+N*g)*v))**-((v+1.)/2.)) * (r*(2.*np.pi)**(-1./2.)) * (g**(-3./2.)) * np.exp(-(r**2.)/(2.*g))\n",
    "    return out\n",
    "\n",
    "B01denm = integrate.quad(B01denmFunc,0,np.inf)\n",
    "print B01numr\n",
    "print B01denm\n",
    "B01 = B01numr/B01denm[0];\n",
    "\n",
    "print B01\n"
   ]
  },
  {
   "cell_type": "code",
   "execution_count": 14,
   "metadata": {},
   "outputs": [
    {
     "data": {
      "text/plain": [
       "[[0, 1],\n",
       " [0, 2],\n",
       " [0, 3],\n",
       " [0, 4],\n",
       " [0, 5],\n",
       " [1, 2],\n",
       " [1, 3],\n",
       " [1, 4],\n",
       " [1, 5],\n",
       " [2, 3],\n",
       " [2, 4],\n",
       " [2, 5],\n",
       " [3, 4],\n",
       " [3, 5],\n",
       " [4, 5]]"
      ]
     },
     "execution_count": 14,
     "metadata": {},
     "output_type": "execute_result"
    }
   ],
   "source": [
    "a = range(6)\n",
    "[[x,y] for i,x in enumerate(a) for j,y in enumerate(a) if j > i]"
   ]
  },
  {
   "cell_type": "code",
   "execution_count": 8,
   "metadata": {
    "scrolled": true
   },
   "outputs": [
    {
     "data": {
      "text/plain": [
       "5.565091267826707"
      ]
     },
     "execution_count": 8,
     "metadata": {},
     "output_type": "execute_result"
    }
   ],
   "source": [
    "from BF import BFtt\n",
    "BFtt(100,-1)"
   ]
  },
  {
   "cell_type": "code",
   "execution_count": 18,
   "metadata": {},
   "outputs": [
    {
     "data": {
      "text/plain": [
       "<function scipy.stats.stats.ttest_ind>"
      ]
     },
     "execution_count": 18,
     "metadata": {},
     "output_type": "execute_result"
    }
   ],
   "source": [
    "import scipy.stats\n",
    "scipy.stats.ttest_ind\n"
   ]
  },
  {
   "cell_type": "code",
   "execution_count": 312,
   "metadata": {
    "scrolled": false
   },
   "outputs": [
    {
     "name": "stdout",
     "output_type": "stream",
     "text": [
      "[134, 82, 185, 159]\n"
     ]
    },
    {
     "data": {
      "image/png": "[encoded data removed]",
      "text/plain": [
       "<Figure size 576x216 with 4 Axes>"
      ]
     },
     "metadata": {},
     "output_type": "display_data"
    }
   ],
   "source": [
    "#Plot some samples\n",
    "gentypeCols = [[.3,0,.5],[0,0,.5],[0,.5,0]]\n",
    "pids = [random.choice(manual[grp]) for grp in betagroups]#[134,150,148,112]\n",
    "print pids\n",
    "fig,axs = plt.subplots(1,len(pids),figsize=(8,3))\n",
    "for i,pid in enumerate(pids):\n",
    "    ax = axs[i]\n",
    "    info_p = info.loc[info.participant==pid]\n",
    "    condition,gentype = info_p.condition.as_matrix()[0],info_p.gentype.as_matrix()[0]\n",
    "    palphas = alphas[condition]\n",
    "    pbetas = df.stimulus[df.participant == pid]\n",
    "    titlestr = betagroups[i]\n",
    "    if gentype==2:\n",
    "        pdf = df.loc[df.participant==pid]\n",
    "        betastr = [gentypeStrDisp[1] if pdf_row.category=='Beta' else gentypeStrDisp[2] for ii,\\\n",
    "pdf_row in pdf.iterrows() ]\n",
    "        betacol = [gentypeCols[1] if pdf_row.category=='Beta' else gentypeCols[2] for ii,pdf_ro\\\n",
    "w in pdf.iterrows() ]\n",
    "    else:\n",
    "        betastr = gentypeStrDisp[gentype]\n",
    "        betacol = gentypeCols[gentype]\n",
    "    \n",
    "    funcs.plotclasses(ax, stimuli, palphas, pbetas, betastr=betastr,betacol = betacol)\n",
    "    ax.set_title(titlestr)"
   ]
  },
  {
   "cell_type": "code",
   "execution_count": 284,
   "metadata": {},
   "outputs": [
    {
     "name": "stdout",
     "output_type": "stream",
     "text": [
      "Bottom\n"
     ]
    }
   ],
   "source": [
    "condition = info.loc[info.participant==pid].condition.as_matrix()[0]\n",
    "print condition\n"
   ]
  },
  {
   "cell_type": "code",
   "execution_count": 132,
   "metadata": {},
   "outputs": [
    {
     "data": {
      "text/plain": [
       "12"
      ]
     },
     "execution_count": 132,
     "metadata": {},
     "output_type": "execute_result"
    }
   ],
   "source": [
    "info_merge.groupby(['betagroup']+['condition']).participant.count()['Clusters']['Bottom']"
   ]
  },
  {
   "cell_type": "code",
   "execution_count": 44,
   "metadata": {},
   "outputs": [],
   "source": [
    "plt.bar([0,1,2],[[1,2],[3,3],[0,3]])"
   ]
  },
  {
   "cell_type": "code",
   "execution_count": 118,
   "metadata": {},
   "outputs": [
    {
     "name": "stdout",
     "output_type": "stream",
     "text": [
      "Alpha     int64\n",
      "Beta     object\n",
      "dtype: object\n",
      "   Alpha Beta\n",
      "0      2    2\n",
      "1      3    1\n",
      "   Alpha Beta Gamma\n",
      "0      2    2    hi\n",
      "1      3    1   his\n",
      "   Alpha Gamma Theta\n",
      "0      2    hi   hi2\n",
      "1      3   his  his1\n"
     ]
    }
   ],
   "source": []
  },
  {
   "cell_type": "code",
   "execution_count": 186,
   "metadata": {},
   "outputs": [
    {
     "name": "stdout",
     "output_type": "stream",
     "text": [
      "['', 'Rows', '', 'Columns', '', 'Clusters', '', 'Dispersed']\n"
     ]
    }
   ],
   "source": [
    "    xlabstring = [''] * (len(betagroups) * 2)\n",
    "    xlabstring[1::2] = betagroups\n",
    "    print xlabstring"
   ]
  },
  {
   "cell_type": "code",
   "execution_count": 205,
   "metadata": {},
   "outputs": [
    {
     "data": {
      "text/plain": [
       "[0.7666666666666667,\n",
       " 1.7666666666666666,\n",
       " 2.7666666666666666,\n",
       " 3.7666666666666666]"
      ]
     },
     "execution_count": 205,
     "metadata": {},
     "output_type": "execute_result"
    }
   ],
   "source": [
    "[j - (1 - space) / 2. + 1 * width for j in range(1,len(betagroups)+1)]"
   ]
  },
  {
   "cell_type": "code",
   "execution_count": 180,
   "metadata": {},
   "outputs": [
    {
     "data": {
      "text/plain": [
       "[('Rows', ''), ('Columns', ''), ('Clusters', ''), ('Dispersed', '')]"
      ]
     },
     "execution_count": 180,
     "metadata": {},
     "output_type": "execute_result"
    }
   ],
   "source": [
    "zip(betagroups,['' for _ in range(len(betagroups))])"
   ]
  },
  {
   "cell_type": "code",
   "execution_count": 196,
   "metadata": {},
   "outputs": [
    {
     "data": {
      "text/plain": [
       "0.11666666666666665"
      ]
     },
     "execution_count": 196,
     "metadata": {},
     "output_type": "execute_result"
    }
   ],
   "source": [
    "[j - (1 - space) / 2. + 1 * width for j in range(1,len(betagroups)+1)]"
   ]
  },
  {
   "cell_type": "code",
   "execution_count": 204,
   "metadata": {},
   "outputs": [
    {
     "data": {
      "text/plain": [
       "(0.3, 0.11666666666666665)"
      ]
     },
     "execution_count": 204,
     "metadata": {},
     "output_type": "execute_result"
    }
   ],
   "source": [
    "space, width"
   ]
  },
  {
   "cell_type": "code",
   "execution_count": 216,
   "metadata": {},
   "outputs": [
    {
     "data": {
      "text/plain": [
       "4"
      ]
     },
     "execution_count": 216,
     "metadata": {},
     "output_type": "execute_result"
    }
   ],
   "source": [
    "max([1,2,3,4])"
   ]
  },
  {
   "cell_type": "code",
   "execution_count": 245,
   "metadata": {},
   "outputs": [
    {
     "data": {
      "text/plain": [
       "2.0"
      ]
     },
     "execution_count": 245,
     "metadata": {},
     "output_type": "execute_result"
    }
   ],
   "source": [
    "bar_mid_i[0]"
   ]
  },
  {
   "cell_type": "code",
   "execution_count": 247,
   "metadata": {},
   "outputs": [
    {
     "data": {
      "text/plain": [
       "3.583333333333333"
      ]
     },
     "execution_count": 247,
     "metadata": {},
     "output_type": "execute_result"
    }
   ],
   "source": [
    "bar_mid"
   ]
  },
  {
   "cell_type": "code",
   "execution_count": null,
   "metadata": {},
   "outputs": [],
   "source": []
  }
 ],
 "metadata": {
  "kernelspec": {
   "display_name": "Python 2",
   "language": "python",
   "name": "python2"
  },
  "language_info": {
   "codemirror_mode": {
    "name": "ipython",
    "version": 2
   },
   "file_extension": ".py",
   "mimetype": "text/x-python",
   "name": "python",
   "nbconvert_exporter": "python",
   "pygments_lexer": "ipython2",
   "version": "2.7.15"
  }
 },
 "nbformat": 4,
 "nbformat_minor": 2
}

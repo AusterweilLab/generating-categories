{
 "cells": [
  {
   "cell_type": "code",
   "execution_count": 14,
   "metadata": {},
   "outputs": [
    {
     "data": {
      "text/plain": [
       "MultiIndex(levels=[[u'Cluster', u'Column', u'Dispersed', u'Irregular', u'Negative', u'Positive', u'Row'], [u'ClusterB', u'ClusterC', u'ClusterN', u'RowB', u'RowC', u'RowN', u'XORB', u'XORC', u'XORN']],\n",
       "           labels=[[0, 0, 0, 0, 0, 0, 0, 0, 0, 1, 1, 1, 1, 1, 1, 1, 1, 1, 2, 2, 2, 2, 2, 2, 2, 2, 3, 3, 3, 3, 3, 3, 4, 4, 4, 4, 4, 5, 5, 5, 5, 5, 5, 6, 6, 6, 6, 6, 6, 6, 6, 6], [0, 1, 2, 3, 4, 5, 6, 7, 8, 0, 1, 2, 3, 4, 5, 6, 7, 8, 0, 1, 2, 3, 5, 6, 7, 8, 0, 2, 5, 6, 7, 8, 0, 3, 5, 6, 8, 0, 1, 4, 5, 6, 8, 0, 1, 2, 3, 4, 5, 6, 7, 8]],\n",
       "           names=[u'betagroup', u'cond_comb'])"
      ]
     },
     "execution_count": 14,
     "metadata": {},
     "output_type": "execute_result"
    }
   ],
   "source": [
    "data_pd.keys()"
   ]
  },
  {
   "cell_type": "code",
   "execution_count": 26,
   "metadata": {
    "scrolled": false
   },
   "outputs": [
    {
     "data": {
      "image/png": "[encoded data removed]",
      "text/plain": [
       "<Figure size 1008x288 with 2 Axes>"
      ]
     },
     "metadata": {
      "needs_background": "light"
     },
     "output_type": "display_data"
    }
   ],
   "source": [
    "import numpy as np\n",
    "import matplotlib.pyplot as plt\n",
    "import pandas as pd\n",
    "import sqlite3\n",
    "import random\n",
    "import pickle\n",
    "# execfile('Imports.py')\n",
    "# import Modules.Funcs as funcs\n",
    "%matplotlib inline\n",
    "\n",
    "#pd.set_option('precision', 2)\n",
    "\n",
    "# import data\n",
    "con = sqlite3.connect('../data/experiment.db')\n",
    "info = pd.read_sql_query(\"SELECT condition,gentype,participant from participants\", con)\n",
    "df = pd.read_sql_query(\"SELECT * from generation\", con)\n",
    "alphas = pd.read_sql_query(\"SELECT * from alphas\", con)\n",
    "stimuli = pd.read_sql_query(\"SELECT * from stimuli\", con).values\n",
    "\n",
    "#Set colormap                                                                                                 \n",
    "csteps = 4\n",
    "palette = [[.8-float(rc)/csteps for rrc in range(3)] for rc in range(csteps)]\n",
    "plt.rc('image',cmap=palette)\n",
    "\n",
    "\n",
    "data = {'condition':'','gentype':0}\n",
    "gentypeStr = ['N','B','C'] #not alpha, only beta, beta-gamma\n",
    "gentypeStrDisp = ['A\\'','B','C'] #not alpha, only beta, beta\n",
    "\n",
    "#info_new = info.copy()\n",
    "info['gentypeStr'] = [gentypeStr[row.gentype] for i,row in info.iterrows()]\n",
    "info['cond_comb'] = [row.condition+gentypeStr[row.gentype] for i,row in info.iterrows()]#info.copy().condition + info.copy().gentype.astype(str)\n",
    "\n",
    "#eyeballed betagroups\n",
    "betagroups = ['Row','Column','Cluster','Dispersed','Positive','Negative']\n",
    "with open('individual_group_counts.p','rb') as f:\n",
    "    data_pd = pickle.load(f)\n",
    "# #Manual entry of eyeballed betagroup\n",
    "# manual = dict(zip(betagroups,[[] for _ in range(len(betagroups))]))\n",
    "# manual['Rows'] = [144,115,18,117,121,186,134,145,54,124,40,127,114,77,49,116,153,120,73,42,47,143,89,141,166,16,46,70]\n",
    "# manual['Columns'] = [28,58,26,64,62,33,104,147,68,177,150,180,39,78,30,82,86,151,110,69,29,20,161,101,91]\n",
    "# manual['Clusters'] = [55,95,59,87,148,97,23,169,149,103,185,99,93,123,19,106,85,126,25,81,74,100]\n",
    "# manual['Dispersed'] = [57,172,75,108,112,72,140,158,184,139,160,154,138,79,21,98,136,43,56,181,61,178,135,163,48,60,22,132,173,36,80,50,159,182,96,71,119,65,131,165,90]\n",
    "# total_len = 0\n",
    "# manual_arr = []\n",
    "# #Convert to array\n",
    "# for group in manual.keys():\n",
    "#     #Remove accidental duplicates\n",
    "#     arr_list = list(np.unique(np.array(manual[group])))    \n",
    "#     total_len += len(arr_list)\n",
    "#     for arr_el in arr_list:\n",
    "#         manual_arr += [[arr_el, group]]\n",
    "        \n",
    "#Merge into new dataframe\n",
    "# manual_pd = pd.DataFrame(columns=('participant','betagroup'),data = manual_arr)\n",
    "info_merge = pd.merge(info.copy(),data_pd,on='participant',how='left')\n",
    "\n",
    "# print('Total n (Manual) = ' + str(total_len))\n",
    "# print('Total n (Actual) = ' + str(len(info)))\n",
    "# if total_len == len(info):\n",
    "#     print('Cool, ns are equal.')\n",
    "# else:\n",
    "#     print('Looks like ns are not equal.')\n",
    "#     #Check for where participants might not be assigned a betagroup\n",
    "#     print([row['participant']  for i,row in info_merge.iterrows() if type(row['betagroup']) != str])\n",
    "\n",
    "#Build histogram\n",
    "plotnames = ['By Alpha Condition','By Generation Condition']#['Pooled','By Alpha Location','By Generation Type(NBC)', 'By Both']\n",
    "conditions = [['condition'],['gentypeStr']]#[[], ['condition'],['gentypeStr'],['cond_comb']]\n",
    "# cond_levels_all = [[None],['XOR','Cluster','Row'],gentypeStr,['XORN','XORB','XORC','ClusterN','ClusterB','ClusterC','RowN','RowB','RowC']]\n",
    "cond_levels_all = [['XOR','Cluster','Row'],gentypeStr]\n",
    "legends = [['Diagonal','Cluster','Row'],['Not Alpha','Only Beta','Beta and Gamma']]\n",
    "# info_merge['betagroup','condition']\n",
    "space = .3\n",
    "fig,axs = plt.subplots(1,len(conditions),figsize=(14,4))#plt.subplots(2,2,figsize=(12,12))\n",
    "\n",
    "\n",
    "for i,split in enumerate(plotnames):\n",
    "    ax = axs.ravel()[i]\n",
    "    groupcond = ['betagroup']+conditions[i]\n",
    "    lll\n",
    "    data_pd = info_merge.groupby(groupcond).participant.count()\n",
    "    cond_levels = cond_levels_all[i]\n",
    "#     if i>0:\n",
    "#         cond_levels = list(np.unique(info_merge[conditions[i]]))\n",
    "#     else:\n",
    "#         cond_levels = [None]\n",
    "    nlevels = len(cond_levels)\n",
    "    xlim = range(1,len(betagroups)+1)\n",
    "    for ci, cgrp in enumerate(cond_levels):\n",
    "        width = (1 - space) / (len(cond_levels))\n",
    "        bary = []\n",
    "        for bi,bgrp in enumerate(betagroups):\n",
    "            if cgrp is None: \n",
    "                bary += [data_pd[bgrp]]\n",
    "            elif cgrp not in data_pd[bgrp].keys():\n",
    "                bary += [0]\n",
    "            else:\n",
    "                bary += [data_pd[bgrp][cgrp]]                \n",
    "        #barx = [j - (1 - space) / 2. + ci * width for j in range(1,len(betagroups)+1)]\n",
    "#         if len(cond_levels) % 2 == 0:  #check if even\n",
    "#             adj_units = len(cond_levels)\n",
    "#             bar_mid_i = [np.floor((len(cond_levels))/2),np.ceil(len(cond_levels)/2)-1]\n",
    "#             bar_mid = ((xlim[int(bar_mid_i[0])] *width) + (xlim[int(bar_mid_i[1])] + width))/2 - width/2 \n",
    "#         else:             #check if odd\n",
    "#             bar_mid_i = [(len(cond_levels)+1)/2-1]\n",
    "#             bar_mid = (xlim[bar_mid_i[0]] * width) - width/2 \n",
    "        barx = [j - width*(len(cond_levels)-1)/2 + ci * width for j in xlim]\n",
    "#         print(bary)\n",
    "        ax.bar(barx,bary,width=width,color=palette[ci]) \n",
    "        if round((nlevels+1)/2.) == (ci+1):  \n",
    "            xticks = barx\n",
    "\n",
    "    ###Need to figure out hist heights\n",
    "    #     if conditions[i] is None:\n",
    "    #         data = list(info_merge.betagroup.as_matrix())\n",
    "    #     else:\n",
    "    #         data_raw = info_merge.groupby(conditions[i]).participant.count()\n",
    "    #     data = list(info_merge.betagroup.as_matrix())\n",
    "    ax.set_title(split)\n",
    "    ax.set_xlim(min(xlim)-(1-space),max(xlim)+(1-space))\n",
    "    ax.set_xlabel('Generated Category Profile',fontdict={'fontsize':12})\n",
    "    ax.set_ylabel('Frequency',fontdict={'fontsize':12})\n",
    "    #xlabstring = [''] * (len(betagroups) * 2)\n",
    "    #xlabstring[1::1] = betagroups\n",
    "    xlabstring = betagroups\n",
    "    ax.set_xticks(xticks)\n",
    "    ax.set_xticklabels(xlabstring,fontdict={'fontsize':12})\n",
    "#     if i>0:\n",
    "    ax.legend(legends[i],loc='upper right')\n",
    "\n",
    "# fig.savefig('eyeball_hist_flat.png', bbox_inches='tight', transparent=False)"
   ]
  },
  {
   "cell_type": "code",
   "execution_count": 28,
   "metadata": {},
   "outputs": [
    {
     "data": {
      "text/plain": [
       "betagroup  gentypeStr\n",
       "Cluster    B             13\n",
       "           C             19\n",
       "           N             11\n",
       "Column     B             13\n",
       "           C             13\n",
       "           N             13\n",
       "Dispersed  B             17\n",
       "           C              6\n",
       "           N             39\n",
       "Negative   B              5\n",
       "           N              3\n",
       "Positive   B              4\n",
       "           C              2\n",
       "           N              3\n",
       "Row        B             30\n",
       "           C             36\n",
       "           N             13\n",
       "Name: participant, dtype: int64"
      ]
     },
     "execution_count": 28,
     "metadata": {},
     "output_type": "execute_result"
    }
   ],
   "source": [
    "data_pd"
   ]
  },
  {
   "cell_type": "code",
   "execution_count": 25,
   "metadata": {},
   "outputs": [
    {
     "name": "stdout",
     "output_type": "stream",
     "text": [
      "0.998738186436\n",
      "(0.11071564370033891, 6.0624767977238485e-09)\n",
      "9.02075039314\n"
     ]
    }
   ],
   "source": [
    "import numpy as np\n",
    "import scipy.integrate as integrate\n",
    "N = 100\n",
    "t = .05\n",
    "r = .707\n",
    "\n",
    "v = N-1;\n",
    "B01numr = (1.+(t**2.)/v)**-((v+1.)/2.);\n",
    "\n",
    "def B01denmFunc(g):\n",
    "    out = ((1.+N*g)**(-1./2.)) * ((1. + (t**2.)/((1.+N*g)*v))**-((v+1.)/2.)) * (r*(2.*np.pi)**(-1./2.)) * (g**(-3./2.)) * np.exp(-(r**2.)/(2.*g))\n",
    "    return out\n",
    "\n",
    "B01denm = integrate.quad(B01denmFunc,0,np.inf)\n",
    "print B01numr\n",
    "print B01denm\n",
    "B01 = B01numr/B01denm[0];\n",
    "\n",
    "print B01\n"
   ]
  },
  {
   "cell_type": "code",
   "execution_count": 14,
   "metadata": {},
   "outputs": [
    {
     "data": {
      "text/plain": [
       "[[0, 1],\n",
       " [0, 2],\n",
       " [0, 3],\n",
       " [0, 4],\n",
       " [0, 5],\n",
       " [1, 2],\n",
       " [1, 3],\n",
       " [1, 4],\n",
       " [1, 5],\n",
       " [2, 3],\n",
       " [2, 4],\n",
       " [2, 5],\n",
       " [3, 4],\n",
       " [3, 5],\n",
       " [4, 5]]"
      ]
     },
     "execution_count": 14,
     "metadata": {},
     "output_type": "execute_result"
    }
   ],
   "source": [
    "a = range(6)\n",
    "[[x,y] for i,x in enumerate(a) for j,y in enumerate(a) if j > i]"
   ]
  },
  {
   "cell_type": "code",
   "execution_count": 8,
   "metadata": {
    "scrolled": true
   },
   "outputs": [
    {
     "data": {
      "text/plain": [
       "5.565091267826707"
      ]
     },
     "execution_count": 8,
     "metadata": {},
     "output_type": "execute_result"
    }
   ],
   "source": [
    "from BF import BFtt\n",
    "BFtt(100,-1)"
   ]
  },
  {
   "cell_type": "code",
   "execution_count": 18,
   "metadata": {},
   "outputs": [
    {
     "data": {
      "text/plain": [
       "<function scipy.stats.stats.ttest_ind>"
      ]
     },
     "execution_count": 18,
     "metadata": {},
     "output_type": "execute_result"
    }
   ],
   "source": [
    "import scipy.stats\n",
    "scipy.stats.ttest_ind\n"
   ]
  },
  {
   "cell_type": "code",
   "execution_count": 312,
   "metadata": {
    "scrolled": false
   },
   "outputs": [
    {
     "name": "stdout",
     "output_type": "stream",
     "text": [
      "[134, 82, 185, 159]\n"
     ]
    },
    {
     "data": {
      "image/png": "[encoded data removed]",
      "text/plain": [
       "<Figure size 576x216 with 4 Axes>"
      ]
     },
     "metadata": {},
     "output_type": "display_data"
    }
   ],
   "source": [
    "#Plot some samples\n",
    "gentypeCols = [[.3,0,.5],[0,0,.5],[0,.5,0]]\n",
    "pids = [random.choice(manual[grp]) for grp in betagroups]#[134,150,148,112]\n",
    "print pids\n",
    "fig,axs = plt.subplots(1,len(pids),figsize=(8,3))\n",
    "for i,pid in enumerate(pids):\n",
    "    ax = axs[i]\n",
    "    info_p = info.loc[info.participant==pid]\n",
    "    condition,gentype = info_p.condition.as_matrix()[0],info_p.gentype.as_matrix()[0]\n",
    "    palphas = alphas[condition]\n",
    "    pbetas = df.stimulus[df.participant == pid]\n",
    "    titlestr = betagroups[i]\n",
    "    if gentype==2:\n",
    "        pdf = df.loc[df.participant==pid]\n",
    "        betastr = [gentypeStrDisp[1] if pdf_row.category=='Beta' else gentypeStrDisp[2] for ii,\\\n",
    "pdf_row in pdf.iterrows() ]\n",
    "        betacol = [gentypeCols[1] if pdf_row.category=='Beta' else gentypeCols[2] for ii,pdf_ro\\\n",
    "w in pdf.iterrows() ]\n",
    "    else:\n",
    "        betastr = gentypeStrDisp[gentype]\n",
    "        betacol = gentypeCols[gentype]\n",
    "    \n",
    "    funcs.plotclasses(ax, stimuli, palphas, pbetas, betastr=betastr,betacol = betacol)\n",
    "    ax.set_title(titlestr)"
   ]
  },
  {
   "cell_type": "code",
   "execution_count": 284,
   "metadata": {},
   "outputs": [
    {
     "name": "stdout",
     "output_type": "stream",
     "text": [
      "Bottom\n"
     ]
    }
   ],
   "source": [
    "condition = info.loc[info.participant==pid].condition.as_matrix()[0]\n",
    "print condition\n"
   ]
  },
  {
   "cell_type": "code",
   "execution_count": 132,
   "metadata": {},
   "outputs": [
    {
     "data": {
      "text/plain": [
       "12"
      ]
     },
     "execution_count": 132,
     "metadata": {},
     "output_type": "execute_result"
    }
   ],
   "source": [
    "info_merge.groupby(['betagroup']+['condition']).participant.count()['Clusters']['Bottom']"
   ]
  },
  {
   "cell_type": "code",
   "execution_count": 44,
   "metadata": {},
   "outputs": [],
   "source": [
    "plt.bar([0,1,2],[[1,2],[3,3],[0,3]])"
   ]
  },
  {
   "cell_type": "code",
   "execution_count": 118,
   "metadata": {},
   "outputs": [
    {
     "name": "stdout",
     "output_type": "stream",
     "text": [
      "Alpha     int64\n",
      "Beta     object\n",
      "dtype: object\n",
      "   Alpha Beta\n",
      "0      2    2\n",
      "1      3    1\n",
      "   Alpha Beta Gamma\n",
      "0      2    2    hi\n",
      "1      3    1   his\n",
      "   Alpha Gamma Theta\n",
      "0      2    hi   hi2\n",
      "1      3   his  his1\n"
     ]
    }
   ],
   "source": []
  },
  {
   "cell_type": "code",
   "execution_count": 186,
   "metadata": {},
   "outputs": [
    {
     "name": "stdout",
     "output_type": "stream",
     "text": [
      "['', 'Rows', '', 'Columns', '', 'Clusters', '', 'Dispersed']\n"
     ]
    }
   ],
   "source": [
    "    xlabstring = [''] * (len(betagroups) * 2)\n",
    "    xlabstring[1::2] = betagroups\n",
    "    print xlabstring"
   ]
  },
  {
   "cell_type": "code",
   "execution_count": 205,
   "metadata": {},
   "outputs": [
    {
     "data": {
      "text/plain": [
       "[0.7666666666666667,\n",
       " 1.7666666666666666,\n",
       " 2.7666666666666666,\n",
       " 3.7666666666666666]"
      ]
     },
     "execution_count": 205,
     "metadata": {},
     "output_type": "execute_result"
    }
   ],
   "source": [
    "[j - (1 - space) / 2. + 1 * width for j in range(1,len(betagroups)+1)]"
   ]
  },
  {
   "cell_type": "code",
   "execution_count": 180,
   "metadata": {},
   "outputs": [
    {
     "data": {
      "text/plain": [
       "[('Rows', ''), ('Columns', ''), ('Clusters', ''), ('Dispersed', '')]"
      ]
     },
     "execution_count": 180,
     "metadata": {},
     "output_type": "execute_result"
    }
   ],
   "source": [
    "zip(betagroups,['' for _ in range(len(betagroups))])"
   ]
  },
  {
   "cell_type": "code",
   "execution_count": 196,
   "metadata": {},
   "outputs": [
    {
     "data": {
      "text/plain": [
       "0.11666666666666665"
      ]
     },
     "execution_count": 196,
     "metadata": {},
     "output_type": "execute_result"
    }
   ],
   "source": [
    "[j - (1 - space) / 2. + 1 * width for j in range(1,len(betagroups)+1)]"
   ]
  },
  {
   "cell_type": "code",
   "execution_count": 204,
   "metadata": {},
   "outputs": [
    {
     "data": {
      "text/plain": [
       "(0.3, 0.11666666666666665)"
      ]
     },
     "execution_count": 204,
     "metadata": {},
     "output_type": "execute_result"
    }
   ],
   "source": [
    "space, width"
   ]
  },
  {
   "cell_type": "code",
   "execution_count": 216,
   "metadata": {},
   "outputs": [
    {
     "data": {
      "text/plain": [
       "4"
      ]
     },
     "execution_count": 216,
     "metadata": {},
     "output_type": "execute_result"
    }
   ],
   "source": [
    "max([1,2,3,4])"
   ]
  },
  {
   "cell_type": "code",
   "execution_count": 245,
   "metadata": {},
   "outputs": [
    {
     "data": {
      "text/plain": [
       "2.0"
      ]
     },
     "execution_count": 245,
     "metadata": {},
     "output_type": "execute_result"
    }
   ],
   "source": [
    "bar_mid_i[0]"
   ]
  },
  {
   "cell_type": "code",
   "execution_count": 247,
   "metadata": {},
   "outputs": [
    {
     "data": {
      "text/plain": [
       "3.583333333333333"
      ]
     },
     "execution_count": 247,
     "metadata": {},
     "output_type": "execute_result"
    }
   ],
   "source": [
    "bar_mid"
   ]
  },
  {
   "cell_type": "code",
   "execution_count": 25,
   "metadata": {},
   "outputs": [
    {
     "data": {
      "text/plain": [
       "array([0.56644788])"
      ]
     },
     "execution_count": 25,
     "metadata": {},
     "output_type": "execute_result"
    }
   ],
   "source": [
    "ti = np.unravel_index([3],(2,2))\n",
    "aa = np.random.rand(2,2)\n",
    "aa[ti]"
   ]
  },
  {
   "cell_type": "code",
   "execution_count": 24,
   "metadata": {},
   "outputs": [
    {
     "data": {
      "text/plain": [
       "array([[0.72447706, 0.85182965],\n",
       "       [0.1402165 , 0.54666699]])"
      ]
     },
     "execution_count": 24,
     "metadata": {},
     "output_type": "execute_result"
    }
   ],
   "source": [
    "aa"
   ]
  },
  {
   "cell_type": "code",
   "execution_count": null,
   "metadata": {},
   "outputs": [],
   "source": []
  }
 ],
 "metadata": {
  "kernelspec": {
   "display_name": "Python 2",
   "language": "python",
   "name": "python2"
  },
  "language_info": {
   "codemirror_mode": {
    "name": "ipython",
    "version": 2
   },
   "file_extension": ".py",
   "mimetype": "text/x-python",
   "name": "python",
   "nbconvert_exporter": "python",
   "pygments_lexer": "ipython2",
   "version": "2.7.15"
  }
 },
 "nbformat": 4,
 "nbformat_minor": 2
}
